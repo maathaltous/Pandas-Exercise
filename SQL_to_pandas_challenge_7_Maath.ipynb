{
  "cells": [
    {
      "cell_type": "markdown",
      "metadata": {
        "id": "6S891YTOFwFw"
      },
      "source": [
        "# From SQL to pandas challenge 7"
      ]
    },
    {
      "cell_type": "code",
      "execution_count": null,
      "metadata": {
        "id": "KJANm_M4FwF2"
      },
      "outputs": [],
      "source": [
        "# import libraries\n",
        "import pandas as pd\n",
        "\n",
        "# load data\n",
        "# This code is made to load our data stored on Google Drive\n",
        "def gd_path(file_id):\n",
        "    \"\"\"Generate a shareable link from Google Drive file id.\"\"\"\n",
        "    return f\"https://drive.google.com/uc?export=download&id={file_id}\"\n",
        "\n",
        "# Google Drive file ids\n",
        "files_id = {\n",
        "    \"titleauthor\": \"1F1JOiYXStWacOBca6coNVfyVtoST7ZgD\",\n",
        "    \"titles\": \"1PLdn50N9GRa53ZbuVWo0l47F_IXdvlEm\",\n",
        "    \"stores\": \"1f-GCgip7O93CpbAkYvOsc21eKnSOSHsQ\", \n",
        "    \"sales\": \"1fzFc9rwYmVIPaGOFmhLVxCi3kg19vNU2\", \n",
        "    \"roysched\": \"1zPRZPoFPEMKyrNR5VSENeYFHGCBZmxbs\", \n",
        "    \"publishers\": \"1s9E8_AVOziTrowb3wyh2jg3PV763VOyq\",\n",
        "    \"pub_info\": \"1OEgogcGKy--EpuVj0kqq7lyBZNGW6YSv\", \n",
        "    \"jobs\": \"1V1Za8hUdXD-vJOyRdX4aQV5wanIff2eM\", \n",
        "    \"employee\": \"1h9mUjsVqpP74b1w0x7KOw37n_n9Ulkt5\", \n",
        "    \"discounts\": \"111dvSxMcCsTgOuV1wDSKFJxO1Xcxd9VS\", \n",
        "    \"authors\": \"1fEF89Nhe61EebAljKlwFwfEuokK0o6aJ\"\n",
        "}\n",
        "\n",
        "# Read data from Google Drive\n",
        "authors = pd.read_csv(gd_path(files_id[\"authors\"]), sep=\";\")\n",
        "titles = pd.read_csv(gd_path(files_id[\"titles\"]), sep=\";\")\n",
        "sales = pd.read_csv(gd_path(files_id[\"sales\"]), sep=\";\")\n",
        "employee = pd.read_csv(gd_path(files_id[\"employee\"]), sep=\";\")"
      ]
    },
    {
      "cell_type": "markdown",
      "metadata": {
        "id": "3x-iXp2GFwF4"
      },
      "source": [
        "## 1. Find the total amount of authors for each state"
      ]
    },
    {
      "cell_type": "code",
      "execution_count": null,
      "metadata": {
        "id": "SiPaXMEpFwF5",
        "outputId": "f02d2848-1e29-4191-ff5b-3ac1d6def9b5"
      },
      "outputs": [
        {
          "data": {
            "text/plain": [
              "state\n",
              "CA    15\n",
              "IN     1\n",
              "KS     1\n",
              "MD     1\n",
              "MI     1\n",
              "OR     1\n",
              "TN     1\n",
              "UT     2\n",
              "Name: au_id, dtype: int64"
            ]
          },
          "execution_count": 2,
          "metadata": {},
          "output_type": "execute_result"
        }
      ],
      "source": [
        "(\n",
        "authors\n",
        "    .groupby(by='state')\n",
        "        ['au_id'].count()\n",
        ")"
      ]
    },
    {
      "cell_type": "markdown",
      "metadata": {
        "id": "71tzvz68FwF6"
      },
      "source": [
        "### Hint:"
      ]
    },
    {
      "cell_type": "markdown",
      "metadata": {
        "id": "Va_cUKSPFwF6"
      },
      "source": [
        "In SQL the syntax is:\n",
        "\n",
        "```sql\n",
        "SELECT COUNT(au_id) , state\n",
        "FROM authors\n",
        "group by state;\n",
        "```"
      ]
    },
    {
      "cell_type": "markdown",
      "metadata": {
        "id": "hYOsg693FwF6"
      },
      "source": [
        "## 2. Find the total amount of authors by each state and order them in descending order"
      ]
    },
    {
      "cell_type": "code",
      "execution_count": null,
      "metadata": {
        "id": "mcebsMxuFwF7",
        "outputId": "06ccb6b2-8de7-49f0-dcb7-9b5016482f61"
      },
      "outputs": [
        {
          "data": {
            "text/plain": [
              "state\n",
              "CA    15\n",
              "UT     2\n",
              "IN     1\n",
              "KS     1\n",
              "MD     1\n",
              "MI     1\n",
              "OR     1\n",
              "TN     1\n",
              "Name: au_id, dtype: int64"
            ]
          },
          "execution_count": 3,
          "metadata": {},
          "output_type": "execute_result"
        }
      ],
      "source": [
        "(\n",
        "authors\n",
        "    .groupby(by='state')\n",
        "        ['au_id'].count()\n",
        "    .sort_values(ascending=False)\n",
        ")"
      ]
    },
    {
      "cell_type": "markdown",
      "metadata": {
        "id": "hgxvW5amFwF7"
      },
      "source": [
        "### Hint:"
      ]
    },
    {
      "cell_type": "markdown",
      "metadata": {
        "id": "faSUZrCRFwF8"
      },
      "source": [
        "In SQL the syntax is:\n",
        "\n",
        "```sql\n",
        "SELECT COUNT(au_id) Total,state\n",
        "FROM authors\n",
        "GROUP BY state\n",
        "ORDER BY (total) DESC;\n",
        "```"
      ]
    },
    {
      "cell_type": "markdown",
      "metadata": {
        "id": "uh-uSzIdFwF8"
      },
      "source": [
        "## 3. What's the price of the most expensive title from each publisher?"
      ]
    },
    {
      "cell_type": "code",
      "execution_count": null,
      "metadata": {
        "id": "H_EWOlpoFwF9",
        "outputId": "8473ee3d-13a7-47f1-cf6c-1dfedf44eb83"
      },
      "outputs": [
        {
          "data": {
            "text/plain": [
              "pub_id\n",
              "736     19.99\n",
              "877     21.59\n",
              "1389    22.95\n",
              "Name: price, dtype: float64"
            ]
          },
          "execution_count": 4,
          "metadata": {},
          "output_type": "execute_result"
        }
      ],
      "source": [
        "(\n",
        "titles\n",
        "    .groupby(by = 'pub_id')\n",
        "        ['price'].max()\n",
        ")"
      ]
    },
    {
      "cell_type": "markdown",
      "metadata": {
        "id": "OmMTj75mFwF9"
      },
      "source": [
        "### Hint:"
      ]
    },
    {
      "cell_type": "markdown",
      "metadata": {
        "id": "HtZd4WelFwF9"
      },
      "source": [
        "In SQL the syntax is:\n",
        "\n",
        "```sql\n",
        "SELECT MAX(price), pub_id\n",
        "FROM titles\n",
        "GROUP BY pub_id;\n",
        "```"
      ]
    },
    {
      "cell_type": "markdown",
      "metadata": {
        "id": "RtGDBpJzFwF9"
      },
      "source": [
        "## 4. Find out the top 3 stores with the most sales"
      ]
    },
    {
      "cell_type": "code",
      "execution_count": null,
      "metadata": {
        "id": "DB6K_7-nFwF-",
        "outputId": "4b94cd63-65a0-4fd4-f83a-b3227b5dd292"
      },
      "outputs": [
        {
          "data": {
            "text/plain": [
              "stor_id\n",
              "7131    130\n",
              "7066    125\n",
              "7067     90\n",
              "Name: qty, dtype: int64"
            ]
          },
          "execution_count": 5,
          "metadata": {},
          "output_type": "execute_result"
        }
      ],
      "source": [
        "(\n",
        "sales\n",
        "    .groupby(by='stor_id')\n",
        "        ['qty'].sum()\n",
        "        .sort_values(ascending = False)\n",
        "    .head(n = 3)\n",
        ")"
      ]
    },
    {
      "cell_type": "markdown",
      "metadata": {
        "id": "jNoCuxLjFwF-"
      },
      "source": [
        "### Hint:"
      ]
    },
    {
      "cell_type": "markdown",
      "metadata": {
        "id": "nEUo0WiGFwF-"
      },
      "source": [
        "In SQL the syntax is:\n",
        "\n",
        "```sql\n",
        "SELECT stor_id, SUM(qty)\n",
        "FROM sales\n",
        "GROUP BY stor_id\n",
        "ORDER BY SUM(qty) DESC\n",
        "LIMIT 3;\n",
        "```"
      ]
    },
    {
      "cell_type": "markdown",
      "metadata": {
        "id": "yNkILJG8FwF-"
      },
      "source": [
        "## 5. Find the average job level for each job_id from the employees table.\n",
        "    Order the jobs in ascending order by its average job level."
      ]
    },
    {
      "cell_type": "code",
      "execution_count": null,
      "metadata": {
        "id": "GS4fwkTBFwF_",
        "outputId": "7681183d-6e6a-46b8-e77a-960656bbd375"
      },
      "outputs": [
        {
          "data": {
            "text/plain": [
              "job_id\n",
              "4     227.000000\n",
              "2     215.000000\n",
              "3     200.000000\n",
              "5     187.285714\n",
              "6     176.000000\n",
              "7     142.500000\n",
              "8     125.250000\n",
              "9     123.250000\n",
              "11    121.750000\n",
              "10    101.750000\n",
              "14     74.666667\n",
              "13     66.333333\n",
              "12     55.666667\n",
              "Name: job_lvl, dtype: float64"
            ]
          },
          "execution_count": 6,
          "metadata": {},
          "output_type": "execute_result"
        }
      ],
      "source": [
        "(\n",
        "employee\n",
        "    .groupby(by='job_id')\n",
        "        ['job_lvl'].mean()\n",
        "        .sort_values(ascending=False)\n",
        ")"
      ]
    },
    {
      "cell_type": "markdown",
      "metadata": {
        "id": "pzcqw8oSFwF_"
      },
      "source": [
        "### Hint:"
      ]
    },
    {
      "cell_type": "markdown",
      "metadata": {
        "id": "YtsHyfJcFwF_"
      },
      "source": [
        "In SQL the syntax is:\n",
        "\n",
        "```sql\n",
        "SELECT AVG(job_lvl), job_id\n",
        "FROM employee\n",
        "GROUP BY job_id\n",
        "ORDER BY AVG(job_lvl);\n",
        "```"
      ]
    },
    {
      "cell_type": "markdown",
      "metadata": {
        "id": "HaZDJ9MjFwF_"
      },
      "source": [
        "## 6. For each type (business, psychology…), find out how many books each publisher has"
      ]
    },
    {
      "cell_type": "code",
      "execution_count": null,
      "metadata": {
        "id": "bzPb9L4mFwGA",
        "outputId": "738eacd5-1d03-47f9-ab9f-d712be0e9a7b"
      },
      "outputs": [
        {
          "data": {
            "text/plain": [
              "type          pub_id\n",
              "UNDECIDED     877       1\n",
              "business      736       1\n",
              "              1389      3\n",
              "mod_cook      877       2\n",
              "popular_comp  1389      3\n",
              "psychology    736       4\n",
              "              877       1\n",
              "trad_cook     877       3\n",
              "Name: title_id, dtype: int64"
            ]
          },
          "execution_count": 7,
          "metadata": {},
          "output_type": "execute_result"
        }
      ],
      "source": [
        "(\n",
        "titles\n",
        "    .groupby(by=['type', 'pub_id'])\n",
        "        ['title_id'].count()\n",
        ")"
      ]
    },
    {
      "cell_type": "markdown",
      "metadata": {
        "id": "VEAX7a90FwGA"
      },
      "source": [
        "### Hint:"
      ]
    },
    {
      "cell_type": "markdown",
      "metadata": {
        "id": "wAk5pGudFwGA"
      },
      "source": [
        "In SQL the syntax is:\n",
        "\n",
        "```sql\n",
        "SELECT pub_id, type, COUNT(title_id)\n",
        "FROM titles\n",
        "GROUP BY pub_id , type;\n",
        "```"
      ]
    },
    {
      "cell_type": "markdown",
      "metadata": {
        "id": "J9PkN4vgFwGA"
      },
      "source": [
        "## 7. Add the average price of each publisher - book type combination from your previous query"
      ]
    },
    {
      "cell_type": "code",
      "execution_count": null,
      "metadata": {
        "id": "f6iMEdmPFwGB",
        "outputId": "fd641061-b750-4928-9442-93e532ed76ff"
      },
      "outputs": [
        {
          "data": {
            "text/html": [
              "<div>\n",
              "<style scoped>\n",
              "    .dataframe tbody tr th:only-of-type {\n",
              "        vertical-align: middle;\n",
              "    }\n",
              "\n",
              "    .dataframe tbody tr th {\n",
              "        vertical-align: top;\n",
              "    }\n",
              "\n",
              "    .dataframe thead th {\n",
              "        text-align: right;\n",
              "    }\n",
              "</style>\n",
              "<table border=\"1\" class=\"dataframe\">\n",
              "  <thead>\n",
              "    <tr style=\"text-align: right;\">\n",
              "      <th></th>\n",
              "      <th></th>\n",
              "      <th>title_id</th>\n",
              "      <th>price</th>\n",
              "    </tr>\n",
              "    <tr>\n",
              "      <th>type</th>\n",
              "      <th>pub_id</th>\n",
              "      <th></th>\n",
              "      <th></th>\n",
              "    </tr>\n",
              "  </thead>\n",
              "  <tbody>\n",
              "    <tr>\n",
              "      <th>UNDECIDED</th>\n",
              "      <th>877</th>\n",
              "      <td>1</td>\n",
              "      <td>0.000000</td>\n",
              "    </tr>\n",
              "    <tr>\n",
              "      <th rowspan=\"2\" valign=\"top\">business</th>\n",
              "      <th>736</th>\n",
              "      <td>1</td>\n",
              "      <td>2.990000</td>\n",
              "    </tr>\n",
              "    <tr>\n",
              "      <th>1389</th>\n",
              "      <td>3</td>\n",
              "      <td>17.310000</td>\n",
              "    </tr>\n",
              "    <tr>\n",
              "      <th>mod_cook</th>\n",
              "      <th>877</th>\n",
              "      <td>2</td>\n",
              "      <td>11.490000</td>\n",
              "    </tr>\n",
              "    <tr>\n",
              "      <th>popular_comp</th>\n",
              "      <th>1389</th>\n",
              "      <td>3</td>\n",
              "      <td>14.316667</td>\n",
              "    </tr>\n",
              "    <tr>\n",
              "      <th rowspan=\"2\" valign=\"top\">psychology</th>\n",
              "      <th>736</th>\n",
              "      <td>4</td>\n",
              "      <td>11.482500</td>\n",
              "    </tr>\n",
              "    <tr>\n",
              "      <th>877</th>\n",
              "      <td>1</td>\n",
              "      <td>21.590000</td>\n",
              "    </tr>\n",
              "    <tr>\n",
              "      <th>trad_cook</th>\n",
              "      <th>877</th>\n",
              "      <td>3</td>\n",
              "      <td>15.963333</td>\n",
              "    </tr>\n",
              "  </tbody>\n",
              "</table>\n",
              "</div>"
            ],
            "text/plain": [
              "                     title_id      price\n",
              "type         pub_id                     \n",
              "UNDECIDED    877            1   0.000000\n",
              "business     736            1   2.990000\n",
              "             1389           3  17.310000\n",
              "mod_cook     877            2  11.490000\n",
              "popular_comp 1389           3  14.316667\n",
              "psychology   736            4  11.482500\n",
              "             877            1  21.590000\n",
              "trad_cook    877            3  15.963333"
            ]
          },
          "execution_count": 8,
          "metadata": {},
          "output_type": "execute_result"
        }
      ],
      "source": [
        "(\n",
        "titles\n",
        "    .groupby(by=['type', 'pub_id'])\n",
        "    .aggregate({'title_id': 'count',\n",
        "                'price': 'mean'})\n",
        ")"
      ]
    },
    {
      "cell_type": "markdown",
      "metadata": {
        "id": "fArT3ON0FwGB"
      },
      "source": [
        "### Hint:"
      ]
    },
    {
      "cell_type": "markdown",
      "metadata": {
        "id": "u-LYyojeFwGB"
      },
      "source": [
        "In SQL the syntax is:\n",
        "\n",
        "```sql\n",
        "SELECT  AVG(price), COUNT(*), pub_id,type\n",
        "FROM titles\n",
        "GROUP BY pub_id, type;\n",
        "```"
      ]
    },
    {
      "cell_type": "markdown",
      "metadata": {
        "id": "BiXAvhfDFwGB"
      },
      "source": [
        "## 8. From your previous query, keep only the combinations of publisher - book type with an average price higher than 12"
      ]
    },
    {
      "cell_type": "code",
      "execution_count": null,
      "metadata": {
        "id": "ue5ilbVEFwGB",
        "outputId": "bb0bdac6-9bdc-452e-99e6-baeddd72d77d"
      },
      "outputs": [
        {
          "data": {
            "text/html": [
              "<div>\n",
              "<style scoped>\n",
              "    .dataframe tbody tr th:only-of-type {\n",
              "        vertical-align: middle;\n",
              "    }\n",
              "\n",
              "    .dataframe tbody tr th {\n",
              "        vertical-align: top;\n",
              "    }\n",
              "\n",
              "    .dataframe thead th {\n",
              "        text-align: right;\n",
              "    }\n",
              "</style>\n",
              "<table border=\"1\" class=\"dataframe\">\n",
              "  <thead>\n",
              "    <tr style=\"text-align: right;\">\n",
              "      <th></th>\n",
              "      <th></th>\n",
              "      <th>title_id</th>\n",
              "      <th>price</th>\n",
              "    </tr>\n",
              "    <tr>\n",
              "      <th>type</th>\n",
              "      <th>pub_id</th>\n",
              "      <th></th>\n",
              "      <th></th>\n",
              "    </tr>\n",
              "  </thead>\n",
              "  <tbody>\n",
              "    <tr>\n",
              "      <th>business</th>\n",
              "      <th>1389</th>\n",
              "      <td>3</td>\n",
              "      <td>17.310000</td>\n",
              "    </tr>\n",
              "    <tr>\n",
              "      <th>popular_comp</th>\n",
              "      <th>1389</th>\n",
              "      <td>3</td>\n",
              "      <td>14.316667</td>\n",
              "    </tr>\n",
              "    <tr>\n",
              "      <th>psychology</th>\n",
              "      <th>877</th>\n",
              "      <td>1</td>\n",
              "      <td>21.590000</td>\n",
              "    </tr>\n",
              "    <tr>\n",
              "      <th>trad_cook</th>\n",
              "      <th>877</th>\n",
              "      <td>3</td>\n",
              "      <td>15.963333</td>\n",
              "    </tr>\n",
              "  </tbody>\n",
              "</table>\n",
              "</div>"
            ],
            "text/plain": [
              "                     title_id      price\n",
              "type         pub_id                     \n",
              "business     1389           3  17.310000\n",
              "popular_comp 1389           3  14.316667\n",
              "psychology   877            1  21.590000\n",
              "trad_cook    877            3  15.963333"
            ]
          },
          "execution_count": 9,
          "metadata": {},
          "output_type": "execute_result"
        }
      ],
      "source": [
        "# Create a new dataframe to make it easier to work with\n",
        "pub_type=(\n",
        "titles\n",
        "    .groupby(by=['type', 'pub_id'])\n",
        "    .aggregate({'title_id': 'count',\n",
        "                'price': 'mean'})\n",
        ")\n",
        "\n",
        "(\n",
        "pub_type\n",
        "    # aggregated columns keep their original name\n",
        "    .loc[pub_type['price']>12]\n",
        ")"
      ]
    },
    {
      "cell_type": "markdown",
      "metadata": {
        "id": "BmkmXkowFwGC"
      },
      "source": [
        "### Hint:"
      ]
    },
    {
      "cell_type": "markdown",
      "metadata": {
        "id": "I-5JKvMKFwGC"
      },
      "source": [
        "In SQL the syntax is:\n",
        "\n",
        "```sql\n",
        "SELECT pub_id,type, COUNT(*)\n",
        "FROM titles\n",
        "GROUP BY pub_id, type\n",
        "HAVING AVG(price) > 12;\n",
        "```"
      ]
    },
    {
      "cell_type": "markdown",
      "metadata": {
        "id": "69qs12yVFwGC"
      },
      "source": [
        "## 9. Order the results of your previous query by these two criteria:\n",
        "1. Count of books, descendingly\n",
        "2. Average price, descendingly"
      ]
    },
    {
      "cell_type": "code",
      "execution_count": null,
      "metadata": {
        "id": "w7GphOtSFwGC",
        "outputId": "d86c1444-1658-4f67-9b6a-7715090234bf"
      },
      "outputs": [
        {
          "data": {
            "text/html": [
              "<div>\n",
              "<style scoped>\n",
              "    .dataframe tbody tr th:only-of-type {\n",
              "        vertical-align: middle;\n",
              "    }\n",
              "\n",
              "    .dataframe tbody tr th {\n",
              "        vertical-align: top;\n",
              "    }\n",
              "\n",
              "    .dataframe thead th {\n",
              "        text-align: right;\n",
              "    }\n",
              "</style>\n",
              "<table border=\"1\" class=\"dataframe\">\n",
              "  <thead>\n",
              "    <tr style=\"text-align: right;\">\n",
              "      <th></th>\n",
              "      <th></th>\n",
              "      <th>title_id</th>\n",
              "      <th>price</th>\n",
              "    </tr>\n",
              "    <tr>\n",
              "      <th>type</th>\n",
              "      <th>pub_id</th>\n",
              "      <th></th>\n",
              "      <th></th>\n",
              "    </tr>\n",
              "  </thead>\n",
              "  <tbody>\n",
              "    <tr>\n",
              "      <th>business</th>\n",
              "      <th>1389</th>\n",
              "      <td>3</td>\n",
              "      <td>17.310000</td>\n",
              "    </tr>\n",
              "    <tr>\n",
              "      <th>trad_cook</th>\n",
              "      <th>877</th>\n",
              "      <td>3</td>\n",
              "      <td>15.963333</td>\n",
              "    </tr>\n",
              "    <tr>\n",
              "      <th>popular_comp</th>\n",
              "      <th>1389</th>\n",
              "      <td>3</td>\n",
              "      <td>14.316667</td>\n",
              "    </tr>\n",
              "    <tr>\n",
              "      <th>psychology</th>\n",
              "      <th>877</th>\n",
              "      <td>1</td>\n",
              "      <td>21.590000</td>\n",
              "    </tr>\n",
              "  </tbody>\n",
              "</table>\n",
              "</div>"
            ],
            "text/plain": [
              "                     title_id      price\n",
              "type         pub_id                     \n",
              "business     1389           3  17.310000\n",
              "trad_cook    877            3  15.963333\n",
              "popular_comp 1389           3  14.316667\n",
              "psychology   877            1  21.590000"
            ]
          },
          "execution_count": 10,
          "metadata": {},
          "output_type": "execute_result"
        }
      ],
      "source": [
        "# For this, we'll start with using pub_type from Challenge 7.8, above\n",
        "(\n",
        "pub_type\n",
        "    # aggregated columns keep their original name\n",
        "    .loc[pub_type['price']>12]\n",
        "    .sort_values(by=['title_id', 'price'], ascending = False)\n",
        ")"
      ]
    },
    {
      "cell_type": "markdown",
      "metadata": {
        "id": "RaHGwiKsFwGC"
      },
      "source": [
        "### Hint:"
      ]
    },
    {
      "cell_type": "markdown",
      "metadata": {
        "id": "WP_AjtYxFwGD"
      },
      "source": [
        "In SQL the syntax is:\n",
        "\n",
        "```sql\n",
        "SELECT  pub_id, type, COUNT(*), AVG(price)\n",
        "FROM titles\n",
        "GROUP BY pub_id, type\n",
        "HAVING AVG(price) > 12\n",
        "ORDER BY COUNT(*) DESC, AVG(price) DESC;\n",
        "```"
      ]
    },
    {
      "cell_type": "markdown",
      "metadata": {
        "id": "9zPp2XERFwGD"
      },
      "source": [
        "## 10. Some authors have a contract, while others don't - it's indicated in the \"contract\" column of the authors table.\n",
        "     \n",
        "    Select all the states and cities where there are 2 or more contracts overall"
      ]
    },
    {
      "cell_type": "code",
      "execution_count": null,
      "metadata": {
        "id": "W_QwGFIqFwGD",
        "outputId": "afc87aaf-b329-4f9d-9b3a-d5bc70570ea4"
      },
      "outputs": [
        {
          "data": {
            "text/html": [
              "<div>\n",
              "<style scoped>\n",
              "    .dataframe tbody tr th:only-of-type {\n",
              "        vertical-align: middle;\n",
              "    }\n",
              "\n",
              "    .dataframe tbody tr th {\n",
              "        vertical-align: top;\n",
              "    }\n",
              "\n",
              "    .dataframe thead th {\n",
              "        text-align: right;\n",
              "    }\n",
              "</style>\n",
              "<table border=\"1\" class=\"dataframe\">\n",
              "  <thead>\n",
              "    <tr style=\"text-align: right;\">\n",
              "      <th></th>\n",
              "      <th></th>\n",
              "      <th>contract</th>\n",
              "    </tr>\n",
              "    <tr>\n",
              "      <th>state</th>\n",
              "      <th>city</th>\n",
              "      <th></th>\n",
              "    </tr>\n",
              "  </thead>\n",
              "  <tbody>\n",
              "    <tr>\n",
              "      <th rowspan=\"3\" valign=\"top\">CA</th>\n",
              "      <th>Berkeley</th>\n",
              "      <td>2</td>\n",
              "    </tr>\n",
              "    <tr>\n",
              "      <th>Oakland</th>\n",
              "      <td>4</td>\n",
              "    </tr>\n",
              "    <tr>\n",
              "      <th>Palo Alto</th>\n",
              "      <td>2</td>\n",
              "    </tr>\n",
              "    <tr>\n",
              "      <th>UT</th>\n",
              "      <th>Salt Lake City</th>\n",
              "      <td>2</td>\n",
              "    </tr>\n",
              "  </tbody>\n",
              "</table>\n",
              "</div>"
            ],
            "text/plain": [
              "                      contract\n",
              "state city                    \n",
              "CA    Berkeley               2\n",
              "      Oakland                4\n",
              "      Palo Alto              2\n",
              "UT    Salt Lake City         2"
            ]
          },
          "execution_count": 11,
          "metadata": {},
          "output_type": "execute_result"
        }
      ],
      "source": [
        "contracts_state_city = (\n",
        "authors\n",
        "    .groupby(by=['state', 'city'])\n",
        "    .aggregate({'contract': 'sum'})\n",
        ")\n",
        "\n",
        "(\n",
        "contracts_state_city\n",
        "    .loc[contracts_state_city['contract']>=2]\n",
        ")"
      ]
    },
    {
      "cell_type": "markdown",
      "metadata": {
        "id": "q5N5jBBlFwGD"
      },
      "source": [
        "### Hint:"
      ]
    },
    {
      "cell_type": "markdown",
      "metadata": {
        "id": "F2UGKlvAFwGD"
      },
      "source": [
        "In SQL the syntax is:\n",
        "\n",
        "```sql\n",
        "SELECT SUM(contract),city,state\n",
        "FROM authors\n",
        "GROUP BY state,city\n",
        "HAVING SUM(contract)>1;\n",
        "```"
      ]
    }
  ],
  "metadata": {
    "kernelspec": {
      "display_name": "Pandas",
      "language": "python",
      "name": "python3"
    },
    "language_info": {
      "codemirror_mode": {
        "name": "ipython",
        "version": 3
      },
      "file_extension": ".py",
      "mimetype": "text/x-python",
      "name": "python",
      "nbconvert_exporter": "python",
      "pygments_lexer": "ipython3",
      "version": "3.9.15"
    },
    "orig_nbformat": 4,
    "vscode": {
      "interpreter": {
        "hash": "d3320157bbf74c474a389ba3c249fd8129c2512710cab608d52eccd3d813ad2b"
      }
    },
    "colab": {
      "provenance": []
    }
  },
  "nbformat": 4,
  "nbformat_minor": 0
}