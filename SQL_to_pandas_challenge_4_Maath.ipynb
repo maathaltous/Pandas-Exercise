{
  "cells": [
    {
      "cell_type": "markdown",
      "metadata": {
        "id": "0ykEeYbiiEHa"
      },
      "source": [
        "# From SQL to Pandas Challenge 4"
      ]
    },
    {
      "cell_type": "code",
      "execution_count": null,
      "metadata": {
        "id": "FWHgs3R4iEHf"
      },
      "outputs": [],
      "source": [
        "# import libraries\n",
        "import pandas as pd\n",
        "\n",
        "# load data\n",
        "# This code is made to load our data stored on Google Drive\n",
        "def gd_path(file_id):\n",
        "    \"\"\"Generate a shareable link from Google Drive file id.\"\"\"\n",
        "    return f\"https://drive.google.com/uc?export=download&id={file_id}\"\n",
        "\n",
        "# Google Drive file ids\n",
        "files_id = {\n",
        "    \"titleauthor\": \"1F1JOiYXStWacOBca6coNVfyVtoST7ZgD\",\n",
        "    \"titles\": \"1PLdn50N9GRa53ZbuVWo0l47F_IXdvlEm\",\n",
        "    \"stores\": \"1f-GCgip7O93CpbAkYvOsc21eKnSOSHsQ\", \n",
        "    \"sales\": \"1fzFc9rwYmVIPaGOFmhLVxCi3kg19vNU2\", \n",
        "    \"roysched\": \"1zPRZPoFPEMKyrNR5VSENeYFHGCBZmxbs\", \n",
        "    \"publishers\": \"1s9E8_AVOziTrowb3wyh2jg3PV763VOyq\",\n",
        "    \"pub_info\": \"1OEgogcGKy--EpuVj0kqq7lyBZNGW6YSv\", \n",
        "    \"jobs\": \"1V1Za8hUdXD-vJOyRdX4aQV5wanIff2eM\", \n",
        "    \"employee\": \"1h9mUjsVqpP74b1w0x7KOw37n_n9Ulkt5\", \n",
        "    \"discounts\": \"111dvSxMcCsTgOuV1wDSKFJxO1Xcxd9VS\", \n",
        "    \"authors\": \"1fEF89Nhe61EebAljKlwFwfEuokK0o6aJ\"\n",
        "}\n",
        "\n",
        "# Read data from Google Drive\n",
        "sales = pd.read_csv(gd_path(files_id[\"sales\"]), sep=\";\")\n",
        "authors = pd.read_csv(gd_path(files_id[\"authors\"]), sep=\";\")\n",
        "publishers = pd.read_csv(gd_path(files_id[\"publishers\"]), sep=\";\")\n",
        "titles = pd.read_csv(gd_path(files_id[\"titles\"]), sep=\";\")\n",
        "employee = pd.read_csv(gd_path(files_id[\"employee\"]), sep=\";\")"
      ]
    },
    {
      "cell_type": "markdown",
      "metadata": {
        "id": "vqDrC-7ziEHh"
      },
      "source": [
        "## 1. From how many different states are our authors?"
      ]
    },
    {
      "cell_type": "code",
      "execution_count": null,
      "metadata": {
        "id": "PWuf-Rc9iEHj",
        "outputId": "df7b26dd-90be-4e43-c519-3f993f5b4b5c"
      },
      "outputs": [
        {
          "data": {
            "text/plain": [
              "8"
            ]
          },
          "execution_count": 2,
          "metadata": {},
          "output_type": "execute_result"
        }
      ],
      "source": [
        "(\n",
        "authors\n",
        "    ['state']\n",
        "    .drop_duplicates()\n",
        "    .count()\n",
        ")"
      ]
    },
    {
      "cell_type": "markdown",
      "metadata": {
        "id": "LGY6gtuOiEHk"
      },
      "source": [
        "### Hint:"
      ]
    },
    {
      "cell_type": "markdown",
      "metadata": {
        "id": "Gxxdz1SriEHl"
      },
      "source": [
        "In SQL the syntax is:\n",
        "\n",
        "```sql\n",
        "SELECT COUNT(DISTINCT state) \n",
        "FROM authors;\n",
        "```"
      ]
    },
    {
      "cell_type": "markdown",
      "metadata": {
        "id": "6ZUwde-giEHl"
      },
      "source": [
        "## 2. How many publishers are based in the USA?"
      ]
    },
    {
      "cell_type": "code",
      "execution_count": null,
      "metadata": {
        "id": "ZI0Ss_uHiEHm",
        "outputId": "7d40d54b-85aa-46c2-8b85-3842edf97c05"
      },
      "outputs": [
        {
          "data": {
            "text/plain": [
              "6"
            ]
          },
          "execution_count": 3,
          "metadata": {},
          "output_type": "execute_result"
        }
      ],
      "source": [
        "(\n",
        "publishers\n",
        "    .loc[publishers['country']=='USA']\n",
        "    ['pub_id']\n",
        "    .count()\n",
        ")"
      ]
    },
    {
      "cell_type": "markdown",
      "metadata": {
        "id": "yv5OltHHiEHm"
      },
      "source": [
        "### Hint:"
      ]
    },
    {
      "cell_type": "markdown",
      "metadata": {
        "id": "T7YKviqJiEHn"
      },
      "source": [
        "In SQL the syntax is:\n",
        "\n",
        "```sql\n",
        "SELECT  COUNT(pub_id)\n",
        "FROM publishers \n",
        "WHERE country =\"USA\" ;\n",
        "```"
      ]
    },
    {
      "cell_type": "markdown",
      "metadata": {
        "id": "OOTPsj-QiEHn"
      },
      "source": [
        "## 3. What's the average quantity of titles sold per sale by store 7131?"
      ]
    },
    {
      "cell_type": "code",
      "execution_count": null,
      "metadata": {
        "id": "nPLzwq1liEHn",
        "outputId": "7580ca62-d4cc-4fc0-e592-bd68b1a7d7bf"
      },
      "outputs": [
        {
          "data": {
            "text/plain": [
              "21.666666666666668"
            ]
          },
          "execution_count": 4,
          "metadata": {},
          "output_type": "execute_result"
        }
      ],
      "source": [
        "(\n",
        "sales\n",
        "    .loc[sales['stor_id']==7131]\n",
        "    ['qty']\n",
        "    .mean()\n",
        ")"
      ]
    },
    {
      "cell_type": "markdown",
      "metadata": {
        "id": "c7l0HAg_iEHo"
      },
      "source": [
        "### Hint:"
      ]
    },
    {
      "cell_type": "markdown",
      "metadata": {
        "id": "eU8buitsiEHo"
      },
      "source": [
        "In SQL the syntax is:\n",
        "\n",
        "```sql\n",
        "SELECT AVG(qty)\n",
        "FROM sales\n",
        "WHERE stor_id=7131;\n",
        "```"
      ]
    },
    {
      "cell_type": "markdown",
      "metadata": {
        "id": "E8jZRPuliEHo"
      },
      "source": [
        "## 4. When was the employee with the highest level hired?"
      ]
    },
    {
      "cell_type": "code",
      "execution_count": null,
      "metadata": {
        "id": "ssAFjk69iEHo",
        "outputId": "4d981644-6a30-4fb1-89c8-3cf6f39be3f9"
      },
      "outputs": [
        {
          "data": {
            "text/plain": [
              "26    1989-03-01 00:00:00\n",
              "Name: hire_date, dtype: object"
            ]
          },
          "execution_count": 5,
          "metadata": {},
          "output_type": "execute_result"
        }
      ],
      "source": [
        "(\n",
        "employee\n",
        "    .sort_values(by = 'job_lvl', ascending = False)\n",
        "    .head(n = 1)\n",
        "    ['hire_date']\n",
        ")"
      ]
    },
    {
      "cell_type": "markdown",
      "metadata": {
        "id": "uQjjjd9WiEHp"
      },
      "source": [
        "### Hint:"
      ]
    },
    {
      "cell_type": "markdown",
      "metadata": {
        "id": "vNKO_K0eiEHp"
      },
      "source": [
        "In SQL the syntax is:\n",
        "\n",
        "```sql\n",
        "SELECT hire_date\n",
        "FROM employee\n",
        "ORDER BY job_lvl DESC\n",
        "LIMIT 1;\n",
        "```"
      ]
    },
    {
      "cell_type": "markdown",
      "metadata": {
        "id": "AUE3HX9ZiEHp"
      },
      "source": [
        "## 5. What's the average price of psychology books?"
      ]
    },
    {
      "cell_type": "code",
      "execution_count": null,
      "metadata": {
        "id": "ekWjuUXPiEHp",
        "outputId": "fe486e14-0b16-4b64-b69a-51d9da71c62d"
      },
      "outputs": [
        {
          "data": {
            "text/plain": [
              "13.504"
            ]
          },
          "execution_count": 6,
          "metadata": {},
          "output_type": "execute_result"
        }
      ],
      "source": [
        "(\n",
        "titles\n",
        "    .loc[titles['type']=='psychology']\n",
        "    ['price']\n",
        "    .mean()\n",
        ")"
      ]
    },
    {
      "cell_type": "markdown",
      "metadata": {
        "id": "-es92H5WiEHp"
      },
      "source": [
        "### Hint:"
      ]
    },
    {
      "cell_type": "markdown",
      "metadata": {
        "id": "e8-5Gly6iEHp"
      },
      "source": [
        "In SQL the syntax is:\n",
        "\n",
        "```sql\n",
        "SELECT AVG(price)\n",
        "FROM titles\n",
        "WHERE type = \"psychology\";\n",
        "```"
      ]
    },
    {
      "cell_type": "markdown",
      "metadata": {
        "id": "63L_mdHJiEHq"
      },
      "source": [
        "## 6. Which category of books has had more year-to-date sales, \"business\" or \"popular_comp\"? You can write two queries to answer this question."
      ]
    },
    {
      "cell_type": "markdown",
      "metadata": {
        "id": "GOhuk_s6iEHq"
      },
      "source": [
        "### business"
      ]
    },
    {
      "cell_type": "code",
      "execution_count": null,
      "metadata": {
        "id": "ToGeZ7GHiEHq",
        "outputId": "515cfce9-bce4-4f5a-f455-9d034c6f518c"
      },
      "outputs": [
        {
          "data": {
            "text/plain": [
              "9939"
            ]
          },
          "execution_count": 7,
          "metadata": {},
          "output_type": "execute_result"
        }
      ],
      "source": [
        "(\n",
        "titles\n",
        "    .loc[titles['type']=='psychology']\n",
        "    ['ytd_sales']\n",
        "    .sum()  \n",
        ")"
      ]
    },
    {
      "cell_type": "markdown",
      "metadata": {
        "id": "dJ7GYJYmiEHq"
      },
      "source": [
        "### Hint:"
      ]
    },
    {
      "cell_type": "markdown",
      "metadata": {
        "id": "wfOJh0s8iEHq"
      },
      "source": [
        "In SQL the syntax is:\n",
        "\n",
        "```sql\n",
        "SELECT SUM(ytd_sales), type \n",
        "FROM titles\n",
        "WHERE type = \"business\";\n",
        "```"
      ]
    },
    {
      "cell_type": "markdown",
      "metadata": {
        "id": "dpY9bVpSiEHq"
      },
      "source": [
        "### popular_comp"
      ]
    },
    {
      "cell_type": "code",
      "execution_count": null,
      "metadata": {
        "id": "6pq_jvXaiEHr",
        "outputId": "52e5f3b2-62a2-49ab-8905-f3a081afff2d"
      },
      "outputs": [
        {
          "data": {
            "text/plain": [
              "12875"
            ]
          },
          "execution_count": 8,
          "metadata": {},
          "output_type": "execute_result"
        }
      ],
      "source": [
        "(\n",
        "titles\n",
        "    .loc[titles['type']=='popular_comp']\n",
        "    ['ytd_sales']\n",
        "    .sum()  \n",
        ")"
      ]
    },
    {
      "cell_type": "markdown",
      "metadata": {
        "id": "3fdkgpxliEHr"
      },
      "source": [
        "### Hint:"
      ]
    },
    {
      "cell_type": "markdown",
      "metadata": {
        "id": "2mvGcbK2iEHr"
      },
      "source": [
        "In SQL the syntax is:\n",
        "\n",
        "```sql\n",
        "SELECT SUM(ytd_sales), type \n",
        "FROM titles\n",
        "WHERE type = \"popular_comp\";\n",
        "```"
      ]
    },
    {
      "cell_type": "markdown",
      "metadata": {
        "id": "0RXIYVr-iEHs"
      },
      "source": [
        "## 7. What's the title and the price of the most expensive book?"
      ]
    },
    {
      "cell_type": "code",
      "execution_count": null,
      "metadata": {
        "id": "SzvWHmjTiEHs",
        "outputId": "f1362f21-7c94-4692-cd9b-ca0023b513d1"
      },
      "outputs": [
        {
          "data": {
            "text/html": [
              "<div>\n",
              "<style scoped>\n",
              "    .dataframe tbody tr th:only-of-type {\n",
              "        vertical-align: middle;\n",
              "    }\n",
              "\n",
              "    .dataframe tbody tr th {\n",
              "        vertical-align: top;\n",
              "    }\n",
              "\n",
              "    .dataframe thead th {\n",
              "        text-align: right;\n",
              "    }\n",
              "</style>\n",
              "<table border=\"1\" class=\"dataframe\">\n",
              "  <thead>\n",
              "    <tr style=\"text-align: right;\">\n",
              "      <th></th>\n",
              "      <th>title</th>\n",
              "      <th>price</th>\n",
              "    </tr>\n",
              "  </thead>\n",
              "  <tbody>\n",
              "    <tr>\n",
              "      <th>7</th>\n",
              "      <td>But Is It User Friendly?</td>\n",
              "      <td>22.95</td>\n",
              "    </tr>\n",
              "  </tbody>\n",
              "</table>\n",
              "</div>"
            ],
            "text/plain": [
              "                      title  price\n",
              "7  But Is It User Friendly?  22.95"
            ]
          },
          "execution_count": 9,
          "metadata": {},
          "output_type": "execute_result"
        }
      ],
      "source": [
        "(\n",
        "titles\n",
        "    .sort_values(by = 'price', ascending = False)\n",
        "    .head(n = 1)\n",
        "    [['title', 'price']]\n",
        ")"
      ]
    },
    {
      "cell_type": "markdown",
      "metadata": {
        "id": "luDtF3WbiEHs"
      },
      "source": [
        "### Hint:"
      ]
    },
    {
      "cell_type": "markdown",
      "metadata": {
        "id": "nzSlm9-MiEHs"
      },
      "source": [
        "In SQL the syntax is:\n",
        "\n",
        "```sql\n",
        "SELECT title, price\n",
        "FROM titles\n",
        "ORDER BY price DESC\n",
        "LIMIT 1;\n",
        "```"
      ]
    },
    {
      "cell_type": "markdown",
      "metadata": {
        "id": "79OpYcijiEHs"
      },
      "source": [
        "## 8. What's the price of the most expensive psychology book?"
      ]
    },
    {
      "cell_type": "code",
      "execution_count": null,
      "metadata": {
        "id": "JTG6hFSHiEHs",
        "outputId": "c831189d-7cd6-485f-d86d-d5859b6b6ad0"
      },
      "outputs": [
        {
          "data": {
            "text/plain": [
              "21.59"
            ]
          },
          "execution_count": 10,
          "metadata": {},
          "output_type": "execute_result"
        }
      ],
      "source": [
        "(\n",
        "titles\n",
        "    .loc[titles['type']=='psychology']\n",
        "    ['price'].max()\n",
        ")"
      ]
    },
    {
      "cell_type": "markdown",
      "metadata": {
        "id": "RLafGbNMiEHt"
      },
      "source": [
        "### Hint:"
      ]
    },
    {
      "cell_type": "markdown",
      "metadata": {
        "id": "Gaf2Y_wEiEHt"
      },
      "source": [
        "In SQL the syntax is:\n",
        "\n",
        "```sql\n",
        "SELECT MAX(price) \n",
        "FROM titles\n",
        "WHERE type = \"psychology\";\n",
        "```"
      ]
    },
    {
      "cell_type": "markdown",
      "metadata": {
        "id": "6V5vb6zTiEHt"
      },
      "source": [
        "## 9. How many authors live in either San Jose or Salt Lake City\n"
      ]
    },
    {
      "cell_type": "code",
      "execution_count": null,
      "metadata": {
        "id": "RSbFUKpziEHt",
        "outputId": "aaedc2ad-6d92-4f9c-f05f-537c500d1902"
      },
      "outputs": [
        {
          "data": {
            "text/plain": [
              "3"
            ]
          },
          "execution_count": 11,
          "metadata": {},
          "output_type": "execute_result"
        }
      ],
      "source": [
        "(\n",
        "authors\n",
        "    .loc[(authors['city']=='San Jose')\n",
        "        |(authors['city']=='Salt Lake City')]\n",
        "    ['au_id']\n",
        "    .count()\n",
        ")"
      ]
    },
    {
      "cell_type": "markdown",
      "metadata": {
        "id": "6kz85n2JiEHu"
      },
      "source": [
        "### Hint:"
      ]
    },
    {
      "cell_type": "markdown",
      "metadata": {
        "id": "FlRvJPWSiEHu"
      },
      "source": [
        "In SQL the syntax is:\n",
        "\n",
        "```sql\n",
        "SELECT COUNT(au_id)\n",
        "FROM authors\n",
        "WHERE (city = \"San Jose\" \n",
        "OR city = \"Salt Lake City\");\n",
        "```"
      ]
    },
    {
      "cell_type": "markdown",
      "metadata": {
        "id": "m4qbMCugiEHu"
      },
      "source": []
    }
  ],
  "metadata": {
    "kernelspec": {
      "display_name": "Pandas",
      "language": "python",
      "name": "python3"
    },
    "language_info": {
      "codemirror_mode": {
        "name": "ipython",
        "version": 3
      },
      "file_extension": ".py",
      "mimetype": "text/x-python",
      "name": "python",
      "nbconvert_exporter": "python",
      "pygments_lexer": "ipython3",
      "version": "3.9.15"
    },
    "orig_nbformat": 4,
    "vscode": {
      "interpreter": {
        "hash": "d3320157bbf74c474a389ba3c249fd8129c2512710cab608d52eccd3d813ad2b"
      }
    },
    "colab": {
      "provenance": []
    }
  },
  "nbformat": 4,
  "nbformat_minor": 0
}