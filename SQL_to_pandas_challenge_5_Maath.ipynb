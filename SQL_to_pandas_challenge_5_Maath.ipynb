{
  "cells": [
    {
      "cell_type": "markdown",
      "metadata": {
        "id": "guC3qIIcrtUC"
      },
      "source": [
        "# From SQL to Pandas Challenges 5"
      ]
    },
    {
      "cell_type": "code",
      "execution_count": null,
      "metadata": {
        "id": "ng2GzYU3rtUG"
      },
      "outputs": [],
      "source": [
        "# import libraries\n",
        "import pandas as pd\n",
        "\n",
        "# load data\n",
        "# This code is made to load our data stored on Google Drive\n",
        "def gd_path(file_id):\n",
        "    \"\"\"Generate a shareable link from Google Drive file id.\"\"\"\n",
        "    return f\"https://drive.google.com/uc?export=download&id={file_id}\"\n",
        "\n",
        "# Google Drive file ids\n",
        "files_id = {\n",
        "    \"titleauthor\": \"1F1JOiYXStWacOBca6coNVfyVtoST7ZgD\",\n",
        "    \"titles\": \"1PLdn50N9GRa53ZbuVWo0l47F_IXdvlEm\",\n",
        "    \"stores\": \"1f-GCgip7O93CpbAkYvOsc21eKnSOSHsQ\", \n",
        "    \"sales\": \"1fzFc9rwYmVIPaGOFmhLVxCi3kg19vNU2\", \n",
        "    \"roysched\": \"1zPRZPoFPEMKyrNR5VSENeYFHGCBZmxbs\", \n",
        "    \"publishers\": \"1s9E8_AVOziTrowb3wyh2jg3PV763VOyq\",\n",
        "    \"pub_info\": \"1OEgogcGKy--EpuVj0kqq7lyBZNGW6YSv\", \n",
        "    \"jobs\": \"1V1Za8hUdXD-vJOyRdX4aQV5wanIff2eM\", \n",
        "    \"employee\": \"1h9mUjsVqpP74b1w0x7KOw37n_n9Ulkt5\", \n",
        "    \"discounts\": \"111dvSxMcCsTgOuV1wDSKFJxO1Xcxd9VS\", \n",
        "    \"authors\": \"1fEF89Nhe61EebAljKlwFwfEuokK0o6aJ\"\n",
        "}\n",
        "\n",
        "# Read data from Google Drive\n",
        "authors = pd.read_csv(gd_path(files_id[\"authors\"]), sep=\";\")\n",
        "titles = pd.read_csv(gd_path(files_id[\"titles\"]), sep=\";\")\n",
        "stores = pd.read_csv(gd_path(files_id[\"stores\"]), sep=\";\")\n",
        "employee = pd.read_csv(gd_path(files_id[\"employee\"]), sep=\";\")"
      ]
    },
    {
      "cell_type": "markdown",
      "metadata": {
        "id": "SS-GJi5FrtUH"
      },
      "source": [
        "## 1. Select all books from the table `titles` that contain the word \"cooking\" in its title"
      ]
    },
    {
      "cell_type": "code",
      "execution_count": null,
      "metadata": {
        "id": "xvonmky4rtUH",
        "outputId": "e4485dd2-54b1-4653-8c66-d911be7f7c67"
      },
      "outputs": [
        {
          "data": {
            "text/html": [
              "<div>\n",
              "<style scoped>\n",
              "    .dataframe tbody tr th:only-of-type {\n",
              "        vertical-align: middle;\n",
              "    }\n",
              "\n",
              "    .dataframe tbody tr th {\n",
              "        vertical-align: top;\n",
              "    }\n",
              "\n",
              "    .dataframe thead th {\n",
              "        text-align: right;\n",
              "    }\n",
              "</style>\n",
              "<table border=\"1\" class=\"dataframe\">\n",
              "  <thead>\n",
              "    <tr style=\"text-align: right;\">\n",
              "      <th></th>\n",
              "      <th>title_id</th>\n",
              "      <th>title</th>\n",
              "      <th>type</th>\n",
              "      <th>pub_id</th>\n",
              "      <th>price</th>\n",
              "      <th>advance</th>\n",
              "      <th>royalty</th>\n",
              "      <th>ytd_sales</th>\n",
              "      <th>notes</th>\n",
              "      <th>pubdate</th>\n",
              "    </tr>\n",
              "  </thead>\n",
              "  <tbody>\n",
              "    <tr>\n",
              "      <th>1</th>\n",
              "      <td>BU1111</td>\n",
              "      <td>Cooking with Computers: Surreptitious Balance ...</td>\n",
              "      <td>business</td>\n",
              "      <td>1389</td>\n",
              "      <td>11.95</td>\n",
              "      <td>5000.0</td>\n",
              "      <td>10</td>\n",
              "      <td>3876</td>\n",
              "      <td>Helpful hints on how to use your electronic re...</td>\n",
              "      <td>1991-06-09 00:00:00</td>\n",
              "    </tr>\n",
              "    <tr>\n",
              "      <th>6</th>\n",
              "      <td>MC3026</td>\n",
              "      <td>The Psychology of Computer Cooking</td>\n",
              "      <td>UNDECIDED</td>\n",
              "      <td>877</td>\n",
              "      <td>0.00</td>\n",
              "      <td>0.0</td>\n",
              "      <td>0</td>\n",
              "      <td>0</td>\n",
              "      <td>NaN</td>\n",
              "      <td>2014-11-07 10:39:37</td>\n",
              "    </tr>\n",
              "    <tr>\n",
              "      <th>15</th>\n",
              "      <td>TC3218</td>\n",
              "      <td>Onions, Leeks, and Garlic: Cooking Secrets of ...</td>\n",
              "      <td>trad_cook</td>\n",
              "      <td>877</td>\n",
              "      <td>20.95</td>\n",
              "      <td>7000.0</td>\n",
              "      <td>10</td>\n",
              "      <td>375</td>\n",
              "      <td>Profusely illustrated in color, this makes a w...</td>\n",
              "      <td>1991-10-21 00:00:00</td>\n",
              "    </tr>\n",
              "  </tbody>\n",
              "</table>\n",
              "</div>"
            ],
            "text/plain": [
              "   title_id                                              title       type  \\\n",
              "1    BU1111  Cooking with Computers: Surreptitious Balance ...   business   \n",
              "6    MC3026                 The Psychology of Computer Cooking  UNDECIDED   \n",
              "15   TC3218  Onions, Leeks, and Garlic: Cooking Secrets of ...  trad_cook   \n",
              "\n",
              "    pub_id  price  advance  royalty  ytd_sales  \\\n",
              "1     1389  11.95   5000.0       10       3876   \n",
              "6      877   0.00      0.0        0          0   \n",
              "15     877  20.95   7000.0       10        375   \n",
              "\n",
              "                                                notes              pubdate  \n",
              "1   Helpful hints on how to use your electronic re...  1991-06-09 00:00:00  \n",
              "6                                                 NaN  2014-11-07 10:39:37  \n",
              "15  Profusely illustrated in color, this makes a w...  1991-10-21 00:00:00  "
            ]
          },
          "execution_count": 2,
          "metadata": {},
          "output_type": "execute_result"
        }
      ],
      "source": [
        "(\n",
        "titles\n",
        "    # str.contains() looks for any occurences of the provided pattern in the string.\n",
        "    # In difference to SQLs LIKE, wildcard characters are often not necessary.\n",
        "    .loc[titles['title'].str.contains('cooking', case = False)]\n",
        ")"
      ]
    },
    {
      "cell_type": "markdown",
      "metadata": {
        "id": "04xJqjpvrtUI"
      },
      "source": [
        "### Hint:"
      ]
    },
    {
      "cell_type": "markdown",
      "metadata": {
        "id": "uN1Gkxz7rtUI"
      },
      "source": [
        "In SQL the syntax is:\n",
        "\n",
        "```sql\n",
        "SELECT title\n",
        "FROM titles\n",
        "WHERE title LIKE '%cooking%';\n",
        "```"
      ]
    },
    {
      "cell_type": "markdown",
      "metadata": {
        "id": "z_-I1B0prtUJ"
      },
      "source": [
        "## 2. Select all titles that start with the word \"The\""
      ]
    },
    {
      "cell_type": "code",
      "execution_count": null,
      "metadata": {
        "id": "PacHjAIDrtUJ",
        "outputId": "61518a7d-2191-467b-d1f7-0cf9c301b217"
      },
      "outputs": [
        {
          "data": {
            "text/html": [
              "<div>\n",
              "<style scoped>\n",
              "    .dataframe tbody tr th:only-of-type {\n",
              "        vertical-align: middle;\n",
              "    }\n",
              "\n",
              "    .dataframe tbody tr th {\n",
              "        vertical-align: top;\n",
              "    }\n",
              "\n",
              "    .dataframe thead th {\n",
              "        text-align: right;\n",
              "    }\n",
              "</style>\n",
              "<table border=\"1\" class=\"dataframe\">\n",
              "  <thead>\n",
              "    <tr style=\"text-align: right;\">\n",
              "      <th></th>\n",
              "      <th>title_id</th>\n",
              "      <th>title</th>\n",
              "      <th>type</th>\n",
              "      <th>pub_id</th>\n",
              "      <th>price</th>\n",
              "      <th>advance</th>\n",
              "      <th>royalty</th>\n",
              "      <th>ytd_sales</th>\n",
              "      <th>notes</th>\n",
              "      <th>pubdate</th>\n",
              "    </tr>\n",
              "  </thead>\n",
              "  <tbody>\n",
              "    <tr>\n",
              "      <th>0</th>\n",
              "      <td>BU1032</td>\n",
              "      <td>The Busy Executive's Database Guide</td>\n",
              "      <td>business</td>\n",
              "      <td>1389</td>\n",
              "      <td>19.99</td>\n",
              "      <td>5000.0</td>\n",
              "      <td>10</td>\n",
              "      <td>4095</td>\n",
              "      <td>An overview of available database systems with...</td>\n",
              "      <td>1991-06-12 00:00:00</td>\n",
              "    </tr>\n",
              "    <tr>\n",
              "      <th>5</th>\n",
              "      <td>MC3021</td>\n",
              "      <td>The Gourmet Microwave</td>\n",
              "      <td>mod_cook</td>\n",
              "      <td>877</td>\n",
              "      <td>2.99</td>\n",
              "      <td>15000.0</td>\n",
              "      <td>24</td>\n",
              "      <td>22246</td>\n",
              "      <td>Traditional French gourmet recipes adapted for...</td>\n",
              "      <td>1991-06-18 00:00:00</td>\n",
              "    </tr>\n",
              "    <tr>\n",
              "      <th>6</th>\n",
              "      <td>MC3026</td>\n",
              "      <td>The Psychology of Computer Cooking</td>\n",
              "      <td>UNDECIDED</td>\n",
              "      <td>877</td>\n",
              "      <td>0.00</td>\n",
              "      <td>0.0</td>\n",
              "      <td>0</td>\n",
              "      <td>0</td>\n",
              "      <td>NaN</td>\n",
              "      <td>2014-11-07 10:39:37</td>\n",
              "    </tr>\n",
              "  </tbody>\n",
              "</table>\n",
              "</div>"
            ],
            "text/plain": [
              "  title_id                                title       type  pub_id  price  \\\n",
              "0   BU1032  The Busy Executive's Database Guide   business    1389  19.99   \n",
              "5   MC3021                The Gourmet Microwave   mod_cook     877   2.99   \n",
              "6   MC3026   The Psychology of Computer Cooking  UNDECIDED     877   0.00   \n",
              "\n",
              "   advance  royalty  ytd_sales  \\\n",
              "0   5000.0       10       4095   \n",
              "5  15000.0       24      22246   \n",
              "6      0.0        0          0   \n",
              "\n",
              "                                               notes              pubdate  \n",
              "0  An overview of available database systems with...  1991-06-12 00:00:00  \n",
              "5  Traditional French gourmet recipes adapted for...  1991-06-18 00:00:00  \n",
              "6                                                NaN  2014-11-07 10:39:37  "
            ]
          },
          "execution_count": 3,
          "metadata": {},
          "output_type": "execute_result"
        }
      ],
      "source": [
        "(\n",
        "titles\n",
        "    # str.contains() can use a \"regular expression\" (regex)\n",
        "    # This lets us look for the beginning and ending of strings, wildcard characters and much more\n",
        "    .loc[titles['title'].str.contains('^The', regex = True)]\n",
        ")"
      ]
    },
    {
      "cell_type": "markdown",
      "metadata": {
        "id": "T1kUowvZrtUK"
      },
      "source": [
        "### Hint:"
      ]
    },
    {
      "cell_type": "markdown",
      "metadata": {
        "id": "Sgi9cr2qrtUK"
      },
      "source": [
        "In SQL the syntax is:\n",
        "\n",
        "```sql\n",
        "SELECT title\n",
        "FROM titles\n",
        "WHERE title LIKE 'The%';\n",
        "```"
      ]
    },
    {
      "cell_type": "markdown",
      "metadata": {
        "id": "nOx6r9lLrtUK"
      },
      "source": [
        "## 3. Select the full names (first and last name) of authors whose last name starts with \"S\""
      ]
    },
    {
      "cell_type": "code",
      "execution_count": null,
      "metadata": {
        "id": "wJewuk9drtUL",
        "outputId": "dce2865f-fb33-401b-a01d-773ab33e8369"
      },
      "outputs": [
        {
          "data": {
            "text/html": [
              "<div>\n",
              "<style scoped>\n",
              "    .dataframe tbody tr th:only-of-type {\n",
              "        vertical-align: middle;\n",
              "    }\n",
              "\n",
              "    .dataframe tbody tr th {\n",
              "        vertical-align: top;\n",
              "    }\n",
              "\n",
              "    .dataframe thead th {\n",
              "        text-align: right;\n",
              "    }\n",
              "</style>\n",
              "<table border=\"1\" class=\"dataframe\">\n",
              "  <thead>\n",
              "    <tr style=\"text-align: right;\">\n",
              "      <th></th>\n",
              "      <th>au_fname</th>\n",
              "      <th>au_lname</th>\n",
              "    </tr>\n",
              "  </thead>\n",
              "  <tbody>\n",
              "    <tr>\n",
              "      <th>4</th>\n",
              "      <td>Dean</td>\n",
              "      <td>Straight</td>\n",
              "    </tr>\n",
              "    <tr>\n",
              "      <th>5</th>\n",
              "      <td>Meander</td>\n",
              "      <td>Smith</td>\n",
              "    </tr>\n",
              "    <tr>\n",
              "      <th>15</th>\n",
              "      <td>Dirk</td>\n",
              "      <td>Stringer</td>\n",
              "    </tr>\n",
              "  </tbody>\n",
              "</table>\n",
              "</div>"
            ],
            "text/plain": [
              "   au_fname  au_lname\n",
              "4      Dean  Straight\n",
              "5   Meander     Smith\n",
              "15     Dirk  Stringer"
            ]
          },
          "execution_count": 4,
          "metadata": {},
          "output_type": "execute_result"
        }
      ],
      "source": [
        "(\n",
        "authors\n",
        "    [['au_fname', 'au_lname']]\n",
        "    # Within a regular expression '^' denotes the start of the string.\n",
        "    .loc[authors['au_lname'].str.contains('^S', regex=True)]\n",
        ")"
      ]
    },
    {
      "cell_type": "markdown",
      "metadata": {
        "id": "-S2O8GA3rtUL"
      },
      "source": [
        "### Hint:"
      ]
    },
    {
      "cell_type": "markdown",
      "metadata": {
        "id": "uzVbq6I_rtUL"
      },
      "source": [
        "In SQL the syntax is:\n",
        "\n",
        "```sql\n",
        "SELECT au_fname, au_lname \n",
        "FROM authors\n",
        "WHERE au_lname LIKE('S%');\n",
        "```"
      ]
    },
    {
      "cell_type": "markdown",
      "metadata": {
        "id": "ODuRNtlbrtUL"
      },
      "source": [
        "## 4. Select the name and address of all stores located in an Avenue (its address ends with \"Ave.\")"
      ]
    },
    {
      "cell_type": "code",
      "execution_count": null,
      "metadata": {
        "id": "UIwrBFlnrtUM",
        "outputId": "874603bc-8fe6-4be3-bcdb-4f6851843e5a"
      },
      "outputs": [
        {
          "data": {
            "text/html": [
              "<div>\n",
              "<style scoped>\n",
              "    .dataframe tbody tr th:only-of-type {\n",
              "        vertical-align: middle;\n",
              "    }\n",
              "\n",
              "    .dataframe tbody tr th {\n",
              "        vertical-align: top;\n",
              "    }\n",
              "\n",
              "    .dataframe thead th {\n",
              "        text-align: right;\n",
              "    }\n",
              "</style>\n",
              "<table border=\"1\" class=\"dataframe\">\n",
              "  <thead>\n",
              "    <tr style=\"text-align: right;\">\n",
              "      <th></th>\n",
              "      <th>stor_id</th>\n",
              "      <th>stor_name</th>\n",
              "      <th>stor_address</th>\n",
              "      <th>city</th>\n",
              "      <th>state</th>\n",
              "      <th>zip</th>\n",
              "    </tr>\n",
              "  </thead>\n",
              "  <tbody>\n",
              "    <tr>\n",
              "      <th>0</th>\n",
              "      <td>6380</td>\n",
              "      <td>Eric the Read Books</td>\n",
              "      <td>788 Catamaugus Ave.</td>\n",
              "      <td>Seattle</td>\n",
              "      <td>WA</td>\n",
              "      <td>98056</td>\n",
              "    </tr>\n",
              "    <tr>\n",
              "      <th>1</th>\n",
              "      <td>7066</td>\n",
              "      <td>Barnum's</td>\n",
              "      <td>567 Pasadena Ave.</td>\n",
              "      <td>Tustin</td>\n",
              "      <td>CA</td>\n",
              "      <td>92789</td>\n",
              "    </tr>\n",
              "  </tbody>\n",
              "</table>\n",
              "</div>"
            ],
            "text/plain": [
              "   stor_id            stor_name         stor_address     city state    zip\n",
              "0     6380  Eric the Read Books  788 Catamaugus Ave.  Seattle    WA  98056\n",
              "1     7066             Barnum's    567 Pasadena Ave.   Tustin    CA  92789"
            ]
          },
          "execution_count": 5,
          "metadata": {},
          "output_type": "execute_result"
        }
      ],
      "source": [
        "(\n",
        "stores\n",
        "    # Within a regular expression '$' denotes the end of the string.\n",
        "    .loc[stores['stor_address'].str.contains('Ave\\.$', regex = True)]\n",
        ")"
      ]
    },
    {
      "cell_type": "markdown",
      "metadata": {
        "id": "n7fFY5hDrtUM"
      },
      "source": [
        "### Hint:"
      ]
    },
    {
      "cell_type": "markdown",
      "metadata": {
        "id": "ggdryZNDrtUM"
      },
      "source": [
        "In SQL the syntax is:\n",
        "\n",
        "```sql\n",
        "SELECT stor_name, stor_address\n",
        "FROM stores\n",
        "WHERE stor_address LIKE (\"%Ave.\");\n",
        "```"
      ]
    },
    {
      "cell_type": "markdown",
      "metadata": {
        "id": "-YnYMuVLrtUM"
      },
      "source": [
        "## 5. Select the name and address of all stores located in an Avenue or in a Street (address ended in \"St.\")"
      ]
    },
    {
      "cell_type": "code",
      "execution_count": null,
      "metadata": {
        "id": "E-LyCOm9rtUM",
        "outputId": "1cd753f2-da95-4e24-e6a5-67f1a4b18c86"
      },
      "outputs": [
        {
          "data": {
            "text/html": [
              "<div>\n",
              "<style scoped>\n",
              "    .dataframe tbody tr th:only-of-type {\n",
              "        vertical-align: middle;\n",
              "    }\n",
              "\n",
              "    .dataframe tbody tr th {\n",
              "        vertical-align: top;\n",
              "    }\n",
              "\n",
              "    .dataframe thead th {\n",
              "        text-align: right;\n",
              "    }\n",
              "</style>\n",
              "<table border=\"1\" class=\"dataframe\">\n",
              "  <thead>\n",
              "    <tr style=\"text-align: right;\">\n",
              "      <th></th>\n",
              "      <th>stor_name</th>\n",
              "      <th>stor_address</th>\n",
              "    </tr>\n",
              "  </thead>\n",
              "  <tbody>\n",
              "    <tr>\n",
              "      <th>0</th>\n",
              "      <td>Eric the Read Books</td>\n",
              "      <td>788 Catamaugus Ave.</td>\n",
              "    </tr>\n",
              "    <tr>\n",
              "      <th>1</th>\n",
              "      <td>Barnum's</td>\n",
              "      <td>567 Pasadena Ave.</td>\n",
              "    </tr>\n",
              "    <tr>\n",
              "      <th>2</th>\n",
              "      <td>News &amp; Brews</td>\n",
              "      <td>577 First St.</td>\n",
              "    </tr>\n",
              "    <tr>\n",
              "      <th>4</th>\n",
              "      <td>Fricative Bookshop</td>\n",
              "      <td>89 Madison St.</td>\n",
              "    </tr>\n",
              "    <tr>\n",
              "      <th>5</th>\n",
              "      <td>Bookbeat</td>\n",
              "      <td>679 Carson St.</td>\n",
              "    </tr>\n",
              "  </tbody>\n",
              "</table>\n",
              "</div>"
            ],
            "text/plain": [
              "             stor_name         stor_address\n",
              "0  Eric the Read Books  788 Catamaugus Ave.\n",
              "1             Barnum's    567 Pasadena Ave.\n",
              "2         News & Brews        577 First St.\n",
              "4   Fricative Bookshop       89 Madison St.\n",
              "5             Bookbeat       679 Carson St."
            ]
          },
          "execution_count": 6,
          "metadata": {},
          "output_type": "execute_result"
        }
      ],
      "source": [
        "(\n",
        "stores\n",
        "    .loc[(stores['stor_address'].str.contains('Ave\\.$', regex = True))\n",
        "        |(stores['stor_address'].str.contains('St\\.$', regex = True))]\n",
        "    [['stor_name', 'stor_address']]\n",
        ")"
      ]
    },
    {
      "cell_type": "markdown",
      "metadata": {
        "id": "nW58FtPWrtUN"
      },
      "source": [
        "### Hint:"
      ]
    },
    {
      "cell_type": "markdown",
      "metadata": {
        "id": "lUzCUEBUrtUN"
      },
      "source": [
        "In SQL the syntax is:\n",
        "\n",
        "```sql\n",
        "SELECT\n",
        "\tstor_name,\n",
        "\tstor_address\n",
        "FROM\n",
        "\tstores\n",
        "WHERE \n",
        "\tstor_address LIKE '%St.' \n",
        "    OR stor_address LIKE '%Ave.';\n",
        "```"
      ]
    },
    {
      "cell_type": "markdown",
      "metadata": {
        "id": "9y4bUECOrtUN"
      },
      "source": [
        "## 6. Look at the \"employee\" table (select all columns to explore the raw data):\n",
        "   Find a pattern that reveals whether an employee is Female or Male.\n",
        "   Select all female employees."
      ]
    },
    {
      "cell_type": "code",
      "execution_count": null,
      "metadata": {
        "id": "uCIhFfRdrtUN",
        "outputId": "b76ee8e2-568c-4daa-b8a6-52a1764bfa0f"
      },
      "outputs": [
        {
          "data": {
            "text/html": [
              "<div>\n",
              "<style scoped>\n",
              "    .dataframe tbody tr th:only-of-type {\n",
              "        vertical-align: middle;\n",
              "    }\n",
              "\n",
              "    .dataframe tbody tr th {\n",
              "        vertical-align: top;\n",
              "    }\n",
              "\n",
              "    .dataframe thead th {\n",
              "        text-align: right;\n",
              "    }\n",
              "</style>\n",
              "<table border=\"1\" class=\"dataframe\">\n",
              "  <thead>\n",
              "    <tr style=\"text-align: right;\">\n",
              "      <th></th>\n",
              "      <th>emp_id</th>\n",
              "      <th>fname</th>\n",
              "      <th>minit</th>\n",
              "      <th>lname</th>\n",
              "      <th>job_id</th>\n",
              "      <th>job_lvl</th>\n",
              "      <th>pub_id</th>\n",
              "      <th>hire_date</th>\n",
              "    </tr>\n",
              "  </thead>\n",
              "  <tbody>\n",
              "    <tr>\n",
              "      <th>0</th>\n",
              "      <td>A-C71970F</td>\n",
              "      <td>Aria</td>\n",
              "      <td>NaN</td>\n",
              "      <td>Cruz</td>\n",
              "      <td>10</td>\n",
              "      <td>87</td>\n",
              "      <td>1389</td>\n",
              "      <td>1991-10-26 00:00:00</td>\n",
              "    </tr>\n",
              "    <tr>\n",
              "      <th>1</th>\n",
              "      <td>A-R89858F</td>\n",
              "      <td>Annette</td>\n",
              "      <td>NaN</td>\n",
              "      <td>Roulet</td>\n",
              "      <td>6</td>\n",
              "      <td>152</td>\n",
              "      <td>9999</td>\n",
              "      <td>1990-02-21 00:00:00</td>\n",
              "    </tr>\n",
              "    <tr>\n",
              "      <th>2</th>\n",
              "      <td>AMD15433F</td>\n",
              "      <td>Ann</td>\n",
              "      <td>M</td>\n",
              "      <td>Devon</td>\n",
              "      <td>3</td>\n",
              "      <td>200</td>\n",
              "      <td>9952</td>\n",
              "      <td>1991-07-16 00:00:00</td>\n",
              "    </tr>\n",
              "    <tr>\n",
              "      <th>3</th>\n",
              "      <td>ARD36773F</td>\n",
              "      <td>Anabela</td>\n",
              "      <td>R</td>\n",
              "      <td>Domingues</td>\n",
              "      <td>8</td>\n",
              "      <td>100</td>\n",
              "      <td>877</td>\n",
              "      <td>1993-01-27 00:00:00</td>\n",
              "    </tr>\n",
              "    <tr>\n",
              "      <th>5</th>\n",
              "      <td>CGS88322F</td>\n",
              "      <td>Carine</td>\n",
              "      <td>G</td>\n",
              "      <td>Schmitt</td>\n",
              "      <td>13</td>\n",
              "      <td>64</td>\n",
              "      <td>1389</td>\n",
              "      <td>1992-07-07 00:00:00</td>\n",
              "    </tr>\n",
              "    <tr>\n",
              "      <th>8</th>\n",
              "      <td>ENL44273F</td>\n",
              "      <td>Elizabeth</td>\n",
              "      <td>N</td>\n",
              "      <td>Lincoln</td>\n",
              "      <td>14</td>\n",
              "      <td>35</td>\n",
              "      <td>877</td>\n",
              "      <td>1990-07-24 00:00:00</td>\n",
              "    </tr>\n",
              "    <tr>\n",
              "      <th>11</th>\n",
              "      <td>H-B39728F</td>\n",
              "      <td>Helen</td>\n",
              "      <td>NaN</td>\n",
              "      <td>Bennett</td>\n",
              "      <td>12</td>\n",
              "      <td>35</td>\n",
              "      <td>877</td>\n",
              "      <td>1989-09-21 00:00:00</td>\n",
              "    </tr>\n",
              "    <tr>\n",
              "      <th>14</th>\n",
              "      <td>JYL26161F</td>\n",
              "      <td>Janine</td>\n",
              "      <td>Y</td>\n",
              "      <td>Labrune</td>\n",
              "      <td>5</td>\n",
              "      <td>172</td>\n",
              "      <td>9901</td>\n",
              "      <td>1991-05-26 00:00:00</td>\n",
              "    </tr>\n",
              "    <tr>\n",
              "      <th>15</th>\n",
              "      <td>KFJ64308F</td>\n",
              "      <td>Karin</td>\n",
              "      <td>F</td>\n",
              "      <td>Josephs</td>\n",
              "      <td>14</td>\n",
              "      <td>100</td>\n",
              "      <td>736</td>\n",
              "      <td>1992-10-17 00:00:00</td>\n",
              "    </tr>\n",
              "    <tr>\n",
              "      <th>16</th>\n",
              "      <td>KJJ92907F</td>\n",
              "      <td>Karla</td>\n",
              "      <td>J</td>\n",
              "      <td>Jablonski</td>\n",
              "      <td>9</td>\n",
              "      <td>170</td>\n",
              "      <td>9999</td>\n",
              "      <td>1994-03-11 00:00:00</td>\n",
              "    </tr>\n",
              "    <tr>\n",
              "      <th>17</th>\n",
              "      <td>L-B31947F</td>\n",
              "      <td>Lesley</td>\n",
              "      <td>NaN</td>\n",
              "      <td>Brown</td>\n",
              "      <td>7</td>\n",
              "      <td>120</td>\n",
              "      <td>877</td>\n",
              "      <td>1991-02-13 00:00:00</td>\n",
              "    </tr>\n",
              "    <tr>\n",
              "      <th>19</th>\n",
              "      <td>M-L67958F</td>\n",
              "      <td>Maria</td>\n",
              "      <td>NaN</td>\n",
              "      <td>Larsson</td>\n",
              "      <td>7</td>\n",
              "      <td>135</td>\n",
              "      <td>1389</td>\n",
              "      <td>1992-03-27 00:00:00</td>\n",
              "    </tr>\n",
              "    <tr>\n",
              "      <th>21</th>\n",
              "      <td>M-R38834F</td>\n",
              "      <td>Martine</td>\n",
              "      <td>NaN</td>\n",
              "      <td>Rance</td>\n",
              "      <td>9</td>\n",
              "      <td>75</td>\n",
              "      <td>877</td>\n",
              "      <td>1992-02-05 00:00:00</td>\n",
              "    </tr>\n",
              "    <tr>\n",
              "      <th>23</th>\n",
              "      <td>MAS70474F</td>\n",
              "      <td>Margaret</td>\n",
              "      <td>A</td>\n",
              "      <td>Smith</td>\n",
              "      <td>9</td>\n",
              "      <td>78</td>\n",
              "      <td>1389</td>\n",
              "      <td>1988-09-29 00:00:00</td>\n",
              "    </tr>\n",
              "    <tr>\n",
              "      <th>27</th>\n",
              "      <td>MMS49649F</td>\n",
              "      <td>Mary</td>\n",
              "      <td>M</td>\n",
              "      <td>Saveley</td>\n",
              "      <td>8</td>\n",
              "      <td>175</td>\n",
              "      <td>736</td>\n",
              "      <td>1993-06-29 00:00:00</td>\n",
              "    </tr>\n",
              "    <tr>\n",
              "      <th>28</th>\n",
              "      <td>PCM98509F</td>\n",
              "      <td>Patricia</td>\n",
              "      <td>C</td>\n",
              "      <td>McKenna</td>\n",
              "      <td>11</td>\n",
              "      <td>150</td>\n",
              "      <td>9999</td>\n",
              "      <td>1989-08-01 00:00:00</td>\n",
              "    </tr>\n",
              "    <tr>\n",
              "      <th>34</th>\n",
              "      <td>PSP68661F</td>\n",
              "      <td>Paula</td>\n",
              "      <td>S</td>\n",
              "      <td>Parente</td>\n",
              "      <td>8</td>\n",
              "      <td>125</td>\n",
              "      <td>1389</td>\n",
              "      <td>1994-01-19 00:00:00</td>\n",
              "    </tr>\n",
              "    <tr>\n",
              "      <th>38</th>\n",
              "      <td>RBM23061F</td>\n",
              "      <td>Rita</td>\n",
              "      <td>B</td>\n",
              "      <td>Muller</td>\n",
              "      <td>5</td>\n",
              "      <td>198</td>\n",
              "      <td>1622</td>\n",
              "      <td>1993-10-09 00:00:00</td>\n",
              "    </tr>\n",
              "    <tr>\n",
              "      <th>41</th>\n",
              "      <td>VPA30890F</td>\n",
              "      <td>Victoria</td>\n",
              "      <td>P</td>\n",
              "      <td>Ashworth</td>\n",
              "      <td>6</td>\n",
              "      <td>140</td>\n",
              "      <td>877</td>\n",
              "      <td>1990-09-13 00:00:00</td>\n",
              "    </tr>\n",
              "  </tbody>\n",
              "</table>\n",
              "</div>"
            ],
            "text/plain": [
              "       emp_id      fname minit      lname  job_id  job_lvl  pub_id  \\\n",
              "0   A-C71970F       Aria   NaN       Cruz      10       87    1389   \n",
              "1   A-R89858F    Annette   NaN     Roulet       6      152    9999   \n",
              "2   AMD15433F        Ann     M      Devon       3      200    9952   \n",
              "3   ARD36773F    Anabela     R  Domingues       8      100     877   \n",
              "5   CGS88322F     Carine     G    Schmitt      13       64    1389   \n",
              "8   ENL44273F  Elizabeth     N    Lincoln      14       35     877   \n",
              "11  H-B39728F      Helen   NaN    Bennett      12       35     877   \n",
              "14  JYL26161F     Janine     Y    Labrune       5      172    9901   \n",
              "15  KFJ64308F      Karin     F    Josephs      14      100     736   \n",
              "16  KJJ92907F      Karla     J  Jablonski       9      170    9999   \n",
              "17  L-B31947F     Lesley   NaN      Brown       7      120     877   \n",
              "19  M-L67958F      Maria   NaN    Larsson       7      135    1389   \n",
              "21  M-R38834F    Martine   NaN      Rance       9       75     877   \n",
              "23  MAS70474F   Margaret     A      Smith       9       78    1389   \n",
              "27  MMS49649F       Mary     M    Saveley       8      175     736   \n",
              "28  PCM98509F   Patricia     C    McKenna      11      150    9999   \n",
              "34  PSP68661F      Paula     S    Parente       8      125    1389   \n",
              "38  RBM23061F       Rita     B     Muller       5      198    1622   \n",
              "41  VPA30890F   Victoria     P   Ashworth       6      140     877   \n",
              "\n",
              "              hire_date  \n",
              "0   1991-10-26 00:00:00  \n",
              "1   1990-02-21 00:00:00  \n",
              "2   1991-07-16 00:00:00  \n",
              "3   1993-01-27 00:00:00  \n",
              "5   1992-07-07 00:00:00  \n",
              "8   1990-07-24 00:00:00  \n",
              "11  1989-09-21 00:00:00  \n",
              "14  1991-05-26 00:00:00  \n",
              "15  1992-10-17 00:00:00  \n",
              "16  1994-03-11 00:00:00  \n",
              "17  1991-02-13 00:00:00  \n",
              "19  1992-03-27 00:00:00  \n",
              "21  1992-02-05 00:00:00  \n",
              "23  1988-09-29 00:00:00  \n",
              "27  1993-06-29 00:00:00  \n",
              "28  1989-08-01 00:00:00  \n",
              "34  1994-01-19 00:00:00  \n",
              "38  1993-10-09 00:00:00  \n",
              "41  1990-09-13 00:00:00  "
            ]
          },
          "execution_count": 7,
          "metadata": {},
          "output_type": "execute_result"
        }
      ],
      "source": [
        "(\n",
        "employee\n",
        "    .loc[employee['emp_id'].str.contains('F$', regex=True)]\n",
        ")"
      ]
    },
    {
      "cell_type": "markdown",
      "metadata": {
        "id": "a1oDeOdhrtUO"
      },
      "source": [
        "### Hint:"
      ]
    },
    {
      "cell_type": "markdown",
      "metadata": {
        "id": "uWPNed_ortUO"
      },
      "source": [
        "In SQL the syntax is:\n",
        "\n",
        "```sql\n",
        "SELECT emp_id, fname,lname \n",
        "FROM employee \n",
        "WHERE emp_id LIKE ('%F');\n",
        "```"
      ]
    },
    {
      "cell_type": "markdown",
      "metadata": {
        "id": "RYAIY_QirtUO"
      },
      "source": [
        "## 7. Select the first and last names of all male employees whose name starts with \"P\"."
      ]
    },
    {
      "cell_type": "code",
      "execution_count": null,
      "metadata": {
        "id": "9Mn1X9cgrtUO",
        "outputId": "3f6840d4-fa3c-43a8-ee49-b475e360c1d4"
      },
      "outputs": [
        {
          "data": {
            "text/html": [
              "<div>\n",
              "<style scoped>\n",
              "    .dataframe tbody tr th:only-of-type {\n",
              "        vertical-align: middle;\n",
              "    }\n",
              "\n",
              "    .dataframe tbody tr th {\n",
              "        vertical-align: top;\n",
              "    }\n",
              "\n",
              "    .dataframe thead th {\n",
              "        text-align: right;\n",
              "    }\n",
              "</style>\n",
              "<table border=\"1\" class=\"dataframe\">\n",
              "  <thead>\n",
              "    <tr style=\"text-align: right;\">\n",
              "      <th></th>\n",
              "      <th>fname</th>\n",
              "      <th>lname</th>\n",
              "    </tr>\n",
              "  </thead>\n",
              "  <tbody>\n",
              "    <tr>\n",
              "      <th>20</th>\n",
              "      <td>Manuel</td>\n",
              "      <td>Pereira</td>\n",
              "    </tr>\n",
              "    <tr>\n",
              "      <th>22</th>\n",
              "      <td>Miguel</td>\n",
              "      <td>Paolino</td>\n",
              "    </tr>\n",
              "    <tr>\n",
              "      <th>26</th>\n",
              "      <td>Maria</td>\n",
              "      <td>Pontes</td>\n",
              "    </tr>\n",
              "    <tr>\n",
              "      <th>29</th>\n",
              "      <td>Palle</td>\n",
              "      <td>Ibsen</td>\n",
              "    </tr>\n",
              "    <tr>\n",
              "      <th>30</th>\n",
              "      <td>Peter</td>\n",
              "      <td>Franken</td>\n",
              "    </tr>\n",
              "    <tr>\n",
              "      <th>31</th>\n",
              "      <td>Paolo</td>\n",
              "      <td>Accorti</td>\n",
              "    </tr>\n",
              "    <tr>\n",
              "      <th>32</th>\n",
              "      <td>Pirkko</td>\n",
              "      <td>Koskitalo</td>\n",
              "    </tr>\n",
              "    <tr>\n",
              "      <th>33</th>\n",
              "      <td>Pedro</td>\n",
              "      <td>Afonso</td>\n",
              "    </tr>\n",
              "    <tr>\n",
              "      <th>35</th>\n",
              "      <td>Philip</td>\n",
              "      <td>Cramer</td>\n",
              "    </tr>\n",
              "    <tr>\n",
              "      <th>36</th>\n",
              "      <td>Paul</td>\n",
              "      <td>Henriot</td>\n",
              "    </tr>\n",
              "  </tbody>\n",
              "</table>\n",
              "</div>"
            ],
            "text/plain": [
              "     fname      lname\n",
              "20  Manuel    Pereira\n",
              "22  Miguel    Paolino\n",
              "26   Maria     Pontes\n",
              "29   Palle      Ibsen\n",
              "30   Peter    Franken\n",
              "31   Paolo    Accorti\n",
              "32  Pirkko  Koskitalo\n",
              "33   Pedro     Afonso\n",
              "35  Philip     Cramer\n",
              "36    Paul    Henriot"
            ]
          },
          "execution_count": 8,
          "metadata": {},
          "output_type": "execute_result"
        }
      ],
      "source": [
        "(\n",
        "employee\n",
        "    .loc[employee['emp_id'].str.contains('M$', regex=True)\n",
        "        &(employee['fname'].str.contains('^P', regex=True)\n",
        "        |employee['lname'].str.contains('^P', regex=True))]\n",
        "    [['fname', 'lname']]\n",
        ")"
      ]
    },
    {
      "cell_type": "markdown",
      "metadata": {
        "id": "5j61gAhortUO"
      },
      "source": [
        "### Hint:"
      ]
    },
    {
      "cell_type": "markdown",
      "metadata": {
        "id": "QtcO7PETrtUO"
      },
      "source": [
        "In SQL the syntax is:\n",
        "\n",
        "```sql\n",
        "SELECT\n",
        "    emp_id,\n",
        "    fname,\n",
        "    lname\n",
        "FROM\n",
        "    employee\n",
        "WHERE\n",
        "    (fname LIKE 'P%' \n",
        "    OR lname LIKE 'P%') \n",
        "    AND emp_id LIKE '%M';\n",
        "```"
      ]
    },
    {
      "cell_type": "markdown",
      "metadata": {
        "id": "KcNpKqu6rtUP"
      },
      "source": [
        "## 8. Select all books that have an \"ing\" in the title, with at least 4 other characters preceding it. \n",
        "For example, 'cooking' has 4 characters before the\n",
        "   'ing', so this should be included; 'sewing' has only 3 characters before the\n",
        "   'ing', so this shouldn't be included."
      ]
    },
    {
      "cell_type": "code",
      "execution_count": null,
      "metadata": {
        "id": "1NK4xKeprtUP",
        "outputId": "8433aaa8-83e2-4560-ce74-40fe9fd4972a"
      },
      "outputs": [
        {
          "data": {
            "text/html": [
              "<div>\n",
              "<style scoped>\n",
              "    .dataframe tbody tr th:only-of-type {\n",
              "        vertical-align: middle;\n",
              "    }\n",
              "\n",
              "    .dataframe tbody tr th {\n",
              "        vertical-align: top;\n",
              "    }\n",
              "\n",
              "    .dataframe thead th {\n",
              "        text-align: right;\n",
              "    }\n",
              "</style>\n",
              "<table border=\"1\" class=\"dataframe\">\n",
              "  <thead>\n",
              "    <tr style=\"text-align: right;\">\n",
              "      <th></th>\n",
              "      <th>title_id</th>\n",
              "      <th>title</th>\n",
              "      <th>type</th>\n",
              "      <th>pub_id</th>\n",
              "      <th>price</th>\n",
              "      <th>advance</th>\n",
              "      <th>royalty</th>\n",
              "      <th>ytd_sales</th>\n",
              "      <th>notes</th>\n",
              "      <th>pubdate</th>\n",
              "    </tr>\n",
              "  </thead>\n",
              "  <tbody>\n",
              "    <tr>\n",
              "      <th>1</th>\n",
              "      <td>BU1111</td>\n",
              "      <td>Cooking with Computers: Surreptitious Balance ...</td>\n",
              "      <td>business</td>\n",
              "      <td>1389</td>\n",
              "      <td>11.95</td>\n",
              "      <td>5000.0</td>\n",
              "      <td>10</td>\n",
              "      <td>3876</td>\n",
              "      <td>Helpful hints on how to use your electronic re...</td>\n",
              "      <td>1991-06-09 00:00:00</td>\n",
              "    </tr>\n",
              "    <tr>\n",
              "      <th>6</th>\n",
              "      <td>MC3026</td>\n",
              "      <td>The Psychology of Computer Cooking</td>\n",
              "      <td>UNDECIDED</td>\n",
              "      <td>877</td>\n",
              "      <td>0.00</td>\n",
              "      <td>0.0</td>\n",
              "      <td>0</td>\n",
              "      <td>0</td>\n",
              "      <td>NaN</td>\n",
              "      <td>2014-11-07 10:39:37</td>\n",
              "    </tr>\n",
              "    <tr>\n",
              "      <th>15</th>\n",
              "      <td>TC3218</td>\n",
              "      <td>Onions, Leeks, and Garlic: Cooking Secrets of ...</td>\n",
              "      <td>trad_cook</td>\n",
              "      <td>877</td>\n",
              "      <td>20.95</td>\n",
              "      <td>7000.0</td>\n",
              "      <td>10</td>\n",
              "      <td>375</td>\n",
              "      <td>Profusely illustrated in color, this makes a w...</td>\n",
              "      <td>1991-10-21 00:00:00</td>\n",
              "    </tr>\n",
              "    <tr>\n",
              "      <th>16</th>\n",
              "      <td>TC4203</td>\n",
              "      <td>Fifty Years in Buckingham Palace Kitchens</td>\n",
              "      <td>trad_cook</td>\n",
              "      <td>877</td>\n",
              "      <td>11.95</td>\n",
              "      <td>4000.0</td>\n",
              "      <td>14</td>\n",
              "      <td>15096</td>\n",
              "      <td>More anecdotes from the Queen's favorite cook ...</td>\n",
              "      <td>1991-06-12 00:00:00</td>\n",
              "    </tr>\n",
              "  </tbody>\n",
              "</table>\n",
              "</div>"
            ],
            "text/plain": [
              "   title_id                                              title       type  \\\n",
              "1    BU1111  Cooking with Computers: Surreptitious Balance ...   business   \n",
              "6    MC3026                 The Psychology of Computer Cooking  UNDECIDED   \n",
              "15   TC3218  Onions, Leeks, and Garlic: Cooking Secrets of ...  trad_cook   \n",
              "16   TC4203          Fifty Years in Buckingham Palace Kitchens  trad_cook   \n",
              "\n",
              "    pub_id  price  advance  royalty  ytd_sales  \\\n",
              "1     1389  11.95   5000.0       10       3876   \n",
              "6      877   0.00      0.0        0          0   \n",
              "15     877  20.95   7000.0       10        375   \n",
              "16     877  11.95   4000.0       14      15096   \n",
              "\n",
              "                                                notes              pubdate  \n",
              "1   Helpful hints on how to use your electronic re...  1991-06-09 00:00:00  \n",
              "6                                                 NaN  2014-11-07 10:39:37  \n",
              "15  Profusely illustrated in color, this makes a w...  1991-10-21 00:00:00  \n",
              "16  More anecdotes from the Queen's favorite cook ...  1991-06-12 00:00:00  "
            ]
          },
          "execution_count": 9,
          "metadata": {},
          "output_type": "execute_result"
        }
      ],
      "source": [
        "(\n",
        "titles\n",
        "    # within a regular expression, '.' is a wildcard character \n",
        "    # which can take the value of any - and any number of - characters.\n",
        "    .loc[titles['title'].str.contains('....ing', regex=True)]\n",
        ")"
      ]
    },
    {
      "cell_type": "markdown",
      "metadata": {
        "id": "Gs1Ut7d7rtUP"
      },
      "source": [
        "### Hint:"
      ]
    },
    {
      "cell_type": "markdown",
      "metadata": {
        "id": "gsHIxBcUrtUP"
      },
      "source": [
        "In SQL the syntax is:\n",
        "\n",
        "```sql\n",
        "SELECT title\n",
        "FROM titles\n",
        "WHERE title LIKE \"%____ing%\";\n",
        "```"
      ]
    },
    {
      "cell_type": "markdown",
      "metadata": {
        "id": "qivzCSW1rtUP"
      },
      "source": []
    }
  ],
  "metadata": {
    "kernelspec": {
      "display_name": "Pandas",
      "language": "python",
      "name": "python3"
    },
    "language_info": {
      "codemirror_mode": {
        "name": "ipython",
        "version": 3
      },
      "file_extension": ".py",
      "mimetype": "text/x-python",
      "name": "python",
      "nbconvert_exporter": "python",
      "pygments_lexer": "ipython3",
      "version": "3.9.15"
    },
    "orig_nbformat": 4,
    "vscode": {
      "interpreter": {
        "hash": "d3320157bbf74c474a389ba3c249fd8129c2512710cab608d52eccd3d813ad2b"
      }
    },
    "colab": {
      "provenance": []
    }
  },
  "nbformat": 4,
  "nbformat_minor": 0
}