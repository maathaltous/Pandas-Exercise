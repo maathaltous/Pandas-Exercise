{
  "cells": [
    {
      "cell_type": "markdown",
      "metadata": {
        "id": "Qm-J4vugQKn1"
      },
      "source": [
        "# From SQL to Pandas Challenge 2\n",
        "\n",
        "First, we'll need to set up the tables again, so we can work with them."
      ]
    },
    {
      "cell_type": "code",
      "execution_count": null,
      "metadata": {
        "id": "7R1pLyfmQKn5"
      },
      "outputs": [],
      "source": [
        "# import libraries\n",
        "import pandas as pd\n",
        "\n",
        "# load data\n",
        "# This code is made to load our data stored on Google Drive\n",
        "def gd_path(file_id):\n",
        "    \"\"\"Generate a shareable link from Google Drive file id.\"\"\"\n",
        "    return f\"https://drive.google.com/uc?export=download&id={file_id}\"\n",
        "\n",
        "# Google Drive file ids\n",
        "files_id = {\n",
        "    \"titleauthor\": \"1F1JOiYXStWacOBca6coNVfyVtoST7ZgD\",\n",
        "    \"titles\": \"1PLdn50N9GRa53ZbuVWo0l47F_IXdvlEm\",\n",
        "    \"stores\": \"1f-GCgip7O93CpbAkYvOsc21eKnSOSHsQ\", \n",
        "    \"sales\": \"1fzFc9rwYmVIPaGOFmhLVxCi3kg19vNU2\", \n",
        "    \"roysched\": \"1zPRZPoFPEMKyrNR5VSENeYFHGCBZmxbs\", \n",
        "    \"publishers\": \"1s9E8_AVOziTrowb3wyh2jg3PV763VOyq\",\n",
        "    \"pub_info\": \"1OEgogcGKy--EpuVj0kqq7lyBZNGW6YSv\", \n",
        "    \"jobs\": \"1V1Za8hUdXD-vJOyRdX4aQV5wanIff2eM\", \n",
        "    \"employee\": \"1h9mUjsVqpP74b1w0x7KOw37n_n9Ulkt5\", \n",
        "    \"discounts\": \"111dvSxMcCsTgOuV1wDSKFJxO1Xcxd9VS\", \n",
        "    \"authors\": \"1fEF89Nhe61EebAljKlwFwfEuokK0o6aJ\"\n",
        "}\n",
        "\n",
        "# Read data from Google Drive\n",
        "sales = pd.read_csv(gd_path(files_id[\"sales\"]), sep=\";\")\n",
        "authors = pd.read_csv(gd_path(files_id[\"authors\"]), sep=\";\")\n",
        "publishers = pd.read_csv(gd_path(files_id[\"publishers\"]), sep=\";\")"
      ]
    },
    {
      "cell_type": "markdown",
      "metadata": {
        "id": "ZpK1JzaoQKn6"
      },
      "source": [
        "## 1. Select first and last name from authors who have the last name \"Ringer\""
      ]
    },
    {
      "cell_type": "code",
      "execution_count": null,
      "metadata": {
        "id": "cXDB0gzhQKn6",
        "outputId": "60f3ba14-5511-4c95-df09-7ebc2ac7ef65"
      },
      "outputs": [
        {
          "data": {
            "text/html": [
              "<div>\n",
              "<style scoped>\n",
              "    .dataframe tbody tr th:only-of-type {\n",
              "        vertical-align: middle;\n",
              "    }\n",
              "\n",
              "    .dataframe tbody tr th {\n",
              "        vertical-align: top;\n",
              "    }\n",
              "\n",
              "    .dataframe thead th {\n",
              "        text-align: right;\n",
              "    }\n",
              "</style>\n",
              "<table border=\"1\" class=\"dataframe\">\n",
              "  <thead>\n",
              "    <tr style=\"text-align: right;\">\n",
              "      <th></th>\n",
              "      <th>au_fname</th>\n",
              "      <th>au_lname</th>\n",
              "    </tr>\n",
              "  </thead>\n",
              "  <tbody>\n",
              "    <tr>\n",
              "      <th>21</th>\n",
              "      <td>Anne</td>\n",
              "      <td>Ringer</td>\n",
              "    </tr>\n",
              "    <tr>\n",
              "      <th>22</th>\n",
              "      <td>Albert</td>\n",
              "      <td>Ringer</td>\n",
              "    </tr>\n",
              "  </tbody>\n",
              "</table>\n",
              "</div>"
            ],
            "text/plain": [
              "   au_fname au_lname\n",
              "21     Anne   Ringer\n",
              "22   Albert   Ringer"
            ]
          },
          "execution_count": 2,
          "metadata": {},
          "output_type": "execute_result"
        }
      ],
      "source": [
        "(\n",
        "authors\n",
        "    .loc[authors['au_lname']=='Ringer']\n",
        "    [['au_fname', 'au_lname']]\n",
        ")"
      ]
    },
    {
      "cell_type": "markdown",
      "metadata": {
        "id": "kmFq4SwiQKn7"
      },
      "source": [
        "### Hint:"
      ]
    },
    {
      "cell_type": "markdown",
      "metadata": {
        "id": "gbknzMFTQKn7"
      },
      "source": [
        "\n",
        "In SQL the syntax is:\n",
        "\n",
        "```sql\n",
        "SELECT au_fname, au_lname\n",
        "FROM authors\n",
        "WHERE au_lname=\"Ringer\";\n",
        "```"
      ]
    },
    {
      "cell_type": "markdown",
      "metadata": {
        "id": "BDTa_hWAQKn8"
      },
      "source": [
        "## 2. Select the order number and order date of all sales where *exactly* 20 books where sold."
      ]
    },
    {
      "cell_type": "code",
      "execution_count": null,
      "metadata": {
        "id": "n463iOasQKn8",
        "outputId": "8118bf46-dde7-4bf8-c272-c427c6875b7a"
      },
      "outputs": [
        {
          "data": {
            "text/html": [
              "<div>\n",
              "<style scoped>\n",
              "    .dataframe tbody tr th:only-of-type {\n",
              "        vertical-align: middle;\n",
              "    }\n",
              "\n",
              "    .dataframe tbody tr th {\n",
              "        vertical-align: top;\n",
              "    }\n",
              "\n",
              "    .dataframe thead th {\n",
              "        text-align: right;\n",
              "    }\n",
              "</style>\n",
              "<table border=\"1\" class=\"dataframe\">\n",
              "  <thead>\n",
              "    <tr style=\"text-align: right;\">\n",
              "      <th></th>\n",
              "      <th>ord_num</th>\n",
              "      <th>ord_date</th>\n",
              "    </tr>\n",
              "  </thead>\n",
              "  <tbody>\n",
              "    <tr>\n",
              "      <th>6</th>\n",
              "      <td>P2121</td>\n",
              "      <td>1992-06-15 00:00:00</td>\n",
              "    </tr>\n",
              "    <tr>\n",
              "      <th>7</th>\n",
              "      <td>P2121</td>\n",
              "      <td>1992-06-15 00:00:00</td>\n",
              "    </tr>\n",
              "    <tr>\n",
              "      <th>8</th>\n",
              "      <td>N914008</td>\n",
              "      <td>1994-09-14 00:00:00</td>\n",
              "    </tr>\n",
              "    <tr>\n",
              "      <th>10</th>\n",
              "      <td>P3087a</td>\n",
              "      <td>1993-05-29 00:00:00</td>\n",
              "    </tr>\n",
              "  </tbody>\n",
              "</table>\n",
              "</div>"
            ],
            "text/plain": [
              "    ord_num             ord_date\n",
              "6     P2121  1992-06-15 00:00:00\n",
              "7     P2121  1992-06-15 00:00:00\n",
              "8   N914008  1994-09-14 00:00:00\n",
              "10   P3087a  1993-05-29 00:00:00"
            ]
          },
          "execution_count": 3,
          "metadata": {},
          "output_type": "execute_result"
        }
      ],
      "source": [
        "(\n",
        "sales\n",
        "    [['ord_num', 'ord_date']]\n",
        "    .loc[sales['qty']==20]\n",
        ")"
      ]
    },
    {
      "cell_type": "markdown",
      "metadata": {
        "id": "9uFrLbdiQKn8"
      },
      "source": [
        "### Hint:"
      ]
    },
    {
      "cell_type": "markdown",
      "metadata": {
        "id": "XBHrBek4QKn9"
      },
      "source": [
        "In SQL the syntax is: \n",
        "\n",
        "```sql\n",
        "SELECT ord_num, ord_date, qty \n",
        "FROM sales \n",
        "WHER'E qty = 20;\n",
        "```"
      ]
    },
    {
      "cell_type": "markdown",
      "metadata": {
        "id": "UuHT1idzQKn9"
      },
      "source": [
        "## 3. Select first and last name from authors whose last name is \"Ringer\" and first name is \"Anne\""
      ]
    },
    {
      "cell_type": "code",
      "execution_count": null,
      "metadata": {
        "id": "rk3-8SpXQKn9",
        "outputId": "89d0dd97-a9ba-48bc-9c35-fb01c3cae673"
      },
      "outputs": [
        {
          "data": {
            "text/html": [
              "<div>\n",
              "<style scoped>\n",
              "    .dataframe tbody tr th:only-of-type {\n",
              "        vertical-align: middle;\n",
              "    }\n",
              "\n",
              "    .dataframe tbody tr th {\n",
              "        vertical-align: top;\n",
              "    }\n",
              "\n",
              "    .dataframe thead th {\n",
              "        text-align: right;\n",
              "    }\n",
              "</style>\n",
              "<table border=\"1\" class=\"dataframe\">\n",
              "  <thead>\n",
              "    <tr style=\"text-align: right;\">\n",
              "      <th></th>\n",
              "      <th>au_fname</th>\n",
              "      <th>au_lname</th>\n",
              "    </tr>\n",
              "  </thead>\n",
              "  <tbody>\n",
              "    <tr>\n",
              "      <th>21</th>\n",
              "      <td>Anne</td>\n",
              "      <td>Ringer</td>\n",
              "    </tr>\n",
              "  </tbody>\n",
              "</table>\n",
              "</div>"
            ],
            "text/plain": [
              "   au_fname au_lname\n",
              "21     Anne   Ringer"
            ]
          },
          "execution_count": 4,
          "metadata": {},
          "output_type": "execute_result"
        }
      ],
      "source": [
        "(\n",
        "authors\n",
        "    # Make sure you only ever compare TWO things at once and sperate accordingly with parantheses.\n",
        "    # Here, we compare the lastname with 'Ringer', then the firstname with 'Anne' and then both results with each other. \n",
        "    .loc[(authors['au_lname']=='Ringer')\n",
        "        &(authors['au_fname']=='Anne')]\n",
        "    [['au_fname', 'au_lname']]\n",
        ")"
      ]
    },
    {
      "cell_type": "markdown",
      "metadata": {
        "id": "zldhvNw3QKn-"
      },
      "source": [
        "### Hint:"
      ]
    },
    {
      "cell_type": "markdown",
      "metadata": {
        "id": "xmqfPpNmQKn-"
      },
      "source": [
        "In SQL the syntax is:\n",
        "\n",
        "```sql\n",
        "SELECT au_fname, au_lname\n",
        "FROM authors\n",
        "WHERE au_fname = \"Anne\"\n",
        "AND au_lname = \"Ringer\";\n",
        "```"
      ]
    },
    {
      "cell_type": "markdown",
      "metadata": {
        "id": "K692QxkAQKn-"
      },
      "source": [
        "### 4. Select the name and city of publishers based in either Germany or France"
      ]
    },
    {
      "cell_type": "code",
      "execution_count": null,
      "metadata": {
        "id": "PLTIYlmaQKn-",
        "outputId": "98e459f0-6d32-4724-96a2-cfd106837611"
      },
      "outputs": [
        {
          "data": {
            "text/html": [
              "<div>\n",
              "<style scoped>\n",
              "    .dataframe tbody tr th:only-of-type {\n",
              "        vertical-align: middle;\n",
              "    }\n",
              "\n",
              "    .dataframe tbody tr th {\n",
              "        vertical-align: top;\n",
              "    }\n",
              "\n",
              "    .dataframe thead th {\n",
              "        text-align: right;\n",
              "    }\n",
              "</style>\n",
              "<table border=\"1\" class=\"dataframe\">\n",
              "  <thead>\n",
              "    <tr style=\"text-align: right;\">\n",
              "      <th></th>\n",
              "      <th>pub_name</th>\n",
              "      <th>city</th>\n",
              "    </tr>\n",
              "  </thead>\n",
              "  <tbody>\n",
              "    <tr>\n",
              "      <th>5</th>\n",
              "      <td>GGG&amp;G</td>\n",
              "      <td>Mnchen</td>\n",
              "    </tr>\n",
              "    <tr>\n",
              "      <th>7</th>\n",
              "      <td>Lucerne Publishing</td>\n",
              "      <td>Paris</td>\n",
              "    </tr>\n",
              "  </tbody>\n",
              "</table>\n",
              "</div>"
            ],
            "text/plain": [
              "             pub_name     city\n",
              "5               GGG&G  Mnchen\n",
              "7  Lucerne Publishing    Paris"
            ]
          },
          "execution_count": 5,
          "metadata": {},
          "output_type": "execute_result"
        }
      ],
      "source": [
        "(\n",
        "publishers\n",
        "    [['pub_name', 'city']]\n",
        "    .loc[(publishers['country']=='Germany')\n",
        "        |(publishers['country']== 'France')]\n",
        ")"
      ]
    },
    {
      "cell_type": "markdown",
      "metadata": {
        "id": "-Sk7JOHiQKn-"
      },
      "source": [
        "### Hint:"
      ]
    },
    {
      "cell_type": "markdown",
      "metadata": {
        "id": "z5029NF7QKn_"
      },
      "source": [
        "In SQL the syntax is:\n",
        "\n",
        "```sql\n",
        "SELECT pub_name, city \n",
        "FROM publishers \n",
        "WHERE country='Germany' \n",
        "OR country='France';\n",
        "```"
      ]
    },
    {
      "cell_type": "markdown",
      "metadata": {
        "id": "CG8-VqTHQKn_"
      },
      "source": [
        "## 5. Select first name, last name and city from authors whose first name is \"Dean\" and whose city is either \"Oakland\" or \"Berkeley\""
      ]
    },
    {
      "cell_type": "code",
      "execution_count": null,
      "metadata": {
        "id": "EzDoJyFCQKn_",
        "outputId": "3bd4e337-d794-4187-f235-6de27cb9ec01"
      },
      "outputs": [
        {
          "data": {
            "text/html": [
              "<div>\n",
              "<style scoped>\n",
              "    .dataframe tbody tr th:only-of-type {\n",
              "        vertical-align: middle;\n",
              "    }\n",
              "\n",
              "    .dataframe tbody tr th {\n",
              "        vertical-align: top;\n",
              "    }\n",
              "\n",
              "    .dataframe thead th {\n",
              "        text-align: right;\n",
              "    }\n",
              "</style>\n",
              "<table border=\"1\" class=\"dataframe\">\n",
              "  <thead>\n",
              "    <tr style=\"text-align: right;\">\n",
              "      <th></th>\n",
              "      <th>au_fname</th>\n",
              "      <th>au_lname</th>\n",
              "      <th>city</th>\n",
              "    </tr>\n",
              "  </thead>\n",
              "  <tbody>\n",
              "    <tr>\n",
              "      <th>4</th>\n",
              "      <td>Dean</td>\n",
              "      <td>Straight</td>\n",
              "      <td>Oakland</td>\n",
              "    </tr>\n",
              "  </tbody>\n",
              "</table>\n",
              "</div>"
            ],
            "text/plain": [
              "  au_fname  au_lname     city\n",
              "4     Dean  Straight  Oakland"
            ]
          },
          "execution_count": 6,
          "metadata": {},
          "output_type": "execute_result"
        }
      ],
      "source": [
        "(\n",
        "authors\n",
        "    [['au_fname', 'au_lname', 'city']]\n",
        "    .loc[(authors['au_fname']=='Dean')\n",
        "    # notice the additional set of parantheses around both 'city' queries, ensuring that we only compare two things at once\n",
        "    &((authors['city']=='Oakland')\n",
        "    |(authors['city']=='Berkeley'))\n",
        "    ]\n",
        ")"
      ]
    },
    {
      "cell_type": "markdown",
      "metadata": {
        "id": "S6HHcUExQKn_"
      },
      "source": [
        "### Hint:"
      ]
    },
    {
      "cell_type": "markdown",
      "metadata": {
        "id": "QToCZxqjQKoA"
      },
      "source": [
        "In SQL the syntax is:\n",
        "\n",
        "```sql\n",
        "SELECT au_fname,au_lname,city\n",
        "FROM authors\n",
        "WHERE au_fname =\"Dean\" \n",
        "AND (city =\"Oakland\" OR city = \"Berkeley\");\n",
        "```"
      ]
    },
    {
      "cell_type": "markdown",
      "metadata": {
        "id": "cEDkqThqQKoA"
      },
      "source": [
        "## 6. Select the name, city and country of publishers, not based in the USA"
      ]
    },
    {
      "cell_type": "code",
      "execution_count": null,
      "metadata": {
        "id": "VVsLQOzYQKoA",
        "outputId": "e325662b-2291-4186-c285-0ecb600cac8c"
      },
      "outputs": [
        {
          "data": {
            "text/html": [
              "<div>\n",
              "<style scoped>\n",
              "    .dataframe tbody tr th:only-of-type {\n",
              "        vertical-align: middle;\n",
              "    }\n",
              "\n",
              "    .dataframe tbody tr th {\n",
              "        vertical-align: top;\n",
              "    }\n",
              "\n",
              "    .dataframe thead th {\n",
              "        text-align: right;\n",
              "    }\n",
              "</style>\n",
              "<table border=\"1\" class=\"dataframe\">\n",
              "  <thead>\n",
              "    <tr style=\"text-align: right;\">\n",
              "      <th></th>\n",
              "      <th>pub_name</th>\n",
              "      <th>city</th>\n",
              "      <th>country</th>\n",
              "    </tr>\n",
              "  </thead>\n",
              "  <tbody>\n",
              "    <tr>\n",
              "      <th>5</th>\n",
              "      <td>GGG&amp;G</td>\n",
              "      <td>Mnchen</td>\n",
              "      <td>Germany</td>\n",
              "    </tr>\n",
              "    <tr>\n",
              "      <th>7</th>\n",
              "      <td>Lucerne Publishing</td>\n",
              "      <td>Paris</td>\n",
              "      <td>France</td>\n",
              "    </tr>\n",
              "  </tbody>\n",
              "</table>\n",
              "</div>"
            ],
            "text/plain": [
              "             pub_name     city  country\n",
              "5               GGG&G  Mnchen  Germany\n",
              "7  Lucerne Publishing    Paris   France"
            ]
          },
          "execution_count": 7,
          "metadata": {},
          "output_type": "execute_result"
        }
      ],
      "source": [
        "(\n",
        "publishers\n",
        "    [['pub_name', 'city', 'country']]\n",
        "    .loc[~(publishers['country']=='USA')]\n",
        ")"
      ]
    },
    {
      "cell_type": "markdown",
      "metadata": {
        "id": "nsIBW-9KQKoA"
      },
      "source": [
        "### Hint:"
      ]
    },
    {
      "cell_type": "markdown",
      "metadata": {
        "id": "WD6sULndQKoA"
      },
      "source": [
        "The SQL syntax is:\n",
        "```sql\n",
        "SELECT pub_name, city,country\n",
        "FROM publishers\n",
        "WHERE NOT country=\"USA\";\n",
        "```"
      ]
    },
    {
      "cell_type": "markdown",
      "metadata": {
        "id": "QRAMNE1wQKoB"
      },
      "source": [
        "## 7. Select first name, last name and city from authors whose city is \"Oakland\" or \"Berkeley\", and last name is **not** \"Straight\""
      ]
    },
    {
      "cell_type": "code",
      "execution_count": null,
      "metadata": {
        "id": "Zr0sFmXkQKoB",
        "outputId": "12c52b49-9c2d-43d8-c800-812c1a05d391"
      },
      "outputs": [
        {
          "data": {
            "text/html": [
              "<div>\n",
              "<style scoped>\n",
              "    .dataframe tbody tr th:only-of-type {\n",
              "        vertical-align: middle;\n",
              "    }\n",
              "\n",
              "    .dataframe tbody tr th {\n",
              "        vertical-align: top;\n",
              "    }\n",
              "\n",
              "    .dataframe thead th {\n",
              "        text-align: right;\n",
              "    }\n",
              "</style>\n",
              "<table border=\"1\" class=\"dataframe\">\n",
              "  <thead>\n",
              "    <tr style=\"text-align: right;\">\n",
              "      <th></th>\n",
              "      <th>au_fname</th>\n",
              "      <th>au_lname</th>\n",
              "      <th>city</th>\n",
              "    </tr>\n",
              "  </thead>\n",
              "  <tbody>\n",
              "    <tr>\n",
              "      <th>1</th>\n",
              "      <td>Marjorie</td>\n",
              "      <td>Green</td>\n",
              "      <td>Oakland</td>\n",
              "    </tr>\n",
              "    <tr>\n",
              "      <th>2</th>\n",
              "      <td>Cheryl</td>\n",
              "      <td>Carson</td>\n",
              "      <td>Berkeley</td>\n",
              "    </tr>\n",
              "    <tr>\n",
              "      <th>6</th>\n",
              "      <td>Abraham</td>\n",
              "      <td>Bennet</td>\n",
              "      <td>Berkeley</td>\n",
              "    </tr>\n",
              "    <tr>\n",
              "      <th>15</th>\n",
              "      <td>Dirk</td>\n",
              "      <td>Stringer</td>\n",
              "      <td>Oakland</td>\n",
              "    </tr>\n",
              "    <tr>\n",
              "      <th>16</th>\n",
              "      <td>Stearns</td>\n",
              "      <td>MacFeather</td>\n",
              "      <td>Oakland</td>\n",
              "    </tr>\n",
              "    <tr>\n",
              "      <th>17</th>\n",
              "      <td>Livia</td>\n",
              "      <td>Karsen</td>\n",
              "      <td>Oakland</td>\n",
              "    </tr>\n",
              "  </tbody>\n",
              "</table>\n",
              "</div>"
            ],
            "text/plain": [
              "    au_fname    au_lname      city\n",
              "1   Marjorie       Green   Oakland\n",
              "2     Cheryl      Carson  Berkeley\n",
              "6    Abraham      Bennet  Berkeley\n",
              "15      Dirk    Stringer   Oakland\n",
              "16   Stearns  MacFeather   Oakland\n",
              "17     Livia      Karsen   Oakland"
            ]
          },
          "execution_count": 8,
          "metadata": {},
          "output_type": "execute_result"
        }
      ],
      "source": [
        "(\n",
        "authors\n",
        "    [['au_fname', 'au_lname', 'city']]\n",
        "    .loc[((authors['city']=='Oakland')\n",
        "        |(authors['city']=='Berkeley'))\n",
        "        & ~(authors['au_lname']=='Straight')]\n",
        ")"
      ]
    },
    {
      "cell_type": "markdown",
      "metadata": {
        "id": "ni9GU6yfQKoB"
      },
      "source": [
        "### Hint:"
      ]
    },
    {
      "cell_type": "markdown",
      "metadata": {
        "id": "-HObr7aeQKoB"
      },
      "source": [
        "In SQL the syntax is:\n",
        "```sql\n",
        "SELECT au_fname, au_lname, city \n",
        "FROM authors\n",
        "WHERE (city = \"Oakland\" OR city = \"Berkeley\") \n",
        "AND NOT au_lname = \"Straight\";\n",
        "```"
      ]
    },
    {
      "cell_type": "markdown",
      "metadata": {
        "id": "4PXQ9y7UQKoC"
      },
      "source": []
    }
  ],
  "metadata": {
    "kernelspec": {
      "display_name": "Pandas",
      "language": "python",
      "name": "python3"
    },
    "language_info": {
      "codemirror_mode": {
        "name": "ipython",
        "version": 3
      },
      "file_extension": ".py",
      "mimetype": "text/x-python",
      "name": "python",
      "nbconvert_exporter": "python",
      "pygments_lexer": "ipython3",
      "version": "3.9.15"
    },
    "orig_nbformat": 4,
    "vscode": {
      "interpreter": {
        "hash": "d3320157bbf74c474a389ba3c249fd8129c2512710cab608d52eccd3d813ad2b"
      }
    },
    "colab": {
      "provenance": []
    }
  },
  "nbformat": 4,
  "nbformat_minor": 0
}