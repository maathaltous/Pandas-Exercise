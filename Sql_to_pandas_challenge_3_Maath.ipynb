{
  "cells": [
    {
      "cell_type": "markdown",
      "metadata": {
        "id": "U33iZP4jW_-E"
      },
      "source": [
        "# From SQL to Pandas Challenge 3"
      ]
    },
    {
      "cell_type": "code",
      "execution_count": 1,
      "metadata": {
        "id": "iuIB1KTmW_-K"
      },
      "outputs": [],
      "source": [
        "# import libraries\n",
        "import pandas as pd\n",
        "\n",
        "# load data\n",
        "# This code is made to load our data stored on Google Drive\n",
        "def gd_path(file_id):\n",
        "    \"\"\"Generate a shareable link from Google Drive file id.\"\"\"\n",
        "    return f\"https://drive.google.com/uc?export=download&id={file_id}\"\n",
        "\n",
        "# Google Drive file ids\n",
        "files_id = {\n",
        "    \"titleauthor\": \"1F1JOiYXStWacOBca6coNVfyVtoST7ZgD\",\n",
        "    \"titles\": \"1PLdn50N9GRa53ZbuVWo0l47F_IXdvlEm\",\n",
        "    \"stores\": \"1f-GCgip7O93CpbAkYvOsc21eKnSOSHsQ\", \n",
        "    \"sales\": \"1fzFc9rwYmVIPaGOFmhLVxCi3kg19vNU2\", \n",
        "    \"roysched\": \"1zPRZPoFPEMKyrNR5VSENeYFHGCBZmxbs\", \n",
        "    \"publishers\": \"1s9E8_AVOziTrowb3wyh2jg3PV763VOyq\",\n",
        "    \"pub_info\": \"1OEgogcGKy--EpuVj0kqq7lyBZNGW6YSv\", \n",
        "    \"jobs\": \"1V1Za8hUdXD-vJOyRdX4aQV5wanIff2eM\", \n",
        "    \"employee\": \"1h9mUjsVqpP74b1w0x7KOw37n_n9Ulkt5\", \n",
        "    \"discounts\": \"111dvSxMcCsTgOuV1wDSKFJxO1Xcxd9VS\", \n",
        "    \"authors\": \"1fEF89Nhe61EebAljKlwFwfEuokK0o6aJ\"\n",
        "}\n",
        "\n",
        "# Read data from Google Drive\n",
        "sales = pd.read_csv(gd_path(files_id[\"sales\"]), sep=\";\")\n",
        "authors = pd.read_csv(gd_path(files_id[\"authors\"]), sep=\";\")\n",
        "titles = pd.read_csv(gd_path(files_id[\"titles\"]), sep=\";\")"
      ]
    },
    {
      "cell_type": "markdown",
      "metadata": {
        "id": "P7oIrD0WW_-L"
      },
      "source": [
        "## 1. Select the title and ytd_sales from the table titles. Order them by the year to date sales."
      ]
    },
    {
      "cell_type": "code",
      "execution_count": null,
      "metadata": {
        "id": "FUbytuQRW_-L",
        "outputId": "c46198dc-d697-4d9b-f2e9-953cdf2f691f"
      },
      "outputs": [
        {
          "data": {
            "text/html": [
              "<div>\n",
              "<style scoped>\n",
              "    .dataframe tbody tr th:only-of-type {\n",
              "        vertical-align: middle;\n",
              "    }\n",
              "\n",
              "    .dataframe tbody tr th {\n",
              "        vertical-align: top;\n",
              "    }\n",
              "\n",
              "    .dataframe thead th {\n",
              "        text-align: right;\n",
              "    }\n",
              "</style>\n",
              "<table border=\"1\" class=\"dataframe\">\n",
              "  <thead>\n",
              "    <tr style=\"text-align: right;\">\n",
              "      <th></th>\n",
              "      <th>title</th>\n",
              "      <th>ytd_sales</th>\n",
              "    </tr>\n",
              "  </thead>\n",
              "  <tbody>\n",
              "    <tr>\n",
              "      <th>6</th>\n",
              "      <td>The Psychology of Computer Cooking</td>\n",
              "      <td>0</td>\n",
              "    </tr>\n",
              "    <tr>\n",
              "      <th>9</th>\n",
              "      <td>Net Etiquette</td>\n",
              "      <td>0</td>\n",
              "    </tr>\n",
              "    <tr>\n",
              "      <th>12</th>\n",
              "      <td>Life Without Fear</td>\n",
              "      <td>111</td>\n",
              "    </tr>\n",
              "    <tr>\n",
              "      <th>15</th>\n",
              "      <td>Onions, Leeks, and Garlic: Cooking Secrets of ...</td>\n",
              "      <td>375</td>\n",
              "    </tr>\n",
              "    <tr>\n",
              "      <th>10</th>\n",
              "      <td>Computer Phobic AND Non-Phobic Individuals: Be...</td>\n",
              "      <td>375</td>\n",
              "    </tr>\n",
              "    <tr>\n",
              "      <th>4</th>\n",
              "      <td>Silicon Valley Gastronomic Treats</td>\n",
              "      <td>2032</td>\n",
              "    </tr>\n",
              "    <tr>\n",
              "      <th>11</th>\n",
              "      <td>Is Anger the Enemy?</td>\n",
              "      <td>2045</td>\n",
              "    </tr>\n",
              "    <tr>\n",
              "      <th>14</th>\n",
              "      <td>Emotional Security: A New Algorithm</td>\n",
              "      <td>3336</td>\n",
              "    </tr>\n",
              "    <tr>\n",
              "      <th>1</th>\n",
              "      <td>Cooking with Computers: Surreptitious Balance ...</td>\n",
              "      <td>3876</td>\n",
              "    </tr>\n",
              "    <tr>\n",
              "      <th>13</th>\n",
              "      <td>Prolonged Data Deprivation: Four Case Studies</td>\n",
              "      <td>4072</td>\n",
              "    </tr>\n",
              "    <tr>\n",
              "      <th>0</th>\n",
              "      <td>The Busy Executive's Database Guide</td>\n",
              "      <td>4095</td>\n",
              "    </tr>\n",
              "    <tr>\n",
              "      <th>8</th>\n",
              "      <td>Secrets of Silicon Valley</td>\n",
              "      <td>4095</td>\n",
              "    </tr>\n",
              "    <tr>\n",
              "      <th>3</th>\n",
              "      <td>Straight Talk About Computers</td>\n",
              "      <td>4095</td>\n",
              "    </tr>\n",
              "    <tr>\n",
              "      <th>17</th>\n",
              "      <td>Sushi, Anyone?</td>\n",
              "      <td>4095</td>\n",
              "    </tr>\n",
              "    <tr>\n",
              "      <th>7</th>\n",
              "      <td>But Is It User Friendly?</td>\n",
              "      <td>8780</td>\n",
              "    </tr>\n",
              "    <tr>\n",
              "      <th>16</th>\n",
              "      <td>Fifty Years in Buckingham Palace Kitchens</td>\n",
              "      <td>15096</td>\n",
              "    </tr>\n",
              "    <tr>\n",
              "      <th>2</th>\n",
              "      <td>You Can Combat Computer Stress!</td>\n",
              "      <td>18722</td>\n",
              "    </tr>\n",
              "    <tr>\n",
              "      <th>5</th>\n",
              "      <td>The Gourmet Microwave</td>\n",
              "      <td>22246</td>\n",
              "    </tr>\n",
              "  </tbody>\n",
              "</table>\n",
              "</div>"
            ],
            "text/plain": [
              "                                                title  ytd_sales\n",
              "6                  The Psychology of Computer Cooking          0\n",
              "9                                       Net Etiquette          0\n",
              "12                                  Life Without Fear        111\n",
              "15  Onions, Leeks, and Garlic: Cooking Secrets of ...        375\n",
              "10  Computer Phobic AND Non-Phobic Individuals: Be...        375\n",
              "4                   Silicon Valley Gastronomic Treats       2032\n",
              "11                                Is Anger the Enemy?       2045\n",
              "14                Emotional Security: A New Algorithm       3336\n",
              "1   Cooking with Computers: Surreptitious Balance ...       3876\n",
              "13      Prolonged Data Deprivation: Four Case Studies       4072\n",
              "0                 The Busy Executive's Database Guide       4095\n",
              "8                           Secrets of Silicon Valley       4095\n",
              "3                       Straight Talk About Computers       4095\n",
              "17                                     Sushi, Anyone?       4095\n",
              "7                            But Is It User Friendly?       8780\n",
              "16          Fifty Years in Buckingham Palace Kitchens      15096\n",
              "2                     You Can Combat Computer Stress!      18722\n",
              "5                               The Gourmet Microwave      22246"
            ]
          },
          "execution_count": 2,
          "metadata": {},
          "output_type": "execute_result"
        }
      ],
      "source": [
        "(\n",
        "titles\n",
        "    [['title', 'ytd_sales']]\n",
        "    .sort_values(by='ytd_sales')\n",
        ")"
      ]
    },
    {
      "cell_type": "markdown",
      "metadata": {
        "id": "7DC50B1pW_-M"
      },
      "source": [
        "### Hint:"
      ]
    },
    {
      "cell_type": "markdown",
      "metadata": {
        "id": "F98xm_e5W_-N"
      },
      "source": [
        "In SQL, the syntax is:\n",
        "\n",
        "```sql\n",
        "SELECT\n",
        "\ttitle,\n",
        "    ytd_sales\n",
        "FROM\n",
        "\ttitles\n",
        "ORDER BY\n",
        "\tytd_sales;\n",
        "```"
      ]
    },
    {
      "cell_type": "markdown",
      "metadata": {
        "id": "JdTG0JjCW_-N"
      },
      "source": [
        "## 2. Repeat the same query, but this time sort the titles in descending order"
      ]
    },
    {
      "cell_type": "code",
      "execution_count": null,
      "metadata": {
        "id": "3vK7TVNVW_-O",
        "outputId": "da01fbce-b5fb-4326-a4cf-e0e566a58b19"
      },
      "outputs": [
        {
          "data": {
            "text/html": [
              "<div>\n",
              "<style scoped>\n",
              "    .dataframe tbody tr th:only-of-type {\n",
              "        vertical-align: middle;\n",
              "    }\n",
              "\n",
              "    .dataframe tbody tr th {\n",
              "        vertical-align: top;\n",
              "    }\n",
              "\n",
              "    .dataframe thead th {\n",
              "        text-align: right;\n",
              "    }\n",
              "</style>\n",
              "<table border=\"1\" class=\"dataframe\">\n",
              "  <thead>\n",
              "    <tr style=\"text-align: right;\">\n",
              "      <th></th>\n",
              "      <th>title</th>\n",
              "      <th>ytd_sales</th>\n",
              "    </tr>\n",
              "  </thead>\n",
              "  <tbody>\n",
              "    <tr>\n",
              "      <th>5</th>\n",
              "      <td>The Gourmet Microwave</td>\n",
              "      <td>22246</td>\n",
              "    </tr>\n",
              "    <tr>\n",
              "      <th>2</th>\n",
              "      <td>You Can Combat Computer Stress!</td>\n",
              "      <td>18722</td>\n",
              "    </tr>\n",
              "    <tr>\n",
              "      <th>16</th>\n",
              "      <td>Fifty Years in Buckingham Palace Kitchens</td>\n",
              "      <td>15096</td>\n",
              "    </tr>\n",
              "    <tr>\n",
              "      <th>7</th>\n",
              "      <td>But Is It User Friendly?</td>\n",
              "      <td>8780</td>\n",
              "    </tr>\n",
              "    <tr>\n",
              "      <th>0</th>\n",
              "      <td>The Busy Executive's Database Guide</td>\n",
              "      <td>4095</td>\n",
              "    </tr>\n",
              "    <tr>\n",
              "      <th>8</th>\n",
              "      <td>Secrets of Silicon Valley</td>\n",
              "      <td>4095</td>\n",
              "    </tr>\n",
              "    <tr>\n",
              "      <th>17</th>\n",
              "      <td>Sushi, Anyone?</td>\n",
              "      <td>4095</td>\n",
              "    </tr>\n",
              "    <tr>\n",
              "      <th>3</th>\n",
              "      <td>Straight Talk About Computers</td>\n",
              "      <td>4095</td>\n",
              "    </tr>\n",
              "    <tr>\n",
              "      <th>13</th>\n",
              "      <td>Prolonged Data Deprivation: Four Case Studies</td>\n",
              "      <td>4072</td>\n",
              "    </tr>\n",
              "    <tr>\n",
              "      <th>1</th>\n",
              "      <td>Cooking with Computers: Surreptitious Balance ...</td>\n",
              "      <td>3876</td>\n",
              "    </tr>\n",
              "    <tr>\n",
              "      <th>14</th>\n",
              "      <td>Emotional Security: A New Algorithm</td>\n",
              "      <td>3336</td>\n",
              "    </tr>\n",
              "    <tr>\n",
              "      <th>11</th>\n",
              "      <td>Is Anger the Enemy?</td>\n",
              "      <td>2045</td>\n",
              "    </tr>\n",
              "    <tr>\n",
              "      <th>4</th>\n",
              "      <td>Silicon Valley Gastronomic Treats</td>\n",
              "      <td>2032</td>\n",
              "    </tr>\n",
              "    <tr>\n",
              "      <th>10</th>\n",
              "      <td>Computer Phobic AND Non-Phobic Individuals: Be...</td>\n",
              "      <td>375</td>\n",
              "    </tr>\n",
              "    <tr>\n",
              "      <th>15</th>\n",
              "      <td>Onions, Leeks, and Garlic: Cooking Secrets of ...</td>\n",
              "      <td>375</td>\n",
              "    </tr>\n",
              "    <tr>\n",
              "      <th>12</th>\n",
              "      <td>Life Without Fear</td>\n",
              "      <td>111</td>\n",
              "    </tr>\n",
              "    <tr>\n",
              "      <th>6</th>\n",
              "      <td>The Psychology of Computer Cooking</td>\n",
              "      <td>0</td>\n",
              "    </tr>\n",
              "    <tr>\n",
              "      <th>9</th>\n",
              "      <td>Net Etiquette</td>\n",
              "      <td>0</td>\n",
              "    </tr>\n",
              "  </tbody>\n",
              "</table>\n",
              "</div>"
            ],
            "text/plain": [
              "                                                title  ytd_sales\n",
              "5                               The Gourmet Microwave      22246\n",
              "2                     You Can Combat Computer Stress!      18722\n",
              "16          Fifty Years in Buckingham Palace Kitchens      15096\n",
              "7                            But Is It User Friendly?       8780\n",
              "0                 The Busy Executive's Database Guide       4095\n",
              "8                           Secrets of Silicon Valley       4095\n",
              "17                                     Sushi, Anyone?       4095\n",
              "3                       Straight Talk About Computers       4095\n",
              "13      Prolonged Data Deprivation: Four Case Studies       4072\n",
              "1   Cooking with Computers: Surreptitious Balance ...       3876\n",
              "14                Emotional Security: A New Algorithm       3336\n",
              "11                                Is Anger the Enemy?       2045\n",
              "4                   Silicon Valley Gastronomic Treats       2032\n",
              "10  Computer Phobic AND Non-Phobic Individuals: Be...        375\n",
              "15  Onions, Leeks, and Garlic: Cooking Secrets of ...        375\n",
              "12                                  Life Without Fear        111\n",
              "6                  The Psychology of Computer Cooking          0\n",
              "9                                       Net Etiquette          0"
            ]
          },
          "execution_count": 3,
          "metadata": {},
          "output_type": "execute_result"
        }
      ],
      "source": [
        "(\n",
        "titles\n",
        "    [['title', 'ytd_sales']]\n",
        "    .sort_values(by = 'ytd_sales', ascending = False)\n",
        ")"
      ]
    },
    {
      "cell_type": "markdown",
      "metadata": {
        "id": "zTOy81cVW_-O"
      },
      "source": [
        "### Hint:"
      ]
    },
    {
      "cell_type": "markdown",
      "metadata": {
        "id": "lXDaZTzsW_-O"
      },
      "source": [
        "In SQL, the syntax is:\n",
        "\n",
        "```sql\n",
        "SELECT\n",
        "\ttitle,\n",
        "    ytd_sales\n",
        "FROM\n",
        "\ttitles\n",
        "ORDER BY\n",
        "\tytd_sales desc;\n",
        "```"
      ]
    },
    {
      "cell_type": "markdown",
      "metadata": {
        "id": "q3J4yKMpW_-P"
      },
      "source": [
        "## 3. Select the top 5 titles with the most ytd_sales from the table titles"
      ]
    },
    {
      "cell_type": "code",
      "execution_count": null,
      "metadata": {
        "id": "lB4ZjFrCW_-P",
        "outputId": "ba44ed96-9d6b-4cb4-daab-3a645e0566b0"
      },
      "outputs": [
        {
          "data": {
            "text/html": [
              "<div>\n",
              "<style scoped>\n",
              "    .dataframe tbody tr th:only-of-type {\n",
              "        vertical-align: middle;\n",
              "    }\n",
              "\n",
              "    .dataframe tbody tr th {\n",
              "        vertical-align: top;\n",
              "    }\n",
              "\n",
              "    .dataframe thead th {\n",
              "        text-align: right;\n",
              "    }\n",
              "</style>\n",
              "<table border=\"1\" class=\"dataframe\">\n",
              "  <thead>\n",
              "    <tr style=\"text-align: right;\">\n",
              "      <th></th>\n",
              "      <th>title_id</th>\n",
              "      <th>title</th>\n",
              "      <th>type</th>\n",
              "      <th>pub_id</th>\n",
              "      <th>price</th>\n",
              "      <th>advance</th>\n",
              "      <th>royalty</th>\n",
              "      <th>ytd_sales</th>\n",
              "      <th>notes</th>\n",
              "      <th>pubdate</th>\n",
              "    </tr>\n",
              "  </thead>\n",
              "  <tbody>\n",
              "    <tr>\n",
              "      <th>5</th>\n",
              "      <td>MC3021</td>\n",
              "      <td>The Gourmet Microwave</td>\n",
              "      <td>mod_cook</td>\n",
              "      <td>877</td>\n",
              "      <td>2.99</td>\n",
              "      <td>15000.0</td>\n",
              "      <td>24</td>\n",
              "      <td>22246</td>\n",
              "      <td>Traditional French gourmet recipes adapted for...</td>\n",
              "      <td>1991-06-18 00:00:00</td>\n",
              "    </tr>\n",
              "    <tr>\n",
              "      <th>2</th>\n",
              "      <td>BU2075</td>\n",
              "      <td>You Can Combat Computer Stress!</td>\n",
              "      <td>business</td>\n",
              "      <td>736</td>\n",
              "      <td>2.99</td>\n",
              "      <td>10125.0</td>\n",
              "      <td>24</td>\n",
              "      <td>18722</td>\n",
              "      <td>The latest medical and psychological technique...</td>\n",
              "      <td>1991-06-30 00:00:00</td>\n",
              "    </tr>\n",
              "    <tr>\n",
              "      <th>16</th>\n",
              "      <td>TC4203</td>\n",
              "      <td>Fifty Years in Buckingham Palace Kitchens</td>\n",
              "      <td>trad_cook</td>\n",
              "      <td>877</td>\n",
              "      <td>11.95</td>\n",
              "      <td>4000.0</td>\n",
              "      <td>14</td>\n",
              "      <td>15096</td>\n",
              "      <td>More anecdotes from the Queen's favorite cook ...</td>\n",
              "      <td>1991-06-12 00:00:00</td>\n",
              "    </tr>\n",
              "    <tr>\n",
              "      <th>7</th>\n",
              "      <td>PC1035</td>\n",
              "      <td>But Is It User Friendly?</td>\n",
              "      <td>popular_comp</td>\n",
              "      <td>1389</td>\n",
              "      <td>22.95</td>\n",
              "      <td>7000.0</td>\n",
              "      <td>16</td>\n",
              "      <td>8780</td>\n",
              "      <td>A survey of software for the naive user, focus...</td>\n",
              "      <td>1991-06-30 00:00:00</td>\n",
              "    </tr>\n",
              "    <tr>\n",
              "      <th>0</th>\n",
              "      <td>BU1032</td>\n",
              "      <td>The Busy Executive's Database Guide</td>\n",
              "      <td>business</td>\n",
              "      <td>1389</td>\n",
              "      <td>19.99</td>\n",
              "      <td>5000.0</td>\n",
              "      <td>10</td>\n",
              "      <td>4095</td>\n",
              "      <td>An overview of available database systems with...</td>\n",
              "      <td>1991-06-12 00:00:00</td>\n",
              "    </tr>\n",
              "  </tbody>\n",
              "</table>\n",
              "</div>"
            ],
            "text/plain": [
              "   title_id                                      title          type  pub_id  \\\n",
              "5    MC3021                      The Gourmet Microwave      mod_cook     877   \n",
              "2    BU2075            You Can Combat Computer Stress!      business     736   \n",
              "16   TC4203  Fifty Years in Buckingham Palace Kitchens     trad_cook     877   \n",
              "7    PC1035                   But Is It User Friendly?  popular_comp    1389   \n",
              "0    BU1032        The Busy Executive's Database Guide      business    1389   \n",
              "\n",
              "    price  advance  royalty  ytd_sales  \\\n",
              "5    2.99  15000.0       24      22246   \n",
              "2    2.99  10125.0       24      18722   \n",
              "16  11.95   4000.0       14      15096   \n",
              "7   22.95   7000.0       16       8780   \n",
              "0   19.99   5000.0       10       4095   \n",
              "\n",
              "                                                notes              pubdate  \n",
              "5   Traditional French gourmet recipes adapted for...  1991-06-18 00:00:00  \n",
              "2   The latest medical and psychological technique...  1991-06-30 00:00:00  \n",
              "16  More anecdotes from the Queen's favorite cook ...  1991-06-12 00:00:00  \n",
              "7   A survey of software for the naive user, focus...  1991-06-30 00:00:00  \n",
              "0   An overview of available database systems with...  1991-06-12 00:00:00  "
            ]
          },
          "execution_count": 4,
          "metadata": {},
          "output_type": "execute_result"
        }
      ],
      "source": [
        "(\n",
        "titles\n",
        "    .sort_values(by = 'ytd_sales', ascending = False)\n",
        "    .head(n = 5)\n",
        ")"
      ]
    },
    {
      "cell_type": "markdown",
      "metadata": {
        "id": "F0vqQnjSW_-Q"
      },
      "source": [
        "### Hint:"
      ]
    },
    {
      "cell_type": "markdown",
      "metadata": {
        "id": "ySx0paZnW_-Q"
      },
      "source": [
        "In SQL, the syntax is:\n",
        "\n",
        "```sql\n",
        "SELECT title, ytd_sales FROM titles\n",
        "ORDER BY ytd_sales DESC\n",
        "LIMIT 5;\n",
        "```"
      ]
    },
    {
      "cell_type": "markdown",
      "metadata": {
        "id": "AjrR5dHyW_-Q"
      },
      "source": [
        "## 4. What's the maximum amount of books ever sold in a single sale?"
      ]
    },
    {
      "cell_type": "code",
      "execution_count": null,
      "metadata": {
        "id": "cXWxGswRW_-R",
        "outputId": "1d36cc81-2260-45c5-e9b0-e1f873423103"
      },
      "outputs": [
        {
          "data": {
            "text/plain": [
              "75"
            ]
          },
          "execution_count": 5,
          "metadata": {},
          "output_type": "execute_result"
        }
      ],
      "source": [
        "sales['qty'].max()"
      ]
    },
    {
      "cell_type": "markdown",
      "metadata": {
        "id": "wfRFGI_UW_-R"
      },
      "source": [
        "### Hint:"
      ]
    },
    {
      "cell_type": "markdown",
      "metadata": {
        "id": "_80-ULmcW_-R"
      },
      "source": [
        "In SQL, the syntax is:\n",
        "\n",
        "```sql\n",
        "SELECT MAX(qty)\n",
        "FROM sales;\n",
        "```"
      ]
    },
    {
      "cell_type": "markdown",
      "metadata": {
        "id": "TZlEvj6AW_-R"
      },
      "source": [
        "## 5. What's the price of the cheapest book?"
      ]
    },
    {
      "cell_type": "code",
      "execution_count": null,
      "metadata": {
        "id": "ST6inSL1W_-R",
        "outputId": "012a0dc1-2015-4415-89ac-3421357ece04"
      },
      "outputs": [
        {
          "data": {
            "text/plain": [
              "0.0"
            ]
          },
          "execution_count": 6,
          "metadata": {},
          "output_type": "execute_result"
        }
      ],
      "source": [
        "titles['price'].min()"
      ]
    },
    {
      "cell_type": "markdown",
      "metadata": {
        "id": "T3IlYfhFW_-S"
      },
      "source": [
        "### Hint:"
      ]
    },
    {
      "cell_type": "markdown",
      "metadata": {
        "id": "2YiPmS2qW_-S"
      },
      "source": [
        "In SQL, the syntax is:\n",
        "\n",
        "```sql\n",
        "SELECT MIN(price)\n",
        "FROM titles;\n",
        "```"
      ]
    },
    {
      "cell_type": "markdown",
      "metadata": {
        "id": "u2nTVK21W_-S"
      },
      "source": [
        "## 6. How many rows are there in the table authors?"
      ]
    },
    {
      "cell_type": "code",
      "execution_count": null,
      "metadata": {
        "id": "EDWjpWodW_-S",
        "outputId": "2fe36b87-3901-4f4d-9dda-c45c50b12eac"
      },
      "outputs": [
        {
          "data": {
            "text/plain": [
              "23"
            ]
          },
          "execution_count": 7,
          "metadata": {},
          "output_type": "execute_result"
        }
      ],
      "source": [
        "authors['au_id'].count()"
      ]
    },
    {
      "cell_type": "markdown",
      "metadata": {
        "id": "BCTBDDGbW_-S"
      },
      "source": [
        "### Hint:"
      ]
    },
    {
      "cell_type": "markdown",
      "metadata": {
        "id": "urUf1k9RW_-S"
      },
      "source": [
        "In SQL, the syntax is:\n",
        "\n",
        "```sql\n",
        "SELECT COUNT(au_id) \n",
        "FROM authors;\n",
        "```"
      ]
    },
    {
      "cell_type": "markdown",
      "metadata": {
        "id": "rX5kLoLJW_-T"
      },
      "source": [
        "## 7. What's the total amount of year-to-date sales?"
      ]
    },
    {
      "cell_type": "code",
      "execution_count": null,
      "metadata": {
        "id": "WAtSMTU3W_-T",
        "outputId": "b7560040-a458-4b01-ea34-d45e7780071f"
      },
      "outputs": [
        {
          "data": {
            "text/plain": [
              "97446"
            ]
          },
          "execution_count": 8,
          "metadata": {},
          "output_type": "execute_result"
        }
      ],
      "source": [
        "(\n",
        "titles\n",
        "    ['ytd_sales']\n",
        "    .sum()\n",
        ")"
      ]
    },
    {
      "cell_type": "markdown",
      "metadata": {
        "id": "hwye7u9ZW_-T"
      },
      "source": [
        "### Hint:"
      ]
    },
    {
      "cell_type": "markdown",
      "metadata": {
        "id": "qLIZv6F_W_-T"
      },
      "source": [
        "In SQL, the syntax is:\n",
        "\n",
        "```sql\n",
        "SELECT SUM(ytd_sales)\n",
        "FROM titles;\n",
        "```"
      ]
    },
    {
      "cell_type": "markdown",
      "metadata": {
        "id": "g6QBbBeJW_-T"
      },
      "source": [
        "## 8. What's the average price of books?"
      ]
    },
    {
      "cell_type": "code",
      "execution_count": null,
      "metadata": {
        "id": "jQbwLrPEW_-T",
        "outputId": "08969866-c248-4c3a-f2ec-553b02b35502"
      },
      "outputs": [
        {
          "data": {
            "text/plain": [
              "13.125555555555556"
            ]
          },
          "execution_count": 9,
          "metadata": {},
          "output_type": "execute_result"
        }
      ],
      "source": [
        "(\n",
        "titles\n",
        "    ['price']\n",
        "    .mean()\n",
        ")"
      ]
    },
    {
      "cell_type": "markdown",
      "metadata": {
        "id": "0sLoUvtmW_-T"
      },
      "source": [
        "### Hint:"
      ]
    },
    {
      "cell_type": "markdown",
      "metadata": {
        "id": "UFSatyfPW_-T"
      },
      "source": [
        "In SQL, the syntax is:\n",
        "\n",
        "```sql\n",
        "SELECT AVG(price)\n",
        "FROM titles;\n",
        "```"
      ]
    },
    {
      "cell_type": "markdown",
      "metadata": {
        "id": "lS4ngQXEW_-U"
      },
      "source": [
        "## 9. In a single query, select the count, average and sum of quantity in the table sales"
      ]
    },
    {
      "cell_type": "code",
      "execution_count": null,
      "metadata": {
        "id": "ZGzeRX-JW_-U",
        "outputId": "8a37171b-a1f0-4b3e-c3cd-d5c8a0715cbd"
      },
      "outputs": [
        {
          "data": {
            "text/html": [
              "<div>\n",
              "<style scoped>\n",
              "    .dataframe tbody tr th:only-of-type {\n",
              "        vertical-align: middle;\n",
              "    }\n",
              "\n",
              "    .dataframe tbody tr th {\n",
              "        vertical-align: top;\n",
              "    }\n",
              "\n",
              "    .dataframe thead th {\n",
              "        text-align: right;\n",
              "    }\n",
              "</style>\n",
              "<table border=\"1\" class=\"dataframe\">\n",
              "  <thead>\n",
              "    <tr style=\"text-align: right;\">\n",
              "      <th></th>\n",
              "      <th>qty</th>\n",
              "    </tr>\n",
              "  </thead>\n",
              "  <tbody>\n",
              "    <tr>\n",
              "      <th>count</th>\n",
              "      <td>21.00000</td>\n",
              "    </tr>\n",
              "    <tr>\n",
              "      <th>mean</th>\n",
              "      <td>23.47619</td>\n",
              "    </tr>\n",
              "    <tr>\n",
              "      <th>sum</th>\n",
              "      <td>493.00000</td>\n",
              "    </tr>\n",
              "  </tbody>\n",
              "</table>\n",
              "</div>"
            ],
            "text/plain": [
              "             qty\n",
              "count   21.00000\n",
              "mean    23.47619\n",
              "sum    493.00000"
            ]
          },
          "execution_count": 10,
          "metadata": {},
          "output_type": "execute_result"
        }
      ],
      "source": [
        "(\n",
        "sales\n",
        "    .aggregate({'qty': ['count', 'mean', 'sum']})\n",
        ")"
      ]
    },
    {
      "cell_type": "markdown",
      "metadata": {
        "id": "8svWHY3XW_-V"
      },
      "source": [
        "### Hint:"
      ]
    },
    {
      "cell_type": "markdown",
      "metadata": {
        "id": "GCZoC2v0W_-V"
      },
      "source": [
        "In SQL, the syntax is:\n",
        "\n",
        "```sql\n",
        "SELECT COUNT(qty), AVG(qty), SUM(qty)\n",
        "FROM sales;\n",
        "```"
      ]
    },
    {
      "cell_type": "code",
      "execution_count": null,
      "metadata": {
        "id": "Brq9U7vkW_-V"
      },
      "outputs": [],
      "source": []
    }
  ],
  "metadata": {
    "kernelspec": {
      "display_name": "Pandas",
      "language": "python",
      "name": "python3"
    },
    "language_info": {
      "codemirror_mode": {
        "name": "ipython",
        "version": 3
      },
      "file_extension": ".py",
      "mimetype": "text/x-python",
      "name": "python",
      "nbconvert_exporter": "python",
      "pygments_lexer": "ipython3",
      "version": "3.9.15"
    },
    "orig_nbformat": 4,
    "vscode": {
      "interpreter": {
        "hash": "d3320157bbf74c474a389ba3c249fd8129c2512710cab608d52eccd3d813ad2b"
      }
    },
    "colab": {
      "provenance": []
    }
  },
  "nbformat": 4,
  "nbformat_minor": 0
}