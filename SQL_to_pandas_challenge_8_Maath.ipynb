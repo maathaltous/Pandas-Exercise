{
  "cells": [
    {
      "cell_type": "markdown",
      "metadata": {
        "id": "8O2kuHipF9tS"
      },
      "source": [
        "# From SQL to pandas challenge 8"
      ]
    },
    {
      "cell_type": "code",
      "execution_count": null,
      "metadata": {
        "id": "IuhkaK6hF9tV"
      },
      "outputs": [],
      "source": [
        "# import libraries\n",
        "import pandas as pd\n",
        "\n",
        "# load data\n",
        "# This code is made to load our data stored on Google Drive\n",
        "def gd_path(file_id):\n",
        "    \"\"\"Generate a shareable link from Google Drive file id.\"\"\"\n",
        "    return f\"https://drive.google.com/uc?export=download&id={file_id}\"\n",
        "\n",
        "# Google Drive file ids\n",
        "files_id = {\n",
        "    \"titleauthor\": \"1F1JOiYXStWacOBca6coNVfyVtoST7ZgD\",\n",
        "    \"titles\": \"1PLdn50N9GRa53ZbuVWo0l47F_IXdvlEm\",\n",
        "    \"stores\": \"1f-GCgip7O93CpbAkYvOsc21eKnSOSHsQ\", \n",
        "    \"sales\": \"1fzFc9rwYmVIPaGOFmhLVxCi3kg19vNU2\", \n",
        "    \"roysched\": \"1zPRZPoFPEMKyrNR5VSENeYFHGCBZmxbs\", \n",
        "    \"publishers\": \"1s9E8_AVOziTrowb3wyh2jg3PV763VOyq\",\n",
        "    \"pub_info\": \"1OEgogcGKy--EpuVj0kqq7lyBZNGW6YSv\", \n",
        "    \"jobs\": \"1V1Za8hUdXD-vJOyRdX4aQV5wanIff2eM\", \n",
        "    \"employee\": \"1h9mUjsVqpP74b1w0x7KOw37n_n9Ulkt5\", \n",
        "    \"discounts\": \"111dvSxMcCsTgOuV1wDSKFJxO1Xcxd9VS\", \n",
        "    \"authors\": \"1fEF89Nhe61EebAljKlwFwfEuokK0o6aJ\"\n",
        "}\n",
        "\n",
        "# Read data from Google Drive\n",
        "sales = pd.read_csv(gd_path(files_id[\"sales\"]), sep=\";\")\n",
        "authors = pd.read_csv(gd_path(files_id[\"authors\"]), sep=\";\")"
      ]
    },
    {
      "cell_type": "markdown",
      "metadata": {
        "id": "gYgNb1plF9tX"
      },
      "source": [
        "## 1. Select the top 5 sales with most quantity sold between 1993-03-11 and 1994-09-13 from the table sales"
      ]
    },
    {
      "cell_type": "code",
      "execution_count": null,
      "metadata": {
        "id": "IsUu8t-QF9tX",
        "outputId": "954f3e53-f9fd-4129-ffee-16b818966727"
      },
      "outputs": [
        {
          "data": {
            "text/html": [
              "<div>\n",
              "<style scoped>\n",
              "    .dataframe tbody tr th:only-of-type {\n",
              "        vertical-align: middle;\n",
              "    }\n",
              "\n",
              "    .dataframe tbody tr th {\n",
              "        vertical-align: top;\n",
              "    }\n",
              "\n",
              "    .dataframe thead th {\n",
              "        text-align: right;\n",
              "    }\n",
              "</style>\n",
              "<table border=\"1\" class=\"dataframe\">\n",
              "  <thead>\n",
              "    <tr style=\"text-align: right;\">\n",
              "      <th></th>\n",
              "      <th>stor_id</th>\n",
              "      <th>ord_num</th>\n",
              "      <th>ord_date</th>\n",
              "      <th>qty</th>\n",
              "      <th>payterms</th>\n",
              "      <th>title_id</th>\n",
              "    </tr>\n",
              "  </thead>\n",
              "  <tbody>\n",
              "    <tr>\n",
              "      <th>2</th>\n",
              "      <td>7066</td>\n",
              "      <td>A2976</td>\n",
              "      <td>1993-05-24 00:00:00</td>\n",
              "      <td>50</td>\n",
              "      <td>Net 30</td>\n",
              "      <td>PC8888</td>\n",
              "    </tr>\n",
              "    <tr>\n",
              "      <th>20</th>\n",
              "      <td>8042</td>\n",
              "      <td>QA879.1</td>\n",
              "      <td>1993-05-22 00:00:00</td>\n",
              "      <td>30</td>\n",
              "      <td>Net 30</td>\n",
              "      <td>PC1035</td>\n",
              "    </tr>\n",
              "    <tr>\n",
              "      <th>11</th>\n",
              "      <td>7131</td>\n",
              "      <td>P3087a</td>\n",
              "      <td>1993-05-29 00:00:00</td>\n",
              "      <td>25</td>\n",
              "      <td>Net 60</td>\n",
              "      <td>PS2106</td>\n",
              "    </tr>\n",
              "    <tr>\n",
              "      <th>13</th>\n",
              "      <td>7131</td>\n",
              "      <td>P3087a</td>\n",
              "      <td>1993-05-29 00:00:00</td>\n",
              "      <td>25</td>\n",
              "      <td>Net 60</td>\n",
              "      <td>PS7777</td>\n",
              "    </tr>\n",
              "    <tr>\n",
              "      <th>19</th>\n",
              "      <td>8042</td>\n",
              "      <td>P723</td>\n",
              "      <td>1993-03-11 00:00:00</td>\n",
              "      <td>25</td>\n",
              "      <td>Net 30</td>\n",
              "      <td>BU1111</td>\n",
              "    </tr>\n",
              "  </tbody>\n",
              "</table>\n",
              "</div>"
            ],
            "text/plain": [
              "    stor_id  ord_num             ord_date  qty payterms title_id\n",
              "2      7066    A2976  1993-05-24 00:00:00   50   Net 30   PC8888\n",
              "20     8042  QA879.1  1993-05-22 00:00:00   30   Net 30   PC1035\n",
              "11     7131   P3087a  1993-05-29 00:00:00   25   Net 60   PS2106\n",
              "13     7131   P3087a  1993-05-29 00:00:00   25   Net 60   PS7777\n",
              "19     8042     P723  1993-03-11 00:00:00   25   Net 30   BU1111"
            ]
          },
          "execution_count": 2,
          "metadata": {},
          "output_type": "execute_result"
        }
      ],
      "source": [
        "(\n",
        "sales\n",
        "    .loc[(sales['ord_date'] >= '1993-03-11 00:00:00') \n",
        "        & (sales['ord_date'] <= '1994-09-13 00:00:00')]\n",
        "    .sort_values(by = 'qty', ascending = False)\n",
        "    .head(5)\n",
        ")"
      ]
    },
    {
      "cell_type": "markdown",
      "metadata": {
        "id": "qesvGOrCF9tY"
      },
      "source": [
        "### Hint:"
      ]
    },
    {
      "cell_type": "markdown",
      "metadata": {
        "id": "MpOYodDFF9tY"
      },
      "source": [
        "In SQL the syntax is:\n",
        "\n",
        "```sql\n",
        "SELECT *\n",
        "FROM sales\n",
        "WHERE ord_date BETWEEN '1993-03-11' AND '1994-09-13'\n",
        "ORDER BY qty DESC\n",
        "LIMIT 5;\n",
        "```"
      ]
    },
    {
      "cell_type": "markdown",
      "metadata": {
        "id": "PoaQiRgFF9tZ"
      },
      "source": [
        "## 2. How many authors have an \"i\" in their first name, are from Utah, Maryland, or Kansas?"
      ]
    },
    {
      "cell_type": "code",
      "execution_count": null,
      "metadata": {
        "id": "uXhFbCdfF9tZ",
        "outputId": "6e9b9568-600c-42b8-dfc7-88eb8f22774d"
      },
      "outputs": [
        {
          "data": {
            "text/plain": [
              "1"
            ]
          },
          "execution_count": 3,
          "metadata": {},
          "output_type": "execute_result"
        }
      ],
      "source": [
        "(\n",
        "authors\n",
        "    .loc[authors['au_fname'].str.contains('i', case = False)\n",
        "        & authors['state'].isin(['UT', 'MD', 'KS'])]\n",
        "    ['au_id']\n",
        "    .count()\n",
        ")"
      ]
    },
    {
      "cell_type": "markdown",
      "metadata": {
        "id": "UjMJ8bkfF9tZ"
      },
      "source": [
        "### Hint:"
      ]
    },
    {
      "cell_type": "markdown",
      "metadata": {
        "id": "5gv0VUStF9ta"
      },
      "source": [
        "In SQL the syntax is:\n",
        "\n",
        "```sql\n",
        "SELECT COUNT(*)\n",
        "FROM authors\n",
        "WHERE au_fname LIKE '%i%'\n",
        "AND state IN ('CA' , 'MD', 'KS');\n",
        "```"
      ]
    },
    {
      "cell_type": "markdown",
      "metadata": {
        "id": "ErwaER7bF9ta"
      },
      "source": [
        "## 3. In California, how many authors are there in cities that contain an \"o\" in the name?\n",
        "   - Show only results for cities with more than 1 author.\n",
        "   - Sort the cities ascendingly by author count."
      ]
    },
    {
      "cell_type": "code",
      "execution_count": null,
      "metadata": {
        "id": "hOH7FfyGF9ta",
        "outputId": "9d7ace09-32d5-462a-f3db-e469c38fccec"
      },
      "outputs": [
        {
          "data": {
            "text/html": [
              "<div>\n",
              "<style scoped>\n",
              "    .dataframe tbody tr th:only-of-type {\n",
              "        vertical-align: middle;\n",
              "    }\n",
              "\n",
              "    .dataframe tbody tr th {\n",
              "        vertical-align: top;\n",
              "    }\n",
              "\n",
              "    .dataframe thead th {\n",
              "        text-align: right;\n",
              "    }\n",
              "</style>\n",
              "<table border=\"1\" class=\"dataframe\">\n",
              "  <thead>\n",
              "    <tr style=\"text-align: right;\">\n",
              "      <th></th>\n",
              "      <th>au_id</th>\n",
              "    </tr>\n",
              "    <tr>\n",
              "      <th>city</th>\n",
              "      <th></th>\n",
              "    </tr>\n",
              "  </thead>\n",
              "  <tbody>\n",
              "    <tr>\n",
              "      <th>Palo Alto</th>\n",
              "      <td>2</td>\n",
              "    </tr>\n",
              "    <tr>\n",
              "      <th>Oakland</th>\n",
              "      <td>5</td>\n",
              "    </tr>\n",
              "  </tbody>\n",
              "</table>\n",
              "</div>"
            ],
            "text/plain": [
              "           au_id\n",
              "city            \n",
              "Palo Alto      2\n",
              "Oakland        5"
            ]
          },
          "execution_count": 4,
          "metadata": {},
          "output_type": "execute_result"
        }
      ],
      "source": [
        "city_authors = (\n",
        "authors\n",
        "    .loc[(authors['state']=='CA')\n",
        "        & authors['city'].str.contains('o', case = False)]\n",
        "    .groupby(by='city')\n",
        "    .aggregate({\n",
        "        'au_id': 'count',\n",
        "    })\n",
        ")\n",
        "\n",
        "(\n",
        "city_authors\n",
        "    .loc[city_authors['au_id']>1]\n",
        "    .sort_values(by = 'au_id', ascending = True)\n",
        ")"
      ]
    },
    {
      "cell_type": "markdown",
      "metadata": {
        "id": "BowCxLeDF9ta"
      },
      "source": [
        "### Hint:"
      ]
    },
    {
      "cell_type": "markdown",
      "metadata": {
        "id": "XsScXn6KF9tb"
      },
      "source": [
        "In SQL the syntax is:\n",
        "\n",
        "```sql\n",
        "SELECT city, COUNT(au_fname)\n",
        "FROM authors\n",
        "WHERE state = 'CA' \n",
        "AND city LIKE '%o%'\n",
        "GROUP BY city\n",
        "HAVING COUNT(au_fname) > 1\n",
        "ORDER BY COUNT(au_fname);\n",
        "```"
      ]
    }
  ],
  "metadata": {
    "kernelspec": {
      "display_name": "Pandas",
      "language": "python",
      "name": "python3"
    },
    "language_info": {
      "codemirror_mode": {
        "name": "ipython",
        "version": 3
      },
      "file_extension": ".py",
      "mimetype": "text/x-python",
      "name": "python",
      "nbconvert_exporter": "python",
      "pygments_lexer": "ipython3",
      "version": "3.9.15"
    },
    "orig_nbformat": 4,
    "vscode": {
      "interpreter": {
        "hash": "d3320157bbf74c474a389ba3c249fd8129c2512710cab608d52eccd3d813ad2b"
      }
    },
    "colab": {
      "provenance": []
    }
  },
  "nbformat": 4,
  "nbformat_minor": 0
}