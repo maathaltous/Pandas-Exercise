{
  "cells": [
    {
      "cell_type": "code",
      "execution_count": null,
      "id": "3eea1a31-68f6-4ec5-a176-72730422cf50",
      "metadata": {
        "id": "3eea1a31-68f6-4ec5-a176-72730422cf50"
      },
      "outputs": [],
      "source": [
        "import pandas as pd"
      ]
    },
    {
      "cell_type": "code",
      "execution_count": null,
      "id": "4ceb6f9b-84a0-457b-b251-58d8d8bdbf2c",
      "metadata": {
        "id": "4ceb6f9b-84a0-457b-b251-58d8d8bdbf2c"
      },
      "outputs": [],
      "source": [
        "# death_metal.csv\n",
        "url = 'https://drive.google.com/file/d/11HsCgxJL_PtJ8xxdT5VZbw6e0y0-VKag/view?usp=sharing' \n",
        "path = 'https://drive.google.com/uc?export=download&id='+url.split('/')[-2]\n",
        "bands = pd.read_csv(path)"
      ]
    },
    {
      "cell_type": "code",
      "execution_count": null,
      "id": "99620969-6364-47f2-a030-6c1b346caf60",
      "metadata": {
        "id": "99620969-6364-47f2-a030-6c1b346caf60",
        "colab": {
          "base_uri": "https://localhost:8080/",
          "height": 206
        },
        "outputId": "d1c0e9e3-2a79-4786-cdce-cfa09d165c13"
      },
      "outputs": [
        {
          "output_type": "execute_result",
          "data": {
            "text/plain": [
              "                     name        country status  formed_in  \\\n",
              "0  **Act of Destruction?>  united states     ac     2005.0   \n",
              "1        **Nirvana 2002?>         sweden     su     1988.0   \n",
              "2              **Olemus?>        austria     ac     1993.0   \n",
              "3         **Misanthrope?>         mexico     oh     2010.0   \n",
              "4           **Detonator?>         russia     su     1991.0   \n",
              "\n",
              "                          genre  \\\n",
              "0    Melodic Death/Thrash Metal   \n",
              "1                   Death Metal   \n",
              "2      Death/Black/Gothic Metal   \n",
              "3                   Death Metal   \n",
              "4  Technical Death/Thrash Metal   \n",
              "\n",
              "                                               theme        active  \n",
              "0              Death| Love| Life| Evil| Darker Tones  2005-present  \n",
              "1            Metaphysical Philosophy| Parapsychology     1988-1992  \n",
              "2                               Sadness| Life| Death  1993-present  \n",
              "3                 Death| Destruction| War| Decadence  2010-present  \n",
              "4  Loneliness philosophy| state of mind of the pe...     1991-2002  "
            ],
            "text/html": [
              "\n",
              "  <div id=\"df-ccd45f40-e036-4eb2-8807-b32b7d84453d\">\n",
              "    <div class=\"colab-df-container\">\n",
              "      <div>\n",
              "<style scoped>\n",
              "    .dataframe tbody tr th:only-of-type {\n",
              "        vertical-align: middle;\n",
              "    }\n",
              "\n",
              "    .dataframe tbody tr th {\n",
              "        vertical-align: top;\n",
              "    }\n",
              "\n",
              "    .dataframe thead th {\n",
              "        text-align: right;\n",
              "    }\n",
              "</style>\n",
              "<table border=\"1\" class=\"dataframe\">\n",
              "  <thead>\n",
              "    <tr style=\"text-align: right;\">\n",
              "      <th></th>\n",
              "      <th>name</th>\n",
              "      <th>country</th>\n",
              "      <th>status</th>\n",
              "      <th>formed_in</th>\n",
              "      <th>genre</th>\n",
              "      <th>theme</th>\n",
              "      <th>active</th>\n",
              "    </tr>\n",
              "  </thead>\n",
              "  <tbody>\n",
              "    <tr>\n",
              "      <th>0</th>\n",
              "      <td>**Act of Destruction?&gt;</td>\n",
              "      <td>united states</td>\n",
              "      <td>ac</td>\n",
              "      <td>2005.0</td>\n",
              "      <td>Melodic Death/Thrash Metal</td>\n",
              "      <td>Death| Love| Life| Evil| Darker Tones</td>\n",
              "      <td>2005-present</td>\n",
              "    </tr>\n",
              "    <tr>\n",
              "      <th>1</th>\n",
              "      <td>**Nirvana 2002?&gt;</td>\n",
              "      <td>sweden</td>\n",
              "      <td>su</td>\n",
              "      <td>1988.0</td>\n",
              "      <td>Death Metal</td>\n",
              "      <td>Metaphysical Philosophy| Parapsychology</td>\n",
              "      <td>1988-1992</td>\n",
              "    </tr>\n",
              "    <tr>\n",
              "      <th>2</th>\n",
              "      <td>**Olemus?&gt;</td>\n",
              "      <td>austria</td>\n",
              "      <td>ac</td>\n",
              "      <td>1993.0</td>\n",
              "      <td>Death/Black/Gothic Metal</td>\n",
              "      <td>Sadness| Life| Death</td>\n",
              "      <td>1993-present</td>\n",
              "    </tr>\n",
              "    <tr>\n",
              "      <th>3</th>\n",
              "      <td>**Misanthrope?&gt;</td>\n",
              "      <td>mexico</td>\n",
              "      <td>oh</td>\n",
              "      <td>2010.0</td>\n",
              "      <td>Death Metal</td>\n",
              "      <td>Death| Destruction| War| Decadence</td>\n",
              "      <td>2010-present</td>\n",
              "    </tr>\n",
              "    <tr>\n",
              "      <th>4</th>\n",
              "      <td>**Detonator?&gt;</td>\n",
              "      <td>russia</td>\n",
              "      <td>su</td>\n",
              "      <td>1991.0</td>\n",
              "      <td>Technical Death/Thrash Metal</td>\n",
              "      <td>Loneliness philosophy| state of mind of the pe...</td>\n",
              "      <td>1991-2002</td>\n",
              "    </tr>\n",
              "  </tbody>\n",
              "</table>\n",
              "</div>\n",
              "      <button class=\"colab-df-convert\" onclick=\"convertToInteractive('df-ccd45f40-e036-4eb2-8807-b32b7d84453d')\"\n",
              "              title=\"Convert this dataframe to an interactive table.\"\n",
              "              style=\"display:none;\">\n",
              "        \n",
              "  <svg xmlns=\"http://www.w3.org/2000/svg\" height=\"24px\"viewBox=\"0 0 24 24\"\n",
              "       width=\"24px\">\n",
              "    <path d=\"M0 0h24v24H0V0z\" fill=\"none\"/>\n",
              "    <path d=\"M18.56 5.44l.94 2.06.94-2.06 2.06-.94-2.06-.94-.94-2.06-.94 2.06-2.06.94zm-11 1L8.5 8.5l.94-2.06 2.06-.94-2.06-.94L8.5 2.5l-.94 2.06-2.06.94zm10 10l.94 2.06.94-2.06 2.06-.94-2.06-.94-.94-2.06-.94 2.06-2.06.94z\"/><path d=\"M17.41 7.96l-1.37-1.37c-.4-.4-.92-.59-1.43-.59-.52 0-1.04.2-1.43.59L10.3 9.45l-7.72 7.72c-.78.78-.78 2.05 0 2.83L4 21.41c.39.39.9.59 1.41.59.51 0 1.02-.2 1.41-.59l7.78-7.78 2.81-2.81c.8-.78.8-2.07 0-2.86zM5.41 20L4 18.59l7.72-7.72 1.47 1.35L5.41 20z\"/>\n",
              "  </svg>\n",
              "      </button>\n",
              "      \n",
              "  <style>\n",
              "    .colab-df-container {\n",
              "      display:flex;\n",
              "      flex-wrap:wrap;\n",
              "      gap: 12px;\n",
              "    }\n",
              "\n",
              "    .colab-df-convert {\n",
              "      background-color: #E8F0FE;\n",
              "      border: none;\n",
              "      border-radius: 50%;\n",
              "      cursor: pointer;\n",
              "      display: none;\n",
              "      fill: #1967D2;\n",
              "      height: 32px;\n",
              "      padding: 0 0 0 0;\n",
              "      width: 32px;\n",
              "    }\n",
              "\n",
              "    .colab-df-convert:hover {\n",
              "      background-color: #E2EBFA;\n",
              "      box-shadow: 0px 1px 2px rgba(60, 64, 67, 0.3), 0px 1px 3px 1px rgba(60, 64, 67, 0.15);\n",
              "      fill: #174EA6;\n",
              "    }\n",
              "\n",
              "    [theme=dark] .colab-df-convert {\n",
              "      background-color: #3B4455;\n",
              "      fill: #D2E3FC;\n",
              "    }\n",
              "\n",
              "    [theme=dark] .colab-df-convert:hover {\n",
              "      background-color: #434B5C;\n",
              "      box-shadow: 0px 1px 3px 1px rgba(0, 0, 0, 0.15);\n",
              "      filter: drop-shadow(0px 1px 2px rgba(0, 0, 0, 0.3));\n",
              "      fill: #FFFFFF;\n",
              "    }\n",
              "  </style>\n",
              "\n",
              "      <script>\n",
              "        const buttonEl =\n",
              "          document.querySelector('#df-ccd45f40-e036-4eb2-8807-b32b7d84453d button.colab-df-convert');\n",
              "        buttonEl.style.display =\n",
              "          google.colab.kernel.accessAllowed ? 'block' : 'none';\n",
              "\n",
              "        async function convertToInteractive(key) {\n",
              "          const element = document.querySelector('#df-ccd45f40-e036-4eb2-8807-b32b7d84453d');\n",
              "          const dataTable =\n",
              "            await google.colab.kernel.invokeFunction('convertToInteractive',\n",
              "                                                     [key], {});\n",
              "          if (!dataTable) return;\n",
              "\n",
              "          const docLinkHtml = 'Like what you see? Visit the ' +\n",
              "            '<a target=\"_blank\" href=https://colab.research.google.com/notebooks/data_table.ipynb>data table notebook</a>'\n",
              "            + ' to learn more about interactive tables.';\n",
              "          element.innerHTML = '';\n",
              "          dataTable['output_type'] = 'display_data';\n",
              "          await google.colab.output.renderOutput(dataTable, element);\n",
              "          const docLink = document.createElement('div');\n",
              "          docLink.innerHTML = docLinkHtml;\n",
              "          element.appendChild(docLink);\n",
              "        }\n",
              "      </script>\n",
              "    </div>\n",
              "  </div>\n",
              "  "
            ]
          },
          "metadata": {},
          "execution_count": 12
        }
      ],
      "source": [
        "bands.head()"
      ]
    },
    {
      "cell_type": "code",
      "execution_count": null,
      "id": "bfe46ee5-2556-4078-bdcf-fe7bbdf3e5d8",
      "metadata": {
        "id": "bfe46ee5-2556-4078-bdcf-fe7bbdf3e5d8",
        "colab": {
          "base_uri": "https://localhost:8080/"
        },
        "outputId": "cef8c59b-275f-4ed0-a568-488d075a99b9"
      },
      "outputs": [
        {
          "output_type": "stream",
          "name": "stdout",
          "text": [
            "<class 'pandas.core.frame.DataFrame'>\n",
            "RangeIndex: 26 entries, 0 to 25\n",
            "Data columns (total 7 columns):\n",
            " #   Column     Non-Null Count  Dtype  \n",
            "---  ------     --------------  -----  \n",
            " 0   name       26 non-null     object \n",
            " 1   country    26 non-null     object \n",
            " 2   status     26 non-null     object \n",
            " 3   formed_in  26 non-null     float64\n",
            " 4   genre      26 non-null     object \n",
            " 5   theme      26 non-null     object \n",
            " 6   active     26 non-null     object \n",
            "dtypes: float64(1), object(6)\n",
            "memory usage: 1.5+ KB\n"
          ]
        }
      ],
      "source": [
        "bands.info()"
      ]
    },
    {
      "cell_type": "markdown",
      "id": "0b26d1ae-cbae-4752-b002-6f24f08eebe4",
      "metadata": {
        "tags": [],
        "id": "0b26d1ae-cbae-4752-b002-6f24f08eebe4"
      },
      "source": [
        "### **Exercise 1:** \n",
        "Cleaning the 'name' column\n",
        "\n",
        "The names of the bands are messy. They have some extra characters like '\\*\\*' at the begining and '?>' at the end. Remove them using any or all of these methods:  \n",
        "- [pandas.Series.str.replace](https://pandas.pydata.org/docs/reference/api/pandas.Series.str.replace.html)\n",
        "- [pandas.Series.str.lstrip](https://pandas.pydata.org/docs/reference/api/pandas.Series.str.lstrip.html)\n",
        "- [pandas.Series.str.rstrip](https://pandas.pydata.org/docs/reference/api/pandas.Series.str.rstrip.html)\n",
        "- [pandas.Series.str.strip](https://pandas.pydata.org/docs/reference/api/pandas.Series.str.strip.html)"
      ]
    },
    {
      "cell_type": "code",
      "execution_count": null,
      "id": "5593d130-26ba-42da-9c1d-40ebf1e4a2a1",
      "metadata": {
        "id": "5593d130-26ba-42da-9c1d-40ebf1e4a2a1",
        "colab": {
          "base_uri": "https://localhost:8080/"
        },
        "outputId": "cef97ebc-970f-497a-b135-fe97e20a5bb9"
      },
      "outputs": [
        {
          "output_type": "execute_result",
          "data": {
            "text/plain": [
              "0    **Act of Destruction?>\n",
              "1          **Nirvana 2002?>\n",
              "2                **Olemus?>\n",
              "3           **Misanthrope?>\n",
              "4             **Detonator?>\n",
              "Name: name, dtype: object"
            ]
          },
          "metadata": {},
          "execution_count": 14
        }
      ],
      "source": [
        "bands['name'].head(5)"
      ]
    },
    {
      "cell_type": "markdown",
      "id": "7292bee9-28cf-4427-aaa4-4f30e8a3ecd3",
      "metadata": {
        "id": "7292bee9-28cf-4427-aaa4-4f30e8a3ecd3"
      },
      "source": [
        "#### Solution with pandas.Series.str.replace\n",
        "This method replaces chosen sequence of characters with new one.  \n",
        "First parameter is old sequence you want to change, the second parameter is the new sequence we want to replace old one with.  \n",
        "If you give \"\" (empty string) as new sequence it will actually only delete the old one since it is replaced with nothing (empty string)"
      ]
    },
    {
      "cell_type": "code",
      "execution_count": null,
      "id": "94563bea-5bdd-48ca-8188-480be44c90e2",
      "metadata": {
        "id": "94563bea-5bdd-48ca-8188-480be44c90e2"
      },
      "outputs": [],
      "source": [
        "messy_names = bands.loc[:,'name'] #saving messy data so we can reset it before each solution"
      ]
    },
    {
      "cell_type": "code",
      "execution_count": null,
      "id": "1521619d-2a68-46cd-bb72-8554b7975a59",
      "metadata": {
        "id": "1521619d-2a68-46cd-bb72-8554b7975a59",
        "colab": {
          "base_uri": "https://localhost:8080/"
        },
        "outputId": "35e02324-6221-4e63-904d-b0d55887075e"
      },
      "outputs": [
        {
          "output_type": "stream",
          "name": "stderr",
          "text": [
            "/usr/local/lib/python3.7/dist-packages/ipykernel_launcher.py:2: FutureWarning: The default value of regex will change from True to False in a future version.\n",
            "  \n"
          ]
        },
        {
          "output_type": "execute_result",
          "data": {
            "text/plain": [
              "0    Act of Destruction\n",
              "1          Nirvana 2002\n",
              "2                Olemus\n",
              "3           Misanthrope\n",
              "4             Detonator\n",
              "Name: name, dtype: object"
            ]
          },
          "metadata": {},
          "execution_count": 16
        }
      ],
      "source": [
        "# .replace() with regex (regex=True)\n",
        "bands['name'] = bands['name'].str.replace('\\*\\*|\\?>','')\n",
        "bands['name'].head(5)"
      ]
    },
    {
      "cell_type": "markdown",
      "id": "76bad46e-27e5-45fa-9631-bc2dca37af14",
      "metadata": {
        "id": "76bad46e-27e5-45fa-9631-bc2dca37af14"
      },
      "source": [
        "Explanation of **'\\\\\\*\\\\\\*|\\\\?>'** regular expression:  \n",
        "- **First part** **\\\\\\*\\\\\\*** means you want to select ** but since * is a special character in regex we need to put \\\\ before it so it 'loses it's powers' and becomes just a regular * (star)  \n",
        "- **Second part** **\\\\?>** ? is also special character so, once again, we need to put \\\\ before it to become just a regular ?(question mark). > is not a special character in regex so we can just put >  \n",
        "- **Middle part |** Character | means replace either what is on left side form | or what is on right side from it. If we wrote '\\\\*\\\\*\\\\?>' without | it would look for exact match of \\*\\*\\?> and we would have no match.\n",
        "For practicing regular expressions check this [website](https://regex101.com/)"
      ]
    },
    {
      "cell_type": "code",
      "execution_count": null,
      "id": "a4dc6efe-548f-4ddb-8fec-d8c7cf1e20fb",
      "metadata": {
        "id": "a4dc6efe-548f-4ddb-8fec-d8c7cf1e20fb"
      },
      "outputs": [],
      "source": [
        "#reseting names for second solution\n",
        "bands.loc[:,'name'] = messy_names "
      ]
    },
    {
      "cell_type": "code",
      "execution_count": null,
      "id": "5ab8a456-886b-4668-b349-7b01bade2c46",
      "metadata": {
        "id": "5ab8a456-886b-4668-b349-7b01bade2c46",
        "colab": {
          "base_uri": "https://localhost:8080/"
        },
        "outputId": "406bd8b1-9e94-41f0-9d41-e19c3144d339"
      },
      "outputs": [
        {
          "output_type": "execute_result",
          "data": {
            "text/plain": [
              "0    Act of Destruction\n",
              "1          Nirvana 2002\n",
              "2                Olemus\n",
              "3           Misanthrope\n",
              "4             Detonator\n",
              "Name: name, dtype: object"
            ]
          },
          "metadata": {},
          "execution_count": 18
        }
      ],
      "source": [
        "# .replace() without regex (regex=False)\n",
        "bands.loc[:,'name'] = bands.loc[:,'name'].str.replace('**','', regex=False)\n",
        "bands.loc[:,'name'] = bands.loc[:,'name'].str.replace('?>','', regex=False)\n",
        "bands.loc[:,'name'].head(5)"
      ]
    },
    {
      "cell_type": "markdown",
      "id": "c6ab2ca6-8df4-4663-9577-a5845b534735",
      "metadata": {
        "tags": [],
        "id": "c6ab2ca6-8df4-4663-9577-a5845b534735"
      },
      "source": [
        "#### Solution with pandas.Series.str.strip  \n",
        "This method replaces whitespaces or any given special characters from begining and ending of a string.\n",
        "rstrip() and lstrip() function almost the same but rstrip() removes only from end (right strip) of string and lstrip() removes from begining (left strip) of a string.\n",
        "If you don't give any parameters to these methods, they will remove only whitespaces."
      ]
    },
    {
      "cell_type": "code",
      "execution_count": null,
      "id": "afdee7b1-35bd-41aa-9f08-c270d6770b5a",
      "metadata": {
        "id": "afdee7b1-35bd-41aa-9f08-c270d6770b5a"
      },
      "outputs": [],
      "source": [
        "bands.loc[:,'name'] = messy_names #reseting names for third solution"
      ]
    },
    {
      "cell_type": "code",
      "execution_count": null,
      "id": "36f0568f-f0f3-4f8c-90f2-0ba67a24dd88",
      "metadata": {
        "id": "36f0568f-f0f3-4f8c-90f2-0ba67a24dd88",
        "colab": {
          "base_uri": "https://localhost:8080/"
        },
        "outputId": "f21df9df-8013-4d5f-d8e3-4d1896f6d3b8"
      },
      "outputs": [
        {
          "output_type": "execute_result",
          "data": {
            "text/plain": [
              "0    Act of Destruction\n",
              "1          Nirvana 2002\n",
              "2                Olemus\n",
              "3           Misanthrope\n",
              "4             Detonator\n",
              "Name: name, dtype: object"
            ]
          },
          "metadata": {},
          "execution_count": 20
        }
      ],
      "source": [
        "bands.loc[:,'name'] = bands.loc[:,'name'].str.strip('*?>')\n",
        "bands.loc[:,'name'].head(5)"
      ]
    },
    {
      "cell_type": "markdown",
      "id": "efd6119a-809f-4d56-8967-c1201aa20462",
      "metadata": {
        "tags": [],
        "id": "efd6119a-809f-4d56-8967-c1201aa20462"
      },
      "source": [
        "### **Exercise 2:** \n",
        "Cleaning the country column\n",
        "\n",
        "The country column has all countries written with small capital letter. Change them so they have all capital letters.  \n",
        "Best method for this is: [pandas.Series.str.title](https://pandas.pydata.org/docs/reference/api/pandas.Series.str.title.html)"
      ]
    },
    {
      "cell_type": "code",
      "execution_count": null,
      "id": "a9a355c5-f3ef-434e-901b-c0d578d56ab4",
      "metadata": {
        "id": "a9a355c5-f3ef-434e-901b-c0d578d56ab4",
        "colab": {
          "base_uri": "https://localhost:8080/"
        },
        "outputId": "85794107-81b6-41f8-cee6-8f77bf360a47"
      },
      "outputs": [
        {
          "output_type": "execute_result",
          "data": {
            "text/plain": [
              "0    united states\n",
              "1           sweden\n",
              "2          austria\n",
              "3           mexico\n",
              "4           russia\n",
              "Name: country, dtype: object"
            ]
          },
          "metadata": {},
          "execution_count": 21
        }
      ],
      "source": [
        "bands['country'].head(5)"
      ]
    },
    {
      "cell_type": "markdown",
      "id": "55192c9e-2c7e-43e3-9996-754d3514c244",
      "metadata": {
        "id": "55192c9e-2c7e-43e3-9996-754d3514c244"
      },
      "source": [
        "#### Solution with pandas.Series.str.title"
      ]
    },
    {
      "cell_type": "markdown",
      "id": "8c85c40b-1039-48e8-92c9-0576d561584f",
      "metadata": {
        "id": "8c85c40b-1039-48e8-92c9-0576d561584f"
      },
      "source": [
        "This method changes all first letters in words in a string.  \n",
        "**'this is a string'** would be changed to **'This Is A String'**"
      ]
    },
    {
      "cell_type": "code",
      "execution_count": null,
      "id": "a581d30f-0c22-4522-a601-10a3e146e07c",
      "metadata": {
        "id": "a581d30f-0c22-4522-a601-10a3e146e07c",
        "colab": {
          "base_uri": "https://localhost:8080/"
        },
        "outputId": "7c3aaecd-2dd0-4cea-db9b-9b36d1fe0fa1"
      },
      "outputs": [
        {
          "output_type": "execute_result",
          "data": {
            "text/plain": [
              "0    United States\n",
              "1           Sweden\n",
              "2          Austria\n",
              "3           Mexico\n",
              "4           Russia\n",
              "Name: country, dtype: object"
            ]
          },
          "metadata": {},
          "execution_count": 22
        }
      ],
      "source": [
        "bands.loc[:,'country'] = bands.loc[:,'country'].str.title()\n",
        "bands.loc[:,'country'].head(5)"
      ]
    },
    {
      "cell_type": "markdown",
      "id": "14781008-16ee-4d92-8806-c79b7f0828ed",
      "metadata": {
        "tags": [],
        "id": "14781008-16ee-4d92-8806-c79b7f0828ed"
      },
      "source": [
        "### **Exercise 3:**\n",
        "Cleaning the status column\n",
        "\n",
        "The status column has some abbreviations instead of the real status.  \n",
        "Change them in accordance with this:  \n",
        "* ac = Active  \n",
        "* su = Split-up  \n",
        "* cn = Changed name  \n",
        "* oh = On hold  \n",
        "* un = Unknown\n",
        "\n",
        "You can use  \n",
        "pandas.Series.str.replace -> https://pandas.pydata.org/docs/reference/api/pandas.Series.str.replace.html  \n",
        "or you can create a dictionary and remap values according to it with  \n",
        "pandas.Series.replace -> https://pandas.pydata.org/docs/reference/api/pandas.Series.replace.html"
      ]
    },
    {
      "cell_type": "code",
      "execution_count": null,
      "id": "0f1fd5bf-7a73-485d-a663-d7c738a90cb4",
      "metadata": {
        "id": "0f1fd5bf-7a73-485d-a663-d7c738a90cb4",
        "colab": {
          "base_uri": "https://localhost:8080/"
        },
        "outputId": "4c5ec5aa-c0af-4a81-e311-5ec70e7bbc5d"
      },
      "outputs": [
        {
          "output_type": "execute_result",
          "data": {
            "text/plain": [
              "0    ac\n",
              "1    su\n",
              "2    ac\n",
              "3    oh\n",
              "4    su\n",
              "Name: status, dtype: object"
            ]
          },
          "metadata": {},
          "execution_count": 15
        }
      ],
      "source": [
        "bands['status'].head(5)"
      ]
    },
    {
      "cell_type": "code",
      "execution_count": null,
      "id": "a744a2ad-4b86-4a3e-9cd6-c0fe61c32083",
      "metadata": {
        "id": "a744a2ad-4b86-4a3e-9cd6-c0fe61c32083"
      },
      "outputs": [],
      "source": [
        "messy_status = bands.loc[:,'status'] #saving messy data so we can reset it before each solution"
      ]
    },
    {
      "cell_type": "markdown",
      "id": "510bc8b5-4c35-46db-bb2c-9e540511f01e",
      "metadata": {
        "id": "510bc8b5-4c35-46db-bb2c-9e540511f01e"
      },
      "source": [
        "#### Solution with pandas.Series.str.replace"
      ]
    },
    {
      "cell_type": "code",
      "execution_count": null,
      "id": "bcc21844-5eef-445e-b13a-e0c7e9a6af98",
      "metadata": {
        "id": "bcc21844-5eef-445e-b13a-e0c7e9a6af98",
        "colab": {
          "base_uri": "https://localhost:8080/"
        },
        "outputId": "3f41d0b0-c7fa-427d-98ad-fd43d7036af2"
      },
      "outputs": [
        {
          "output_type": "execute_result",
          "data": {
            "text/plain": [
              "0      Active\n",
              "1    Split-up\n",
              "2      Active\n",
              "3     On hold\n",
              "4    Split-up\n",
              "Name: status, dtype: object"
            ]
          },
          "metadata": {},
          "execution_count": 17
        }
      ],
      "source": [
        "bands.loc[:,'status'] = bands.loc[:,'status'].str.replace('ac','Active')\n",
        "bands.loc[:,'status'] = bands.loc[:,'status'].str.replace('su','Split-up')\n",
        "bands.loc[:,'status'] = bands.loc[:,'status'].str.replace('cn','Changed name')\n",
        "bands.loc[:,'status'] = bands.loc[:,'status'].str.replace('oh','On hold')\n",
        "bands.loc[:,'status'] = bands.loc[:,'status'].str.replace('un','Unknown')\n",
        "bands['status'].head(5)"
      ]
    },
    {
      "cell_type": "markdown",
      "id": "d93e8fc6-5d38-4ac5-908c-40f32783c2cd",
      "metadata": {
        "id": "d93e8fc6-5d38-4ac5-908c-40f32783c2cd"
      },
      "source": [
        "#### Solution with pandas.DataFrame.replace"
      ]
    },
    {
      "cell_type": "markdown",
      "id": "60b47aaf-15d8-4e7c-9cd0-877716b4c1bc",
      "metadata": {
        "id": "60b47aaf-15d8-4e7c-9cd0-877716b4c1bc"
      },
      "source": [
        "This method replaces values given by single values,lists or dictionaries. We are going to use solution with dictionary."
      ]
    },
    {
      "cell_type": "code",
      "execution_count": null,
      "id": "3f10d00c-9bce-468f-adc2-c700faba07e9",
      "metadata": {
        "id": "3f10d00c-9bce-468f-adc2-c700faba07e9"
      },
      "outputs": [],
      "source": [
        "#reseting status for second solution\n",
        "bands.loc[:,'status'] = messy_status "
      ]
    },
    {
      "cell_type": "code",
      "execution_count": null,
      "id": "8d44826b-9000-4a68-9dda-33450b775297",
      "metadata": {
        "id": "8d44826b-9000-4a68-9dda-33450b775297"
      },
      "outputs": [],
      "source": [
        "# Shape of dictionary is {'value_to_replace' : 'value_to_replace_with'}\n",
        "dictionary = {'su':'Split-up',\n",
        "              'cn':'Changed name',\n",
        "              'oh':'On hold',\n",
        "              'un':'Unknown',\n",
        "              'ac':'Active'}"
      ]
    },
    {
      "cell_type": "code",
      "execution_count": null,
      "id": "b091d2f4-20c9-45c8-ae24-5cf68c1de956",
      "metadata": {
        "id": "b091d2f4-20c9-45c8-ae24-5cf68c1de956",
        "colab": {
          "base_uri": "https://localhost:8080/"
        },
        "outputId": "b8d1e450-f9bb-41d7-c271-695483bf2df4"
      },
      "outputs": [
        {
          "output_type": "execute_result",
          "data": {
            "text/plain": [
              "0      Active\n",
              "1    Split-up\n",
              "2      Active\n",
              "3     On hold\n",
              "4    Split-up\n",
              "Name: status, dtype: object"
            ]
          },
          "metadata": {},
          "execution_count": 20
        }
      ],
      "source": [
        "bands.loc[:,'status'] = bands.loc[:,'status'].replace(dictionary)\n",
        "bands.loc[:,'status'].head(5)"
      ]
    },
    {
      "cell_type": "markdown",
      "id": "c1989a51-eb98-4c78-9018-50a0f214991a",
      "metadata": {
        "tags": [],
        "id": "c1989a51-eb98-4c78-9018-50a0f214991a"
      },
      "source": [
        "### **Exercise 4:**\n",
        "Cleaning the genre column\n",
        "\n",
        "The column genre has genres in a single string separated by character /  \n",
        "1. First, transform the string to list of strings  \n",
        "(e.g. 'Avant-garde Black/Death Metal'    to     \\[Avant-garde Black, Death Metal\\]  \n",
        "1. Then, create a new column 'number_of_genres' where you will store the number of genres in each list.  \n",
        "\n",
        "Methods you can use are:  \n",
        "pandas.Series.str.split -> https://pandas.pydata.org/docs/reference/api/pandas.Series.str.split.html  \n",
        "pandas.Series.str.len -> https://pandas.pydata.org/docs/reference/api/pandas.Series.str.len.html"
      ]
    },
    {
      "cell_type": "code",
      "execution_count": null,
      "id": "462ff471-0557-41c0-aa68-1d88149c790c",
      "metadata": {
        "id": "462ff471-0557-41c0-aa68-1d88149c790c",
        "colab": {
          "base_uri": "https://localhost:8080/"
        },
        "outputId": "f623f753-dddb-43a0-e387-ce462e80860f"
      },
      "outputs": [
        {
          "output_type": "execute_result",
          "data": {
            "text/plain": [
              "0      Melodic Death/Thrash Metal\n",
              "1                     Death Metal\n",
              "2        Death/Black/Gothic Metal\n",
              "3                     Death Metal\n",
              "4    Technical Death/Thrash Metal\n",
              "Name: genre, dtype: object"
            ]
          },
          "metadata": {},
          "execution_count": 21
        }
      ],
      "source": [
        "bands['genre'].head(5)"
      ]
    },
    {
      "cell_type": "markdown",
      "id": "19dcc675-ab22-44ec-9627-adf16897d33f",
      "metadata": {
        "tags": [],
        "id": "19dcc675-ab22-44ec-9627-adf16897d33f"
      },
      "source": [
        "#### Solution with pandas.Series.str.split & pandas.Series.str.len"
      ]
    },
    {
      "cell_type": "markdown",
      "id": "a2163374-4dfe-4505-8ee5-b7863bc97fec",
      "metadata": {
        "id": "a2163374-4dfe-4505-8ee5-b7863bc97fec"
      },
      "source": [
        "We will use method pandas.Series.str.split to split each string around the given character (in our case /)"
      ]
    },
    {
      "cell_type": "code",
      "execution_count": null,
      "id": "1dec05d8-3920-4a68-bc67-81dd6bf6d7b1",
      "metadata": {
        "id": "1dec05d8-3920-4a68-bc67-81dd6bf6d7b1",
        "colab": {
          "base_uri": "https://localhost:8080/"
        },
        "outputId": "8184a613-f67d-4ed9-f981-2fa9c519d29f"
      },
      "outputs": [
        {
          "output_type": "execute_result",
          "data": {
            "text/plain": [
              "0      [Melodic Death, Thrash Metal]\n",
              "1                      [Death Metal]\n",
              "2       [Death, Black, Gothic Metal]\n",
              "3                      [Death Metal]\n",
              "4    [Technical Death, Thrash Metal]\n",
              "Name: genre, dtype: object"
            ]
          },
          "metadata": {},
          "execution_count": 22
        }
      ],
      "source": [
        "bands['genre'] = bands['genre'].str.split('/')\n",
        "bands['genre'].head(5)"
      ]
    },
    {
      "cell_type": "markdown",
      "id": "0dec2d0b-528c-428a-9f2d-d374ed474a34",
      "metadata": {
        "id": "0dec2d0b-528c-428a-9f2d-d374ed474a34"
      },
      "source": [
        "Now we can use pandas.Series.str.len to count the number of items in each list and save it to new column."
      ]
    },
    {
      "cell_type": "code",
      "execution_count": null,
      "id": "35212c34-dca0-43cd-8514-7eed9880afeb",
      "metadata": {
        "id": "35212c34-dca0-43cd-8514-7eed9880afeb",
        "colab": {
          "base_uri": "https://localhost:8080/",
          "height": 206
        },
        "outputId": "1470512a-e599-4c66-d37f-eab9e414022c"
      },
      "outputs": [
        {
          "output_type": "execute_result",
          "data": {
            "text/plain": [
              "                             genre  number_of_genres\n",
              "0    [Melodic Death, Thrash Metal]                 2\n",
              "1                    [Death Metal]                 1\n",
              "2     [Death, Black, Gothic Metal]                 3\n",
              "3                    [Death Metal]                 1\n",
              "4  [Technical Death, Thrash Metal]                 2"
            ],
            "text/html": [
              "\n",
              "  <div id=\"df-dc203dce-a456-4e1b-b623-054d4e35f640\">\n",
              "    <div class=\"colab-df-container\">\n",
              "      <div>\n",
              "<style scoped>\n",
              "    .dataframe tbody tr th:only-of-type {\n",
              "        vertical-align: middle;\n",
              "    }\n",
              "\n",
              "    .dataframe tbody tr th {\n",
              "        vertical-align: top;\n",
              "    }\n",
              "\n",
              "    .dataframe thead th {\n",
              "        text-align: right;\n",
              "    }\n",
              "</style>\n",
              "<table border=\"1\" class=\"dataframe\">\n",
              "  <thead>\n",
              "    <tr style=\"text-align: right;\">\n",
              "      <th></th>\n",
              "      <th>genre</th>\n",
              "      <th>number_of_genres</th>\n",
              "    </tr>\n",
              "  </thead>\n",
              "  <tbody>\n",
              "    <tr>\n",
              "      <th>0</th>\n",
              "      <td>[Melodic Death, Thrash Metal]</td>\n",
              "      <td>2</td>\n",
              "    </tr>\n",
              "    <tr>\n",
              "      <th>1</th>\n",
              "      <td>[Death Metal]</td>\n",
              "      <td>1</td>\n",
              "    </tr>\n",
              "    <tr>\n",
              "      <th>2</th>\n",
              "      <td>[Death, Black, Gothic Metal]</td>\n",
              "      <td>3</td>\n",
              "    </tr>\n",
              "    <tr>\n",
              "      <th>3</th>\n",
              "      <td>[Death Metal]</td>\n",
              "      <td>1</td>\n",
              "    </tr>\n",
              "    <tr>\n",
              "      <th>4</th>\n",
              "      <td>[Technical Death, Thrash Metal]</td>\n",
              "      <td>2</td>\n",
              "    </tr>\n",
              "  </tbody>\n",
              "</table>\n",
              "</div>\n",
              "      <button class=\"colab-df-convert\" onclick=\"convertToInteractive('df-dc203dce-a456-4e1b-b623-054d4e35f640')\"\n",
              "              title=\"Convert this dataframe to an interactive table.\"\n",
              "              style=\"display:none;\">\n",
              "        \n",
              "  <svg xmlns=\"http://www.w3.org/2000/svg\" height=\"24px\"viewBox=\"0 0 24 24\"\n",
              "       width=\"24px\">\n",
              "    <path d=\"M0 0h24v24H0V0z\" fill=\"none\"/>\n",
              "    <path d=\"M18.56 5.44l.94 2.06.94-2.06 2.06-.94-2.06-.94-.94-2.06-.94 2.06-2.06.94zm-11 1L8.5 8.5l.94-2.06 2.06-.94-2.06-.94L8.5 2.5l-.94 2.06-2.06.94zm10 10l.94 2.06.94-2.06 2.06-.94-2.06-.94-.94-2.06-.94 2.06-2.06.94z\"/><path d=\"M17.41 7.96l-1.37-1.37c-.4-.4-.92-.59-1.43-.59-.52 0-1.04.2-1.43.59L10.3 9.45l-7.72 7.72c-.78.78-.78 2.05 0 2.83L4 21.41c.39.39.9.59 1.41.59.51 0 1.02-.2 1.41-.59l7.78-7.78 2.81-2.81c.8-.78.8-2.07 0-2.86zM5.41 20L4 18.59l7.72-7.72 1.47 1.35L5.41 20z\"/>\n",
              "  </svg>\n",
              "      </button>\n",
              "      \n",
              "  <style>\n",
              "    .colab-df-container {\n",
              "      display:flex;\n",
              "      flex-wrap:wrap;\n",
              "      gap: 12px;\n",
              "    }\n",
              "\n",
              "    .colab-df-convert {\n",
              "      background-color: #E8F0FE;\n",
              "      border: none;\n",
              "      border-radius: 50%;\n",
              "      cursor: pointer;\n",
              "      display: none;\n",
              "      fill: #1967D2;\n",
              "      height: 32px;\n",
              "      padding: 0 0 0 0;\n",
              "      width: 32px;\n",
              "    }\n",
              "\n",
              "    .colab-df-convert:hover {\n",
              "      background-color: #E2EBFA;\n",
              "      box-shadow: 0px 1px 2px rgba(60, 64, 67, 0.3), 0px 1px 3px 1px rgba(60, 64, 67, 0.15);\n",
              "      fill: #174EA6;\n",
              "    }\n",
              "\n",
              "    [theme=dark] .colab-df-convert {\n",
              "      background-color: #3B4455;\n",
              "      fill: #D2E3FC;\n",
              "    }\n",
              "\n",
              "    [theme=dark] .colab-df-convert:hover {\n",
              "      background-color: #434B5C;\n",
              "      box-shadow: 0px 1px 3px 1px rgba(0, 0, 0, 0.15);\n",
              "      filter: drop-shadow(0px 1px 2px rgba(0, 0, 0, 0.3));\n",
              "      fill: #FFFFFF;\n",
              "    }\n",
              "  </style>\n",
              "\n",
              "      <script>\n",
              "        const buttonEl =\n",
              "          document.querySelector('#df-dc203dce-a456-4e1b-b623-054d4e35f640 button.colab-df-convert');\n",
              "        buttonEl.style.display =\n",
              "          google.colab.kernel.accessAllowed ? 'block' : 'none';\n",
              "\n",
              "        async function convertToInteractive(key) {\n",
              "          const element = document.querySelector('#df-dc203dce-a456-4e1b-b623-054d4e35f640');\n",
              "          const dataTable =\n",
              "            await google.colab.kernel.invokeFunction('convertToInteractive',\n",
              "                                                     [key], {});\n",
              "          if (!dataTable) return;\n",
              "\n",
              "          const docLinkHtml = 'Like what you see? Visit the ' +\n",
              "            '<a target=\"_blank\" href=https://colab.research.google.com/notebooks/data_table.ipynb>data table notebook</a>'\n",
              "            + ' to learn more about interactive tables.';\n",
              "          element.innerHTML = '';\n",
              "          dataTable['output_type'] = 'display_data';\n",
              "          await google.colab.output.renderOutput(dataTable, element);\n",
              "          const docLink = document.createElement('div');\n",
              "          docLink.innerHTML = docLinkHtml;\n",
              "          element.appendChild(docLink);\n",
              "        }\n",
              "      </script>\n",
              "    </div>\n",
              "  </div>\n",
              "  "
            ]
          },
          "metadata": {},
          "execution_count": 23
        }
      ],
      "source": [
        "bands['number_of_genres'] = bands['genre'].str.len()\n",
        "bands[['genre','number_of_genres']].head(5)"
      ]
    },
    {
      "cell_type": "markdown",
      "id": "f1614fa1-21c8-4de9-9b4a-6786496935c7",
      "metadata": {
        "tags": [],
        "id": "f1614fa1-21c8-4de9-9b4a-6786496935c7"
      },
      "source": [
        "### **Exercise 5:** \n",
        "Cleaning the active column\n",
        "\n",
        "The column active contains information about years when band was form and/or year when it stopped being active and/or if it's still active ('present') and/or '?' if the status or year is unknown.  \n",
        "Create two new columns 'active_from' and 'active_to' and fill them up acording to information in column active.  \n",
        "Method you can use is:  \n",
        "pandas.Series.str.extract -> https://pandas.pydata.org/docs/reference/api/pandas.Series.str.extract.html#"
      ]
    },
    {
      "cell_type": "code",
      "execution_count": null,
      "id": "8b5127a8-0512-4fcd-a52a-5cb7a814e327",
      "metadata": {
        "id": "8b5127a8-0512-4fcd-a52a-5cb7a814e327",
        "colab": {
          "base_uri": "https://localhost:8080/"
        },
        "outputId": "713e4ee6-c48f-48c2-e386-a8a28a1e055f"
      },
      "outputs": [
        {
          "output_type": "execute_result",
          "data": {
            "text/plain": [
              "0     2005-present\n",
              "1        1988-1992\n",
              "2     1993-present\n",
              "3     2010-present\n",
              "4        1991-2002\n",
              "5     2013-present\n",
              "6     2001-present\n",
              "7        2001-2007\n",
              "8        2001-2006\n",
              "9        2006-2013\n",
              "10       2010-2011\n",
              "11       1998-2008\n",
              "12          2005-?\n",
              "13          1986-?\n",
              "14    1997-present\n",
              "15       2012-2013\n",
              "16          1991-?\n",
              "17    2009-present\n",
              "18    2014-present\n",
              "19       1997-1998\n",
              "20       1999-2008\n",
              "21          2002-?\n",
              "22          1989-?\n",
              "23       2004-2007\n",
              "24    2007-present\n",
              "25       2004-2012\n",
              "Name: active, dtype: object"
            ]
          },
          "metadata": {},
          "execution_count": 23
        }
      ],
      "source": [
        "bands['active'].head(50)"
      ]
    },
    {
      "cell_type": "markdown",
      "id": "a78c0ca6-5d94-4c0c-99f7-d0777f43442e",
      "metadata": {
        "tags": [],
        "id": "a78c0ca6-5d94-4c0c-99f7-d0777f43442e"
      },
      "source": [
        "#### Solution active_from\n",
        "We will use method pandas.Series.str.extract to extract the value we want from the string.  \n",
        "For active_from column we want year that stand before - character (**1998**-present).  \n",
        "The regex that will help us capture it is **\\d{4}-** where \\d represents digit and {4} says we want 4 digits, and - represents -.  \n",
        "Notice that our regex has () brackets **(**\\d{4}**)**- which means we want our regex to match '1998-' but we only want to capture '1998'"
      ]
    },
    {
      "cell_type": "code",
      "execution_count": null,
      "id": "07b3cb49-66b1-4a64-a049-617a734ec03f",
      "metadata": {
        "id": "07b3cb49-66b1-4a64-a049-617a734ec03f",
        "colab": {
          "base_uri": "https://localhost:8080/"
        },
        "outputId": "8cc02a47-802d-4299-b8d6-78aaad45af82"
      },
      "outputs": [
        {
          "output_type": "execute_result",
          "data": {
            "text/plain": [
              "0     2005\n",
              "1     1988\n",
              "2     1993\n",
              "3     2010\n",
              "4     1991\n",
              "5     2013\n",
              "6     2001\n",
              "7     2001\n",
              "8     2001\n",
              "9     2006\n",
              "10    2010\n",
              "11    1998\n",
              "12    2005\n",
              "13    1986\n",
              "14    1997\n",
              "15    2012\n",
              "16    1991\n",
              "17    2009\n",
              "18    2014\n",
              "19    1997\n",
              "20    1999\n",
              "21    2002\n",
              "22    1989\n",
              "23    2004\n",
              "24    2007\n",
              "25    2004\n",
              "Name: active_from, dtype: object"
            ]
          },
          "metadata": {},
          "execution_count": 25
        }
      ],
      "source": [
        "bands['active_from'] = bands.loc[:,'active'].str.extract(r'(\\d{4})-')\n",
        "bands['active_from'] "
      ]
    },
    {
      "cell_type": "markdown",
      "id": "0231f0a1-7c46-4dc9-8470-a1eec8f01bc5",
      "metadata": {
        "tags": [],
        "id": "0231f0a1-7c46-4dc9-8470-a1eec8f01bc5"
      },
      "source": [
        "#### Solution active_to\n",
        "We will use method pandas.Series.str.extract to extract the value we want from the string.  \n",
        "For active_to column we want year(or ? or present) that stand after - character (1998-**present**).  \n",
        "The regex that will help us capture it is **-\\d{4}|present|\\?** where - represents -, \\d represents digit and {4} says we want 4 digits, present represents present and \\? represents ?.  \n",
        "The | sign between them says we want to capture either one of 3 paterns (or|or|or).  \n",
        "Notice that our regex has () brackets -**(**\\d{4}|present|\\?**)** which means we want our regex to match '-present' but we only want to capture 'present'"
      ]
    },
    {
      "cell_type": "code",
      "execution_count": null,
      "id": "f83d3feb-5c9a-41c5-973c-1553e4bf2d94",
      "metadata": {
        "id": "f83d3feb-5c9a-41c5-973c-1553e4bf2d94",
        "colab": {
          "base_uri": "https://localhost:8080/"
        },
        "outputId": "f4e51945-1f14-40e1-867b-82d83661ae32"
      },
      "outputs": [
        {
          "output_type": "execute_result",
          "data": {
            "text/plain": [
              "0     present\n",
              "1        1992\n",
              "2     present\n",
              "3     present\n",
              "4        2002\n",
              "5     present\n",
              "6     present\n",
              "7        2007\n",
              "8        2006\n",
              "9        2013\n",
              "10       2011\n",
              "11       2008\n",
              "12          ?\n",
              "13          ?\n",
              "14    present\n",
              "15       2013\n",
              "16          ?\n",
              "17    present\n",
              "18    present\n",
              "19       1998\n",
              "20       2008\n",
              "21          ?\n",
              "22          ?\n",
              "23       2007\n",
              "24    present\n",
              "25       2012\n",
              "Name: active_to, dtype: object"
            ]
          },
          "metadata": {},
          "execution_count": 26
        }
      ],
      "source": [
        "bands['active_to'] = bands.loc[:,'active'].str.extract(r'-(\\d{4}|present|\\?)')\n",
        "bands['active_to']"
      ]
    },
    {
      "cell_type": "code",
      "execution_count": null,
      "id": "33eca4ac-3841-40cb-a69b-aeb52723cb6a",
      "metadata": {
        "id": "33eca4ac-3841-40cb-a69b-aeb52723cb6a",
        "colab": {
          "base_uri": "https://localhost:8080/",
          "height": 206
        },
        "outputId": "ede76d51-2f3e-4518-f48c-04c1a92b8349"
      },
      "outputs": [
        {
          "output_type": "execute_result",
          "data": {
            "text/plain": [
              "         active active_from active_to\n",
              "0  2005-present        2005   present\n",
              "1     1988-1992        1988      1992\n",
              "2  1993-present        1993   present\n",
              "3  2010-present        2010   present\n",
              "4     1991-2002        1991      2002"
            ],
            "text/html": [
              "\n",
              "  <div id=\"df-5569643b-230e-4310-b6ea-965e178127fc\">\n",
              "    <div class=\"colab-df-container\">\n",
              "      <div>\n",
              "<style scoped>\n",
              "    .dataframe tbody tr th:only-of-type {\n",
              "        vertical-align: middle;\n",
              "    }\n",
              "\n",
              "    .dataframe tbody tr th {\n",
              "        vertical-align: top;\n",
              "    }\n",
              "\n",
              "    .dataframe thead th {\n",
              "        text-align: right;\n",
              "    }\n",
              "</style>\n",
              "<table border=\"1\" class=\"dataframe\">\n",
              "  <thead>\n",
              "    <tr style=\"text-align: right;\">\n",
              "      <th></th>\n",
              "      <th>active</th>\n",
              "      <th>active_from</th>\n",
              "      <th>active_to</th>\n",
              "    </tr>\n",
              "  </thead>\n",
              "  <tbody>\n",
              "    <tr>\n",
              "      <th>0</th>\n",
              "      <td>2005-present</td>\n",
              "      <td>2005</td>\n",
              "      <td>present</td>\n",
              "    </tr>\n",
              "    <tr>\n",
              "      <th>1</th>\n",
              "      <td>1988-1992</td>\n",
              "      <td>1988</td>\n",
              "      <td>1992</td>\n",
              "    </tr>\n",
              "    <tr>\n",
              "      <th>2</th>\n",
              "      <td>1993-present</td>\n",
              "      <td>1993</td>\n",
              "      <td>present</td>\n",
              "    </tr>\n",
              "    <tr>\n",
              "      <th>3</th>\n",
              "      <td>2010-present</td>\n",
              "      <td>2010</td>\n",
              "      <td>present</td>\n",
              "    </tr>\n",
              "    <tr>\n",
              "      <th>4</th>\n",
              "      <td>1991-2002</td>\n",
              "      <td>1991</td>\n",
              "      <td>2002</td>\n",
              "    </tr>\n",
              "  </tbody>\n",
              "</table>\n",
              "</div>\n",
              "      <button class=\"colab-df-convert\" onclick=\"convertToInteractive('df-5569643b-230e-4310-b6ea-965e178127fc')\"\n",
              "              title=\"Convert this dataframe to an interactive table.\"\n",
              "              style=\"display:none;\">\n",
              "        \n",
              "  <svg xmlns=\"http://www.w3.org/2000/svg\" height=\"24px\"viewBox=\"0 0 24 24\"\n",
              "       width=\"24px\">\n",
              "    <path d=\"M0 0h24v24H0V0z\" fill=\"none\"/>\n",
              "    <path d=\"M18.56 5.44l.94 2.06.94-2.06 2.06-.94-2.06-.94-.94-2.06-.94 2.06-2.06.94zm-11 1L8.5 8.5l.94-2.06 2.06-.94-2.06-.94L8.5 2.5l-.94 2.06-2.06.94zm10 10l.94 2.06.94-2.06 2.06-.94-2.06-.94-.94-2.06-.94 2.06-2.06.94z\"/><path d=\"M17.41 7.96l-1.37-1.37c-.4-.4-.92-.59-1.43-.59-.52 0-1.04.2-1.43.59L10.3 9.45l-7.72 7.72c-.78.78-.78 2.05 0 2.83L4 21.41c.39.39.9.59 1.41.59.51 0 1.02-.2 1.41-.59l7.78-7.78 2.81-2.81c.8-.78.8-2.07 0-2.86zM5.41 20L4 18.59l7.72-7.72 1.47 1.35L5.41 20z\"/>\n",
              "  </svg>\n",
              "      </button>\n",
              "      \n",
              "  <style>\n",
              "    .colab-df-container {\n",
              "      display:flex;\n",
              "      flex-wrap:wrap;\n",
              "      gap: 12px;\n",
              "    }\n",
              "\n",
              "    .colab-df-convert {\n",
              "      background-color: #E8F0FE;\n",
              "      border: none;\n",
              "      border-radius: 50%;\n",
              "      cursor: pointer;\n",
              "      display: none;\n",
              "      fill: #1967D2;\n",
              "      height: 32px;\n",
              "      padding: 0 0 0 0;\n",
              "      width: 32px;\n",
              "    }\n",
              "\n",
              "    .colab-df-convert:hover {\n",
              "      background-color: #E2EBFA;\n",
              "      box-shadow: 0px 1px 2px rgba(60, 64, 67, 0.3), 0px 1px 3px 1px rgba(60, 64, 67, 0.15);\n",
              "      fill: #174EA6;\n",
              "    }\n",
              "\n",
              "    [theme=dark] .colab-df-convert {\n",
              "      background-color: #3B4455;\n",
              "      fill: #D2E3FC;\n",
              "    }\n",
              "\n",
              "    [theme=dark] .colab-df-convert:hover {\n",
              "      background-color: #434B5C;\n",
              "      box-shadow: 0px 1px 3px 1px rgba(0, 0, 0, 0.15);\n",
              "      filter: drop-shadow(0px 1px 2px rgba(0, 0, 0, 0.3));\n",
              "      fill: #FFFFFF;\n",
              "    }\n",
              "  </style>\n",
              "\n",
              "      <script>\n",
              "        const buttonEl =\n",
              "          document.querySelector('#df-5569643b-230e-4310-b6ea-965e178127fc button.colab-df-convert');\n",
              "        buttonEl.style.display =\n",
              "          google.colab.kernel.accessAllowed ? 'block' : 'none';\n",
              "\n",
              "        async function convertToInteractive(key) {\n",
              "          const element = document.querySelector('#df-5569643b-230e-4310-b6ea-965e178127fc');\n",
              "          const dataTable =\n",
              "            await google.colab.kernel.invokeFunction('convertToInteractive',\n",
              "                                                     [key], {});\n",
              "          if (!dataTable) return;\n",
              "\n",
              "          const docLinkHtml = 'Like what you see? Visit the ' +\n",
              "            '<a target=\"_blank\" href=https://colab.research.google.com/notebooks/data_table.ipynb>data table notebook</a>'\n",
              "            + ' to learn more about interactive tables.';\n",
              "          element.innerHTML = '';\n",
              "          dataTable['output_type'] = 'display_data';\n",
              "          await google.colab.output.renderOutput(dataTable, element);\n",
              "          const docLink = document.createElement('div');\n",
              "          docLink.innerHTML = docLinkHtml;\n",
              "          element.appendChild(docLink);\n",
              "        }\n",
              "      </script>\n",
              "    </div>\n",
              "  </div>\n",
              "  "
            ]
          },
          "metadata": {},
          "execution_count": 27
        }
      ],
      "source": [
        "bands[['active','active_from','active_to']].head(5)"
      ]
    },
    {
      "cell_type": "markdown",
      "id": "0dda4368-b84b-4e0a-9cf7-7b6b0e8d22c1",
      "metadata": {
        "tags": [],
        "id": "0dda4368-b84b-4e0a-9cf7-7b6b0e8d22c1"
      },
      "source": [
        "### **Exercise 6** \n",
        "Counting the themes\n",
        "\n",
        "Count how many times do the words Love, Life, Death repeat in a themes column.  \n",
        "Method you can use is:  \n",
        "pandas.Series.str.count -> https://pandas.pydata.org/docs/reference/api/pandas.Series.str.count.html  "
      ]
    },
    {
      "cell_type": "code",
      "execution_count": null,
      "id": "04397ff2-74a5-4593-9593-04538acdbada",
      "metadata": {
        "id": "04397ff2-74a5-4593-9593-04538acdbada",
        "colab": {
          "base_uri": "https://localhost:8080/"
        },
        "outputId": "4f3ef65a-bfce-4f5b-e419-03881bed8fcc"
      },
      "outputs": [
        {
          "output_type": "execute_result",
          "data": {
            "text/plain": [
              "0                Death| Love| Life| Evil| Darker Tones\n",
              "1              Metaphysical Philosophy| Parapsychology\n",
              "2                                 Sadness| Life| Death\n",
              "3                   Death| Destruction| War| Decadence\n",
              "4    Loneliness philosophy| state of mind of the pe...\n",
              "Name: theme, dtype: object"
            ]
          },
          "metadata": {},
          "execution_count": 28
        }
      ],
      "source": [
        "bands['theme'].head(5)"
      ]
    },
    {
      "cell_type": "markdown",
      "id": "9635d362-60a1-4bf9-9ee6-386adbe09cf8",
      "metadata": {
        "tags": [],
        "id": "9635d362-60a1-4bf9-9ee6-386adbe09cf8"
      },
      "source": [
        "#### Solution\n",
        "We will use method pandas.Series.str.count to count the occurances of words in each row and then we will use sum() to summarize all rows"
      ]
    },
    {
      "cell_type": "code",
      "execution_count": null,
      "id": "40a4fe42-9ba7-42c7-a1fc-2b8f33213095",
      "metadata": {
        "id": "40a4fe42-9ba7-42c7-a1fc-2b8f33213095",
        "colab": {
          "base_uri": "https://localhost:8080/"
        },
        "outputId": "1f635856-202c-4418-ca2f-6de605eac21d"
      },
      "outputs": [
        {
          "output_type": "execute_result",
          "data": {
            "text/plain": [
              "12"
            ]
          },
          "metadata": {},
          "execution_count": 29
        }
      ],
      "source": [
        "bands['theme'].str.count('Death').sum()"
      ]
    },
    {
      "cell_type": "code",
      "execution_count": null,
      "id": "4d46d217-a7a3-4b74-be0e-86b2edc19b31",
      "metadata": {
        "id": "4d46d217-a7a3-4b74-be0e-86b2edc19b31",
        "colab": {
          "base_uri": "https://localhost:8080/"
        },
        "outputId": "05733241-f3e2-4700-95d2-b7a4834a34e5"
      },
      "outputs": [
        {
          "output_type": "execute_result",
          "data": {
            "text/plain": [
              "3"
            ]
          },
          "metadata": {},
          "execution_count": 30
        }
      ],
      "source": [
        "bands['theme'].str.count('Love').sum()"
      ]
    },
    {
      "cell_type": "code",
      "execution_count": null,
      "id": "1d96f588-6fc7-430a-a39c-fe3dd2a8fad9",
      "metadata": {
        "id": "1d96f588-6fc7-430a-a39c-fe3dd2a8fad9",
        "colab": {
          "base_uri": "https://localhost:8080/"
        },
        "outputId": "6deca30b-36a2-45e7-d42b-9682b3a75193"
      },
      "outputs": [
        {
          "output_type": "execute_result",
          "data": {
            "text/plain": [
              "4"
            ]
          },
          "metadata": {},
          "execution_count": 31
        }
      ],
      "source": [
        "bands['theme'].str.count('Life').sum()"
      ]
    },
    {
      "cell_type": "markdown",
      "id": "53cf911a-6e27-49de-9500-35a17c190a76",
      "metadata": {
        "id": "53cf911a-6e27-49de-9500-35a17c190a76"
      },
      "source": [
        "## Final result"
      ]
    },
    {
      "cell_type": "code",
      "execution_count": null,
      "id": "85d97274-40b0-4555-941a-0eaf9baaf53e",
      "metadata": {
        "id": "85d97274-40b0-4555-941a-0eaf9baaf53e",
        "colab": {
          "base_uri": "https://localhost:8080/",
          "height": 1000
        },
        "outputId": "f3e11e14-9ecc-45c7-d859-a50030824adb"
      },
      "outputs": [
        {
          "output_type": "execute_result",
          "data": {
            "text/plain": [
              "                  name         country        status  formed_in  \\\n",
              "0   Act of Destruction   United States        Active     2005.0   \n",
              "1         Nirvana 2002          Sweden      Split-up     1988.0   \n",
              "2               Olemus         Austria        Active     1993.0   \n",
              "3          Misanthrope          Mexico       On hold     2010.0   \n",
              "4            Detonator          Russia      Split-up     1991.0   \n",
              "5          Blood Agent         Germany        Active     2013.0   \n",
              "6           Traumagain           Italy        Active     2001.0   \n",
              "7           Anaktorian         Finland      Split-up     2001.0   \n",
              "8               Revolt           Italy  Changed name     2001.0   \n",
              "9           Coldworker          Sweden      Split-up     2006.0   \n",
              "10       Total Carnage     Switzerland      Split-up     2010.0   \n",
              "11       The Awakening         Germany      Split-up     1998.0   \n",
              "12        Feu Gregeois          France  Changed name     2005.0   \n",
              "13             Nemesis        Colombia      Split-up     1986.0   \n",
              "14           Grind 6|4  Czech Republic        Active     1997.0   \n",
              "15         Gloomlurker  United Kingdom      Split-up     2012.0   \n",
              "16                Dark         Germany      Split-up     1991.0   \n",
              "17              Midian    Korea| South        Active     2009.0   \n",
              "18           Desecrate        Malaysia        Active     2014.0   \n",
              "19              Mortum          Sweden      Split-up     1997.0   \n",
              "20      A Cold Reality   United States      Split-up     1999.0   \n",
              "21      Cast the Stone   United States       Unknown     2002.0   \n",
              "22         Persecution       Australia      Split-up     1989.0   \n",
              "23         Stigmatizer         Germany      Split-up     2004.0   \n",
              "24            Ravenage  United Kingdom        Active     2007.0   \n",
              "25            Riverden   United States       On hold     2004.0   \n",
              "\n",
              "                                                genre  \\\n",
              "0                       [Melodic Death, Thrash Metal]   \n",
              "1                                       [Death Metal]   \n",
              "2                        [Death, Black, Gothic Metal]   \n",
              "3                                       [Death Metal]   \n",
              "4                     [Technical Death, Thrash Metal]   \n",
              "5                               [Death, Thrash Metal]   \n",
              "6                                [Brutal Death Metal]   \n",
              "7                               [Melodic Death Metal]   \n",
              "8                               [Death, Thrash Metal]   \n",
              "9                                       [Death Metal]   \n",
              "10                               [Death Metal, Crust]   \n",
              "11                                      [Death Metal]   \n",
              "12                               [Black, Death Metal]   \n",
              "13                              [Death, Thrash Metal]   \n",
              "14                    [Brutal Death Metal, Grindcore]   \n",
              "15                        [Melodic Death, Doom Metal]   \n",
              "16  [Death, Thrash Metal (early)| Dark, Gothic Met...   \n",
              "17                              [Melodic Death Metal]   \n",
              "18                 [Death, Thrash, Progressive Metal]   \n",
              "19                       [Melodic Death, Black Metal]   \n",
              "20                              [Thrash, Death Metal]   \n",
              "21                                      [Death Metal]   \n",
              "22                                      [Death Metal]   \n",
              "23                                      [Death Metal]   \n",
              "24                        [Folk, Melodic Death Metal]   \n",
              "25                              [Thrash, Death Metal]   \n",
              "\n",
              "                                                theme        active  \\\n",
              "0               Death| Love| Life| Evil| Darker Tones  2005-present   \n",
              "1             Metaphysical Philosophy| Parapsychology     1988-1992   \n",
              "2                                Sadness| Life| Death  1993-present   \n",
              "3                  Death| Destruction| War| Decadence  2010-present   \n",
              "4   Loneliness philosophy| state of mind of the pe...     1991-2002   \n",
              "5                              War| Death| Apocalypse  2013-present   \n",
              "6                                     Nihilism| Death  2001-present   \n",
              "7                               Death| emotions| pain     2001-2007   \n",
              "8                                       Society| Hate     2001-2006   \n",
              "9                                               Death     2006-2013   \n",
              "10              Post-Apocalypse| Nuclear Warfare| WW3     2010-2011   \n",
              "11   Human existence| Apocalyptic visions| Nightmares     1998-2008   \n",
              "12                                    Medieval themes        2005-?   \n",
              "13                                     Destiny| Death        1986-?   \n",
              "14                                  Working accidents  1997-present   \n",
              "15                     Death| Curses| Strength| Power     2012-2013   \n",
              "16                 Darkness| Depression| Nature| Love        1991-?   \n",
              "17                        Despair| Salvation| Duality  2009-present   \n",
              "18                                 Anti Nuclear Power  2014-present   \n",
              "19                               Love| Death| Fantasy     1997-1998   \n",
              "20                 Corruption| Society| Relationships     1999-2008   \n",
              "21                                  Death| Corruption        2002-?   \n",
              "22                                  Political| Social        1989-?   \n",
              "23                               Life| Death| Society     2004-2007   \n",
              "24                                 Battles| Mythology  2007-present   \n",
              "25                 Life| Experiences| Nature| History     2004-2012   \n",
              "\n",
              "    number_of_genres active_from active_to  \n",
              "0                  2        2005   present  \n",
              "1                  1        1988      1992  \n",
              "2                  3        1993   present  \n",
              "3                  1        2010   present  \n",
              "4                  2        1991      2002  \n",
              "5                  2        2013   present  \n",
              "6                  1        2001   present  \n",
              "7                  1        2001      2007  \n",
              "8                  2        2001      2006  \n",
              "9                  1        2006      2013  \n",
              "10                 2        2010      2011  \n",
              "11                 1        1998      2008  \n",
              "12                 2        2005         ?  \n",
              "13                 2        1986         ?  \n",
              "14                 2        1997   present  \n",
              "15                 2        2012      2013  \n",
              "16                 3        1991         ?  \n",
              "17                 1        2009   present  \n",
              "18                 3        2014   present  \n",
              "19                 2        1997      1998  \n",
              "20                 2        1999      2008  \n",
              "21                 1        2002         ?  \n",
              "22                 1        1989         ?  \n",
              "23                 1        2004      2007  \n",
              "24                 2        2007   present  \n",
              "25                 2        2004      2012  "
            ],
            "text/html": [
              "\n",
              "  <div id=\"df-9ea6c667-147d-4135-99f7-ce3e89d9ffa8\">\n",
              "    <div class=\"colab-df-container\">\n",
              "      <div>\n",
              "<style scoped>\n",
              "    .dataframe tbody tr th:only-of-type {\n",
              "        vertical-align: middle;\n",
              "    }\n",
              "\n",
              "    .dataframe tbody tr th {\n",
              "        vertical-align: top;\n",
              "    }\n",
              "\n",
              "    .dataframe thead th {\n",
              "        text-align: right;\n",
              "    }\n",
              "</style>\n",
              "<table border=\"1\" class=\"dataframe\">\n",
              "  <thead>\n",
              "    <tr style=\"text-align: right;\">\n",
              "      <th></th>\n",
              "      <th>name</th>\n",
              "      <th>country</th>\n",
              "      <th>status</th>\n",
              "      <th>formed_in</th>\n",
              "      <th>genre</th>\n",
              "      <th>theme</th>\n",
              "      <th>active</th>\n",
              "      <th>number_of_genres</th>\n",
              "      <th>active_from</th>\n",
              "      <th>active_to</th>\n",
              "    </tr>\n",
              "  </thead>\n",
              "  <tbody>\n",
              "    <tr>\n",
              "      <th>0</th>\n",
              "      <td>Act of Destruction</td>\n",
              "      <td>United States</td>\n",
              "      <td>Active</td>\n",
              "      <td>2005.0</td>\n",
              "      <td>[Melodic Death, Thrash Metal]</td>\n",
              "      <td>Death| Love| Life| Evil| Darker Tones</td>\n",
              "      <td>2005-present</td>\n",
              "      <td>2</td>\n",
              "      <td>2005</td>\n",
              "      <td>present</td>\n",
              "    </tr>\n",
              "    <tr>\n",
              "      <th>1</th>\n",
              "      <td>Nirvana 2002</td>\n",
              "      <td>Sweden</td>\n",
              "      <td>Split-up</td>\n",
              "      <td>1988.0</td>\n",
              "      <td>[Death Metal]</td>\n",
              "      <td>Metaphysical Philosophy| Parapsychology</td>\n",
              "      <td>1988-1992</td>\n",
              "      <td>1</td>\n",
              "      <td>1988</td>\n",
              "      <td>1992</td>\n",
              "    </tr>\n",
              "    <tr>\n",
              "      <th>2</th>\n",
              "      <td>Olemus</td>\n",
              "      <td>Austria</td>\n",
              "      <td>Active</td>\n",
              "      <td>1993.0</td>\n",
              "      <td>[Death, Black, Gothic Metal]</td>\n",
              "      <td>Sadness| Life| Death</td>\n",
              "      <td>1993-present</td>\n",
              "      <td>3</td>\n",
              "      <td>1993</td>\n",
              "      <td>present</td>\n",
              "    </tr>\n",
              "    <tr>\n",
              "      <th>3</th>\n",
              "      <td>Misanthrope</td>\n",
              "      <td>Mexico</td>\n",
              "      <td>On hold</td>\n",
              "      <td>2010.0</td>\n",
              "      <td>[Death Metal]</td>\n",
              "      <td>Death| Destruction| War| Decadence</td>\n",
              "      <td>2010-present</td>\n",
              "      <td>1</td>\n",
              "      <td>2010</td>\n",
              "      <td>present</td>\n",
              "    </tr>\n",
              "    <tr>\n",
              "      <th>4</th>\n",
              "      <td>Detonator</td>\n",
              "      <td>Russia</td>\n",
              "      <td>Split-up</td>\n",
              "      <td>1991.0</td>\n",
              "      <td>[Technical Death, Thrash Metal]</td>\n",
              "      <td>Loneliness philosophy| state of mind of the pe...</td>\n",
              "      <td>1991-2002</td>\n",
              "      <td>2</td>\n",
              "      <td>1991</td>\n",
              "      <td>2002</td>\n",
              "    </tr>\n",
              "    <tr>\n",
              "      <th>5</th>\n",
              "      <td>Blood Agent</td>\n",
              "      <td>Germany</td>\n",
              "      <td>Active</td>\n",
              "      <td>2013.0</td>\n",
              "      <td>[Death, Thrash Metal]</td>\n",
              "      <td>War| Death| Apocalypse</td>\n",
              "      <td>2013-present</td>\n",
              "      <td>2</td>\n",
              "      <td>2013</td>\n",
              "      <td>present</td>\n",
              "    </tr>\n",
              "    <tr>\n",
              "      <th>6</th>\n",
              "      <td>Traumagain</td>\n",
              "      <td>Italy</td>\n",
              "      <td>Active</td>\n",
              "      <td>2001.0</td>\n",
              "      <td>[Brutal Death Metal]</td>\n",
              "      <td>Nihilism| Death</td>\n",
              "      <td>2001-present</td>\n",
              "      <td>1</td>\n",
              "      <td>2001</td>\n",
              "      <td>present</td>\n",
              "    </tr>\n",
              "    <tr>\n",
              "      <th>7</th>\n",
              "      <td>Anaktorian</td>\n",
              "      <td>Finland</td>\n",
              "      <td>Split-up</td>\n",
              "      <td>2001.0</td>\n",
              "      <td>[Melodic Death Metal]</td>\n",
              "      <td>Death| emotions| pain</td>\n",
              "      <td>2001-2007</td>\n",
              "      <td>1</td>\n",
              "      <td>2001</td>\n",
              "      <td>2007</td>\n",
              "    </tr>\n",
              "    <tr>\n",
              "      <th>8</th>\n",
              "      <td>Revolt</td>\n",
              "      <td>Italy</td>\n",
              "      <td>Changed name</td>\n",
              "      <td>2001.0</td>\n",
              "      <td>[Death, Thrash Metal]</td>\n",
              "      <td>Society| Hate</td>\n",
              "      <td>2001-2006</td>\n",
              "      <td>2</td>\n",
              "      <td>2001</td>\n",
              "      <td>2006</td>\n",
              "    </tr>\n",
              "    <tr>\n",
              "      <th>9</th>\n",
              "      <td>Coldworker</td>\n",
              "      <td>Sweden</td>\n",
              "      <td>Split-up</td>\n",
              "      <td>2006.0</td>\n",
              "      <td>[Death Metal]</td>\n",
              "      <td>Death</td>\n",
              "      <td>2006-2013</td>\n",
              "      <td>1</td>\n",
              "      <td>2006</td>\n",
              "      <td>2013</td>\n",
              "    </tr>\n",
              "    <tr>\n",
              "      <th>10</th>\n",
              "      <td>Total Carnage</td>\n",
              "      <td>Switzerland</td>\n",
              "      <td>Split-up</td>\n",
              "      <td>2010.0</td>\n",
              "      <td>[Death Metal, Crust]</td>\n",
              "      <td>Post-Apocalypse| Nuclear Warfare| WW3</td>\n",
              "      <td>2010-2011</td>\n",
              "      <td>2</td>\n",
              "      <td>2010</td>\n",
              "      <td>2011</td>\n",
              "    </tr>\n",
              "    <tr>\n",
              "      <th>11</th>\n",
              "      <td>The Awakening</td>\n",
              "      <td>Germany</td>\n",
              "      <td>Split-up</td>\n",
              "      <td>1998.0</td>\n",
              "      <td>[Death Metal]</td>\n",
              "      <td>Human existence| Apocalyptic visions| Nightmares</td>\n",
              "      <td>1998-2008</td>\n",
              "      <td>1</td>\n",
              "      <td>1998</td>\n",
              "      <td>2008</td>\n",
              "    </tr>\n",
              "    <tr>\n",
              "      <th>12</th>\n",
              "      <td>Feu Gregeois</td>\n",
              "      <td>France</td>\n",
              "      <td>Changed name</td>\n",
              "      <td>2005.0</td>\n",
              "      <td>[Black, Death Metal]</td>\n",
              "      <td>Medieval themes</td>\n",
              "      <td>2005-?</td>\n",
              "      <td>2</td>\n",
              "      <td>2005</td>\n",
              "      <td>?</td>\n",
              "    </tr>\n",
              "    <tr>\n",
              "      <th>13</th>\n",
              "      <td>Nemesis</td>\n",
              "      <td>Colombia</td>\n",
              "      <td>Split-up</td>\n",
              "      <td>1986.0</td>\n",
              "      <td>[Death, Thrash Metal]</td>\n",
              "      <td>Destiny| Death</td>\n",
              "      <td>1986-?</td>\n",
              "      <td>2</td>\n",
              "      <td>1986</td>\n",
              "      <td>?</td>\n",
              "    </tr>\n",
              "    <tr>\n",
              "      <th>14</th>\n",
              "      <td>Grind 6|4</td>\n",
              "      <td>Czech Republic</td>\n",
              "      <td>Active</td>\n",
              "      <td>1997.0</td>\n",
              "      <td>[Brutal Death Metal, Grindcore]</td>\n",
              "      <td>Working accidents</td>\n",
              "      <td>1997-present</td>\n",
              "      <td>2</td>\n",
              "      <td>1997</td>\n",
              "      <td>present</td>\n",
              "    </tr>\n",
              "    <tr>\n",
              "      <th>15</th>\n",
              "      <td>Gloomlurker</td>\n",
              "      <td>United Kingdom</td>\n",
              "      <td>Split-up</td>\n",
              "      <td>2012.0</td>\n",
              "      <td>[Melodic Death, Doom Metal]</td>\n",
              "      <td>Death| Curses| Strength| Power</td>\n",
              "      <td>2012-2013</td>\n",
              "      <td>2</td>\n",
              "      <td>2012</td>\n",
              "      <td>2013</td>\n",
              "    </tr>\n",
              "    <tr>\n",
              "      <th>16</th>\n",
              "      <td>Dark</td>\n",
              "      <td>Germany</td>\n",
              "      <td>Split-up</td>\n",
              "      <td>1991.0</td>\n",
              "      <td>[Death, Thrash Metal (early)| Dark, Gothic Met...</td>\n",
              "      <td>Darkness| Depression| Nature| Love</td>\n",
              "      <td>1991-?</td>\n",
              "      <td>3</td>\n",
              "      <td>1991</td>\n",
              "      <td>?</td>\n",
              "    </tr>\n",
              "    <tr>\n",
              "      <th>17</th>\n",
              "      <td>Midian</td>\n",
              "      <td>Korea| South</td>\n",
              "      <td>Active</td>\n",
              "      <td>2009.0</td>\n",
              "      <td>[Melodic Death Metal]</td>\n",
              "      <td>Despair| Salvation| Duality</td>\n",
              "      <td>2009-present</td>\n",
              "      <td>1</td>\n",
              "      <td>2009</td>\n",
              "      <td>present</td>\n",
              "    </tr>\n",
              "    <tr>\n",
              "      <th>18</th>\n",
              "      <td>Desecrate</td>\n",
              "      <td>Malaysia</td>\n",
              "      <td>Active</td>\n",
              "      <td>2014.0</td>\n",
              "      <td>[Death, Thrash, Progressive Metal]</td>\n",
              "      <td>Anti Nuclear Power</td>\n",
              "      <td>2014-present</td>\n",
              "      <td>3</td>\n",
              "      <td>2014</td>\n",
              "      <td>present</td>\n",
              "    </tr>\n",
              "    <tr>\n",
              "      <th>19</th>\n",
              "      <td>Mortum</td>\n",
              "      <td>Sweden</td>\n",
              "      <td>Split-up</td>\n",
              "      <td>1997.0</td>\n",
              "      <td>[Melodic Death, Black Metal]</td>\n",
              "      <td>Love| Death| Fantasy</td>\n",
              "      <td>1997-1998</td>\n",
              "      <td>2</td>\n",
              "      <td>1997</td>\n",
              "      <td>1998</td>\n",
              "    </tr>\n",
              "    <tr>\n",
              "      <th>20</th>\n",
              "      <td>A Cold Reality</td>\n",
              "      <td>United States</td>\n",
              "      <td>Split-up</td>\n",
              "      <td>1999.0</td>\n",
              "      <td>[Thrash, Death Metal]</td>\n",
              "      <td>Corruption| Society| Relationships</td>\n",
              "      <td>1999-2008</td>\n",
              "      <td>2</td>\n",
              "      <td>1999</td>\n",
              "      <td>2008</td>\n",
              "    </tr>\n",
              "    <tr>\n",
              "      <th>21</th>\n",
              "      <td>Cast the Stone</td>\n",
              "      <td>United States</td>\n",
              "      <td>Unknown</td>\n",
              "      <td>2002.0</td>\n",
              "      <td>[Death Metal]</td>\n",
              "      <td>Death| Corruption</td>\n",
              "      <td>2002-?</td>\n",
              "      <td>1</td>\n",
              "      <td>2002</td>\n",
              "      <td>?</td>\n",
              "    </tr>\n",
              "    <tr>\n",
              "      <th>22</th>\n",
              "      <td>Persecution</td>\n",
              "      <td>Australia</td>\n",
              "      <td>Split-up</td>\n",
              "      <td>1989.0</td>\n",
              "      <td>[Death Metal]</td>\n",
              "      <td>Political| Social</td>\n",
              "      <td>1989-?</td>\n",
              "      <td>1</td>\n",
              "      <td>1989</td>\n",
              "      <td>?</td>\n",
              "    </tr>\n",
              "    <tr>\n",
              "      <th>23</th>\n",
              "      <td>Stigmatizer</td>\n",
              "      <td>Germany</td>\n",
              "      <td>Split-up</td>\n",
              "      <td>2004.0</td>\n",
              "      <td>[Death Metal]</td>\n",
              "      <td>Life| Death| Society</td>\n",
              "      <td>2004-2007</td>\n",
              "      <td>1</td>\n",
              "      <td>2004</td>\n",
              "      <td>2007</td>\n",
              "    </tr>\n",
              "    <tr>\n",
              "      <th>24</th>\n",
              "      <td>Ravenage</td>\n",
              "      <td>United Kingdom</td>\n",
              "      <td>Active</td>\n",
              "      <td>2007.0</td>\n",
              "      <td>[Folk, Melodic Death Metal]</td>\n",
              "      <td>Battles| Mythology</td>\n",
              "      <td>2007-present</td>\n",
              "      <td>2</td>\n",
              "      <td>2007</td>\n",
              "      <td>present</td>\n",
              "    </tr>\n",
              "    <tr>\n",
              "      <th>25</th>\n",
              "      <td>Riverden</td>\n",
              "      <td>United States</td>\n",
              "      <td>On hold</td>\n",
              "      <td>2004.0</td>\n",
              "      <td>[Thrash, Death Metal]</td>\n",
              "      <td>Life| Experiences| Nature| History</td>\n",
              "      <td>2004-2012</td>\n",
              "      <td>2</td>\n",
              "      <td>2004</td>\n",
              "      <td>2012</td>\n",
              "    </tr>\n",
              "  </tbody>\n",
              "</table>\n",
              "</div>\n",
              "      <button class=\"colab-df-convert\" onclick=\"convertToInteractive('df-9ea6c667-147d-4135-99f7-ce3e89d9ffa8')\"\n",
              "              title=\"Convert this dataframe to an interactive table.\"\n",
              "              style=\"display:none;\">\n",
              "        \n",
              "  <svg xmlns=\"http://www.w3.org/2000/svg\" height=\"24px\"viewBox=\"0 0 24 24\"\n",
              "       width=\"24px\">\n",
              "    <path d=\"M0 0h24v24H0V0z\" fill=\"none\"/>\n",
              "    <path d=\"M18.56 5.44l.94 2.06.94-2.06 2.06-.94-2.06-.94-.94-2.06-.94 2.06-2.06.94zm-11 1L8.5 8.5l.94-2.06 2.06-.94-2.06-.94L8.5 2.5l-.94 2.06-2.06.94zm10 10l.94 2.06.94-2.06 2.06-.94-2.06-.94-.94-2.06-.94 2.06-2.06.94z\"/><path d=\"M17.41 7.96l-1.37-1.37c-.4-.4-.92-.59-1.43-.59-.52 0-1.04.2-1.43.59L10.3 9.45l-7.72 7.72c-.78.78-.78 2.05 0 2.83L4 21.41c.39.39.9.59 1.41.59.51 0 1.02-.2 1.41-.59l7.78-7.78 2.81-2.81c.8-.78.8-2.07 0-2.86zM5.41 20L4 18.59l7.72-7.72 1.47 1.35L5.41 20z\"/>\n",
              "  </svg>\n",
              "      </button>\n",
              "      \n",
              "  <style>\n",
              "    .colab-df-container {\n",
              "      display:flex;\n",
              "      flex-wrap:wrap;\n",
              "      gap: 12px;\n",
              "    }\n",
              "\n",
              "    .colab-df-convert {\n",
              "      background-color: #E8F0FE;\n",
              "      border: none;\n",
              "      border-radius: 50%;\n",
              "      cursor: pointer;\n",
              "      display: none;\n",
              "      fill: #1967D2;\n",
              "      height: 32px;\n",
              "      padding: 0 0 0 0;\n",
              "      width: 32px;\n",
              "    }\n",
              "\n",
              "    .colab-df-convert:hover {\n",
              "      background-color: #E2EBFA;\n",
              "      box-shadow: 0px 1px 2px rgba(60, 64, 67, 0.3), 0px 1px 3px 1px rgba(60, 64, 67, 0.15);\n",
              "      fill: #174EA6;\n",
              "    }\n",
              "\n",
              "    [theme=dark] .colab-df-convert {\n",
              "      background-color: #3B4455;\n",
              "      fill: #D2E3FC;\n",
              "    }\n",
              "\n",
              "    [theme=dark] .colab-df-convert:hover {\n",
              "      background-color: #434B5C;\n",
              "      box-shadow: 0px 1px 3px 1px rgba(0, 0, 0, 0.15);\n",
              "      filter: drop-shadow(0px 1px 2px rgba(0, 0, 0, 0.3));\n",
              "      fill: #FFFFFF;\n",
              "    }\n",
              "  </style>\n",
              "\n",
              "      <script>\n",
              "        const buttonEl =\n",
              "          document.querySelector('#df-9ea6c667-147d-4135-99f7-ce3e89d9ffa8 button.colab-df-convert');\n",
              "        buttonEl.style.display =\n",
              "          google.colab.kernel.accessAllowed ? 'block' : 'none';\n",
              "\n",
              "        async function convertToInteractive(key) {\n",
              "          const element = document.querySelector('#df-9ea6c667-147d-4135-99f7-ce3e89d9ffa8');\n",
              "          const dataTable =\n",
              "            await google.colab.kernel.invokeFunction('convertToInteractive',\n",
              "                                                     [key], {});\n",
              "          if (!dataTable) return;\n",
              "\n",
              "          const docLinkHtml = 'Like what you see? Visit the ' +\n",
              "            '<a target=\"_blank\" href=https://colab.research.google.com/notebooks/data_table.ipynb>data table notebook</a>'\n",
              "            + ' to learn more about interactive tables.';\n",
              "          element.innerHTML = '';\n",
              "          dataTable['output_type'] = 'display_data';\n",
              "          await google.colab.output.renderOutput(dataTable, element);\n",
              "          const docLink = document.createElement('div');\n",
              "          docLink.innerHTML = docLinkHtml;\n",
              "          element.appendChild(docLink);\n",
              "        }\n",
              "      </script>\n",
              "    </div>\n",
              "  </div>\n",
              "  "
            ]
          },
          "metadata": {},
          "execution_count": 32
        }
      ],
      "source": [
        "bands"
      ]
    }
  ],
  "metadata": {
    "kernelspec": {
      "display_name": "Python 3 (ipykernel)",
      "language": "python",
      "name": "python3"
    },
    "language_info": {
      "codemirror_mode": {
        "name": "ipython",
        "version": 3
      },
      "file_extension": ".py",
      "mimetype": "text/x-python",
      "name": "python",
      "nbconvert_exporter": "python",
      "pygments_lexer": "ipython3",
      "version": "3.9.7"
    },
    "colab": {
      "provenance": []
    }
  },
  "nbformat": 4,
  "nbformat_minor": 5
}